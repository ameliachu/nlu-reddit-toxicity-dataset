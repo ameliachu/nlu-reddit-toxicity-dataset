{
 "cells": [
  {
   "cell_type": "markdown",
   "metadata": {},
   "source": [
    "### Interrater Reliability Assement Example Selection\n",
    "\n",
    "This notebook helps us randomly select examples to use for our initial interrater reliability assessments.\n",
    "Because our dataset is mostly non-toxic, we selected examples in a semi-random fashion. \n",
    "\n",
    "We use `.sample()` from `pandas` to randomly surface 10 examples at a time. If we believe the comment could be fall into one or more of our labelling categories."
   ]
  },
  {
   "cell_type": "markdown",
   "metadata": {},
   "source": [
    "#### Required Libraries"
   ]
  },
  {
   "cell_type": "code",
   "execution_count": 5,
   "metadata": {},
   "outputs": [],
   "source": [
    "import pandas as pd"
   ]
  },
  {
   "cell_type": "code",
   "execution_count": 6,
   "metadata": {},
   "outputs": [],
   "source": [
    "pd.set_option('max_colwidth', None) # Setting to be able to view teh entire comment"
   ]
  },
  {
   "cell_type": "markdown",
   "metadata": {},
   "source": [
    "#### Importing Dataset"
   ]
  },
  {
   "cell_type": "code",
   "execution_count": 7,
   "metadata": {},
   "outputs": [],
   "source": [
    "# Replace this location with where the repo is.\n",
    "repository_location = \"/Users/ameliachu/repos/nlu-reddit-toxicity-dataset\""
   ]
  },
  {
   "cell_type": "code",
   "execution_count": 8,
   "metadata": {},
   "outputs": [],
   "source": [
    "full_dataset_comments_path = f\"{repository_location}/data/gme_master_data_1611233441_1618627983.csv\""
   ]
  },
  {
   "cell_type": "code",
   "execution_count": 9,
   "metadata": {},
   "outputs": [],
   "source": [
    "full_dataset = pd.read_csv(full_dataset_comments_path)"
   ]
  },
  {
   "cell_type": "markdown",
   "metadata": {},
   "source": [
    "#### Looking at Examples Randomly Sampled 10 at a Time"
   ]
  },
  {
   "cell_type": "code",
   "execution_count": 8,
   "metadata": {},
   "outputs": [
    {
     "data": {
      "text/html": [
       "<div>\n",
       "<style scoped>\n",
       "    .dataframe tbody tr th:only-of-type {\n",
       "        vertical-align: middle;\n",
       "    }\n",
       "\n",
       "    .dataframe tbody tr th {\n",
       "        vertical-align: top;\n",
       "    }\n",
       "\n",
       "    .dataframe thead th {\n",
       "        text-align: right;\n",
       "    }\n",
       "</style>\n",
       "<table border=\"1\" class=\"dataframe\">\n",
       "  <thead>\n",
       "    <tr style=\"text-align: right;\">\n",
       "      <th></th>\n",
       "      <th>body</th>\n",
       "    </tr>\n",
       "  </thead>\n",
       "  <tbody>\n",
       "    <tr>\n",
       "      <th>105744</th>\n",
       "      <td>GIVE IT UP FOR THE POWER HALF HOUR</td>\n",
       "    </tr>\n",
       "    <tr>\n",
       "      <th>102746</th>\n",
       "      <td>or each other’s nuts.  no homo</td>\n",
       "    </tr>\n",
       "    <tr>\n",
       "      <th>8819</th>\n",
       "      <td>If you bought chicken Tendies for 5 dollars then some came up and offered you 2 dollars for them would you sell?</td>\n",
       "    </tr>\n",
       "    <tr>\n",
       "      <th>160776</th>\n",
       "      <td>I smell that smell. That smelly smell of something smelly is happening.</td>\n",
       "    </tr>\n",
       "    <tr>\n",
       "      <th>59953</th>\n",
       "      <td>Nice</td>\n",
       "    </tr>\n",
       "    <tr>\n",
       "      <th>29754</th>\n",
       "      <td>He doesn’t own any shares man</td>\n",
       "    </tr>\n",
       "    <tr>\n",
       "      <th>2484</th>\n",
       "      <td>Thought I was going to double my GME shares today. I was wrong.\\n\\n&amp;#x200B;\\n\\nI tripled them. Lets fucking go.</td>\n",
       "    </tr>\n",
       "    <tr>\n",
       "      <th>59269</th>\n",
       "      <td>...that’s not a thing</td>\n",
       "    </tr>\n",
       "    <tr>\n",
       "      <th>22515</th>\n",
       "      <td>If you bought GME at over 300...lol</td>\n",
       "    </tr>\n",
       "    <tr>\n",
       "      <th>69724</th>\n",
       "      <td>Posture check</td>\n",
       "    </tr>\n",
       "  </tbody>\n",
       "</table>\n",
       "</div>"
      ],
      "text/plain": [
       "                                                                                                                    body\n",
       "105744                                                                                GIVE IT UP FOR THE POWER HALF HOUR\n",
       "102746                                                                                    or each other’s nuts.  no homo\n",
       "8819    If you bought chicken Tendies for 5 dollars then some came up and offered you 2 dollars for them would you sell?\n",
       "160776                                           I smell that smell. That smelly smell of something smelly is happening.\n",
       "59953                                                                                                               Nice\n",
       "29754                                                                                      He doesn’t own any shares man\n",
       "2484     Thought I was going to double my GME shares today. I was wrong.\\n\\n&#x200B;\\n\\nI tripled them. Lets fucking go.\n",
       "59269                                                                                              ...that’s not a thing\n",
       "22515                                                                                If you bought GME at over 300...lol\n",
       "69724                                                                                                      Posture check"
      ]
     },
     "execution_count": 8,
     "metadata": {},
     "output_type": "execute_result"
    }
   ],
   "source": [
    "random_sample_10 = full_dataset[['body']].sample(10)\n",
    "random_sample_10"
   ]
  },
  {
   "cell_type": "code",
   "execution_count": 68,
   "metadata": {},
   "outputs": [
    {
     "data": {
      "text/html": [
       "<div>\n",
       "<style scoped>\n",
       "    .dataframe tbody tr th:only-of-type {\n",
       "        vertical-align: middle;\n",
       "    }\n",
       "\n",
       "    .dataframe tbody tr th {\n",
       "        vertical-align: top;\n",
       "    }\n",
       "\n",
       "    .dataframe thead th {\n",
       "        text-align: right;\n",
       "    }\n",
       "</style>\n",
       "<table border=\"1\" class=\"dataframe\">\n",
       "  <thead>\n",
       "    <tr style=\"text-align: right;\">\n",
       "      <th></th>\n",
       "      <th>body</th>\n",
       "    </tr>\n",
       "  </thead>\n",
       "  <tbody>\n",
       "    <tr>\n",
       "      <th>101291</th>\n",
       "      <td>hey guy with 10,000 share sell order at $26.65: fuck you</td>\n",
       "    </tr>\n",
       "    <tr>\n",
       "      <th>239690</th>\n",
       "      <td>Yep day trader SEC would come fuck your sister and take your money.</td>\n",
       "    </tr>\n",
       "    <tr>\n",
       "      <th>217190</th>\n",
       "      <td>Has anyone ever exercised call on robinhood? Anyway to avoid getting fucked?... seems like good time to exercise ...? Or not worth in on robinhood ? Any opinions about this would be appreciated :)\\n\\nEdit to say... fuck you to whoever downvote. I didn’t get fucked with gme last time. I been here to support and that’s it.</td>\n",
       "    </tr>\n",
       "    <tr>\n",
       "      <th>12102</th>\n",
       "      <td>Show me how the fuck you close all those 100-120 short ladders now you hf assholes!\\n\\nHalted again!</td>\n",
       "    </tr>\n",
       "    <tr>\n",
       "      <th>135906</th>\n",
       "      <td>Robbing my BB gains to buy more.  It ain't much but, fuck you Shitron.</td>\n",
       "    </tr>\n",
       "    <tr>\n",
       "      <th>58992</th>\n",
       "      <td>Nope. \\n\\nAnd fuck you too</td>\n",
       "    </tr>\n",
       "    <tr>\n",
       "      <th>54305</th>\n",
       "      <td>Your account is brand new and you only have anti GME comments in these threads. Go fuck yourself.</td>\n",
       "    </tr>\n",
       "    <tr>\n",
       "      <th>134168</th>\n",
       "      <td>Holy fuck you're right. The wave sizes swapped sides</td>\n",
       "    </tr>\n",
       "    <tr>\n",
       "      <th>11707</th>\n",
       "      <td>Selling because your wife's boyfriend came over to fuck you is a bad idea. If you can hold his cock hold the stock pussy</td>\n",
       "    </tr>\n",
       "    <tr>\n",
       "      <th>279899</th>\n",
       "      <td>The play is to fuck your wife while you masturbate and cry in the corner Melvin</td>\n",
       "    </tr>\n",
       "  </tbody>\n",
       "</table>\n",
       "</div>"
      ],
      "text/plain": [
       "                                                                                                                                                                                                                                                                                                                                      body\n",
       "101291                                                                                                                                                                                                                                                                            hey guy with 10,000 share sell order at $26.65: fuck you\n",
       "239690                                                                                                                                                                                                                                                                 Yep day trader SEC would come fuck your sister and take your money.\n",
       "217190  Has anyone ever exercised call on robinhood? Anyway to avoid getting fucked?... seems like good time to exercise ...? Or not worth in on robinhood ? Any opinions about this would be appreciated :)\\n\\nEdit to say... fuck you to whoever downvote. I didn’t get fucked with gme last time. I been here to support and that’s it.\n",
       "12102                                                                                                                                                                                                                                 Show me how the fuck you close all those 100-120 short ladders now you hf assholes!\\n\\nHalted again!\n",
       "135906                                                                                                                                                                                                                                                              Robbing my BB gains to buy more.  It ain't much but, fuck you Shitron.\n",
       "58992                                                                                                                                                                                                                                                                                                           Nope. \\n\\nAnd fuck you too\n",
       "54305                                                                                                                                                                                                                                    Your account is brand new and you only have anti GME comments in these threads. Go fuck yourself.\n",
       "134168                                                                                                                                                                                                                                                                                Holy fuck you're right. The wave sizes swapped sides\n",
       "11707                                                                                                                                                                                                             Selling because your wife's boyfriend came over to fuck you is a bad idea. If you can hold his cock hold the stock pussy\n",
       "279899                                                                                                                                                                                                                                                     The play is to fuck your wife while you masturbate and cry in the corner Melvin"
      ]
     },
     "execution_count": 68,
     "metadata": {},
     "output_type": "execute_result"
    }
   ],
   "source": [
    "# Exploring examples by keyword\n",
    "keyword = 'jerk'\n",
    "full_dataset[full_dataset['body'].str.contains(keyword , na=False)][['body']].sample(10)"
   ]
  },
  {
   "cell_type": "markdown",
   "metadata": {},
   "source": [
    "#### Samples identified as representative (potentially falling under one or more catergories)"
   ]
  },
  {
   "cell_type": "code",
   "execution_count": 38,
   "metadata": {},
   "outputs": [],
   "source": [
    "viable_examples = [22273, 3, 115811, 248996, 187366, 201032, 288906,\n",
    "                   288908, 6509, 220941, 71214, 157648, 62874, 5499, \n",
    "                   49308, 258175, 60073, 27500, 2147, 152987]\n",
    "\n",
    "selected_examples = [115811, 6509, 3, 49308, 201032, 157648, 71214, 62874, 5499] # 136623,23120,288908,"
   ]
  },
  {
   "cell_type": "code",
   "execution_count": 39,
   "metadata": {},
   "outputs": [
    {
     "data": {
      "text/plain": [
       "{22273, 27500, 60073, 187366, 220941, 248996, 258175, 288906, 288908}"
      ]
     },
     "execution_count": 39,
     "metadata": {},
     "output_type": "execute_result"
    }
   ],
   "source": [
    "set(viable_examples) - set(selected_examples)"
   ]
  },
  {
   "cell_type": "code",
   "execution_count": 11,
   "metadata": {},
   "outputs": [],
   "source": [
    "# full_dataset[['created_utc', 'sub_id','body']].iloc[selected_examples]"
   ]
  },
  {
   "cell_type": "markdown",
   "metadata": {},
   "source": [
    "#### Obtaining the Preceding and Following Comment\n",
    "\n",
    "We are including the preceding and following comment as context for our labelling evaluation. We do this by sorting the dataset by submission (`sub_id`) and time (`created_utc`)."
   ]
  },
  {
   "cell_type": "code",
   "execution_count": 26,
   "metadata": {},
   "outputs": [],
   "source": [
    "sorted_full_dataset = full_dataset[['created_utc', 'sub_id','body']]\\\n",
    ".sort_values(by=['created_utc'])\\\n",
    ".reset_index(False)"
   ]
  },
  {
   "cell_type": "code",
   "execution_count": 27,
   "metadata": {},
   "outputs": [
    {
     "data": {
      "text/html": [
       "<div>\n",
       "<style scoped>\n",
       "    .dataframe tbody tr th:only-of-type {\n",
       "        vertical-align: middle;\n",
       "    }\n",
       "\n",
       "    .dataframe tbody tr th {\n",
       "        vertical-align: top;\n",
       "    }\n",
       "\n",
       "    .dataframe thead th {\n",
       "        text-align: right;\n",
       "    }\n",
       "</style>\n",
       "<table border=\"1\" class=\"dataframe\">\n",
       "  <thead>\n",
       "    <tr style=\"text-align: right;\">\n",
       "      <th></th>\n",
       "      <th>index</th>\n",
       "      <th>created_utc</th>\n",
       "      <th>sub_id</th>\n",
       "      <th>body</th>\n",
       "    </tr>\n",
       "  </thead>\n",
       "  <tbody>\n",
       "    <tr>\n",
       "      <th>0</th>\n",
       "      <td>103083</td>\n",
       "      <td>1.611233e+09</td>\n",
       "      <td>l1xtan</td>\n",
       "      <td>💎🙌🏼 in 🇩🇪</td>\n",
       "    </tr>\n",
       "    <tr>\n",
       "      <th>1</th>\n",
       "      <td>105008</td>\n",
       "      <td>1.611233e+09</td>\n",
       "      <td>l1xtan</td>\n",
       "      <td>F**ck Andrew Left and Citron for their market manipulation.</td>\n",
       "    </tr>\n",
       "    <tr>\n",
       "      <th>2</th>\n",
       "      <td>113385</td>\n",
       "      <td>1.611233e+09</td>\n",
       "      <td>l1xtan</td>\n",
       "      <td>Hi 💎🤲</td>\n",
       "    </tr>\n",
       "    <tr>\n",
       "      <th>3</th>\n",
       "      <td>117004</td>\n",
       "      <td>1.611233e+09</td>\n",
       "      <td>l1xtan</td>\n",
       "      <td>Here we go.</td>\n",
       "    </tr>\n",
       "    <tr>\n",
       "      <th>4</th>\n",
       "      <td>104623</td>\n",
       "      <td>1.611233e+09</td>\n",
       "      <td>l1xtan</td>\n",
       "      <td>Do not fuckin sell bitches!</td>\n",
       "    </tr>\n",
       "    <tr>\n",
       "      <th>5</th>\n",
       "      <td>104796</td>\n",
       "      <td>1.611233e+09</td>\n",
       "      <td>l1xtan</td>\n",
       "      <td>Is today our battle of the bastards? Hopefully it doesn't end as badly as that series....</td>\n",
       "    </tr>\n",
       "    <tr>\n",
       "      <th>6</th>\n",
       "      <td>119036</td>\n",
       "      <td>1.611233e+09</td>\n",
       "      <td>l1xtan</td>\n",
       "      <td>I am here</td>\n",
       "    </tr>\n",
       "    <tr>\n",
       "      <th>7</th>\n",
       "      <td>113386</td>\n",
       "      <td>1.611233e+09</td>\n",
       "      <td>l1xtan</td>\n",
       "      <td>LETS GOOOO</td>\n",
       "    </tr>\n",
       "    <tr>\n",
       "      <th>8</th>\n",
       "      <td>114987</td>\n",
       "      <td>1.611233e+09</td>\n",
       "      <td>l1xtan</td>\n",
       "      <td>Mods keep removing my [retarded GME meme.](https://www.reddit.com/r/wallstreetbets/comments/l1xjae/gme_gang_vs_melvin_capital_ft_udeepfuckingvalue/) Enjoy the autism.</td>\n",
       "    </tr>\n",
       "    <tr>\n",
       "      <th>9</th>\n",
       "      <td>109611</td>\n",
       "      <td>1.611234e+09</td>\n",
       "      <td>l1xtan</td>\n",
       "      <td>So we’re all just going to reload after the post-call dip? Yeah?!? Good. I’m in. GME TDM 🚀🚀🚀🚀</td>\n",
       "    </tr>\n",
       "  </tbody>\n",
       "</table>\n",
       "</div>"
      ],
      "text/plain": [
       "    index   created_utc  sub_id  \\\n",
       "0  103083  1.611233e+09  l1xtan   \n",
       "1  105008  1.611233e+09  l1xtan   \n",
       "2  113385  1.611233e+09  l1xtan   \n",
       "3  117004  1.611233e+09  l1xtan   \n",
       "4  104623  1.611233e+09  l1xtan   \n",
       "5  104796  1.611233e+09  l1xtan   \n",
       "6  119036  1.611233e+09  l1xtan   \n",
       "7  113386  1.611233e+09  l1xtan   \n",
       "8  114987  1.611233e+09  l1xtan   \n",
       "9  109611  1.611234e+09  l1xtan   \n",
       "\n",
       "                                                                                                                                                                     body  \n",
       "0                                                                                                                                                               💎🙌🏼 in 🇩🇪  \n",
       "1                                                                                                             F**ck Andrew Left and Citron for their market manipulation.  \n",
       "2                                                                                                                                                                   Hi 💎🤲  \n",
       "3                                                                                                                                                             Here we go.  \n",
       "4                                                                                                                                             Do not fuckin sell bitches!  \n",
       "5                                                                               Is today our battle of the bastards? Hopefully it doesn't end as badly as that series....  \n",
       "6                                                                                                                                                               I am here  \n",
       "7                                                                                                                                                              LETS GOOOO  \n",
       "8  Mods keep removing my [retarded GME meme.](https://www.reddit.com/r/wallstreetbets/comments/l1xjae/gme_gang_vs_melvin_capital_ft_udeepfuckingvalue/) Enjoy the autism.  \n",
       "9                                                                           So we’re all just going to reload after the post-call dip? Yeah?!? Good. I’m in. GME TDM 🚀🚀🚀🚀  "
      ]
     },
     "execution_count": 27,
     "metadata": {},
     "output_type": "execute_result"
    }
   ],
   "source": [
    "sorted_full_dataset.head(10)"
   ]
  },
  {
   "cell_type": "markdown",
   "metadata": {},
   "source": [
    "For each selected example, we use the new indices (sorted by `sub_id` and `created_utc` ) to label each preceding and following comment. The resulting map will be used to create a pivot table with all the selected examples and related info."
   ]
  },
  {
   "cell_type": "code",
   "execution_count": 69,
   "metadata": {},
   "outputs": [],
   "source": [
    "selected_examples = [187366, 288906, 60073, 54305, 217190, 288908]"
   ]
  },
  {
   "cell_type": "code",
   "execution_count": 70,
   "metadata": {},
   "outputs": [],
   "source": [
    "index_map = {}\n",
    "\n",
    "for ind in selected_examples:\n",
    "    new_ind = sorted_full_dataset[sorted_full_dataset['index']==ind].index.values.astype(int)[0]\n",
    "    example_id = ind\n",
    "    \n",
    "    index_map[new_ind-1] = {\n",
    "        'example_id': str(ind),\n",
    "        'type': 'preceding'\n",
    "    }\n",
    "    index_map[new_ind] = {\n",
    "        'example_id': str(ind),\n",
    "        'type': 'example'\n",
    "    }\n",
    "    index_map[new_ind+1] = {\n",
    "        'example_id': str(ind),\n",
    "        'type': 'following'\n",
    "    }"
   ]
  },
  {
   "cell_type": "code",
   "execution_count": 71,
   "metadata": {},
   "outputs": [],
   "source": [
    "row_indices_needed = list(index_map.keys())\n",
    "# sorted_full_dataset.iloc[row_indices_needed]"
   ]
  },
  {
   "cell_type": "code",
   "execution_count": 72,
   "metadata": {},
   "outputs": [],
   "source": [
    "# Placing the time and sub_id index into a column\n",
    "sorted_full_dataset['new_index'] = sorted_full_dataset.index"
   ]
  },
  {
   "cell_type": "code",
   "execution_count": 73,
   "metadata": {},
   "outputs": [],
   "source": [
    "# Adding in the primary example info and the type of example for each row.\n",
    "sorted_full_dataset['example_type'] = sorted_full_dataset.apply(lambda x: index_map.get(x['new_index'], {}).get(\"type\"), axis=1)\n",
    "sorted_full_dataset['example_id'] = sorted_full_dataset.apply(lambda x: index_map.get(x['new_index'], {}).get(\"example_id\"), axis=1)"
   ]
  },
  {
   "cell_type": "code",
   "execution_count": 74,
   "metadata": {},
   "outputs": [],
   "source": [
    "# Narrowing down dataframe to the selected examples and columns needed.\n",
    "selected_examples_df = sorted_full_dataset[sorted_full_dataset['new_index'].isin(row_indices_needed)][['example_type','example_id','body']]"
   ]
  },
  {
   "cell_type": "code",
   "execution_count": 75,
   "metadata": {},
   "outputs": [
    {
     "data": {
      "text/html": [
       "<div>\n",
       "<style scoped>\n",
       "    .dataframe tbody tr th:only-of-type {\n",
       "        vertical-align: middle;\n",
       "    }\n",
       "\n",
       "    .dataframe tbody tr th {\n",
       "        vertical-align: top;\n",
       "    }\n",
       "\n",
       "    .dataframe thead th {\n",
       "        text-align: right;\n",
       "    }\n",
       "</style>\n",
       "<table border=\"1\" class=\"dataframe\">\n",
       "  <thead>\n",
       "    <tr style=\"text-align: right;\">\n",
       "      <th></th>\n",
       "      <th>example_type</th>\n",
       "      <th>example_id</th>\n",
       "      <th>body</th>\n",
       "    </tr>\n",
       "  </thead>\n",
       "  <tbody>\n",
       "    <tr>\n",
       "      <th>65069</th>\n",
       "      <td>preceding</td>\n",
       "      <td>54305</td>\n",
       "      <td>All apes on deck.  Sale price!!!</td>\n",
       "    </tr>\n",
       "    <tr>\n",
       "      <th>65070</th>\n",
       "      <td>example</td>\n",
       "      <td>54305</td>\n",
       "      <td>Your account is brand new and you only have anti GME comments in these threads. Go fuck yourself.</td>\n",
       "    </tr>\n",
       "    <tr>\n",
       "      <th>65071</th>\n",
       "      <td>following</td>\n",
       "      <td>54305</td>\n",
       "      <td>Like it or not, this place is a part of history now, a glowing ember of a long-enduring disdain for the mega-rich. I do really wish this subreddit the best as it transitions back to business and loss porn as usual. And I also wish that people realize that we have won so we can move on to other means of, well, sticking it to the man.</td>\n",
       "    </tr>\n",
       "    <tr>\n",
       "      <th>88114</th>\n",
       "      <td>preceding</td>\n",
       "      <td>60073</td>\n",
       "      <td>Unable to buy GME on either Revolut or Sharesies due to hem sharing the same US partner 'DriveWealth'. Why do we bother saying 'I like the stock' while big companies clearly work together to fuck us over.</td>\n",
       "    </tr>\n",
       "    <tr>\n",
       "      <th>88115</th>\n",
       "      <td>example</td>\n",
       "      <td>60073</td>\n",
       "      <td>Fuck off cunt. Take your GME shares and shove them up your ass.</td>\n",
       "    </tr>\n",
       "    <tr>\n",
       "      <th>88116</th>\n",
       "      <td>following</td>\n",
       "      <td>60073</td>\n",
       "      <td>Can’t lose anything if you don’t sell 🚀💎 .HOLD.</td>\n",
       "    </tr>\n",
       "    <tr>\n",
       "      <th>129401</th>\n",
       "      <td>preceding</td>\n",
       "      <td>288906</td>\n",
       "      <td>I'll have that with a strawberry shake and large fries</td>\n",
       "    </tr>\n",
       "    <tr>\n",
       "      <th>129402</th>\n",
       "      <td>example</td>\n",
       "      <td>288906</td>\n",
       "      <td>listen retard, dont you get it, I literally meant that only PLTR was literally the only green stock on both the NYSE and NASDQ, and that I was wrong, and that thank christ the retard above caught me.   \\n\\n\\nFortunately now he can save us from making bad financial decisions.</td>\n",
       "    </tr>\n",
       "    <tr>\n",
       "      <th>129403</th>\n",
       "      <td>following</td>\n",
       "      <td>288906</td>\n",
       "      <td>Gathered 5 more shares since Monday. Slow and steady</td>\n",
       "    </tr>\n",
       "    <tr>\n",
       "      <th>139913</th>\n",
       "      <td>preceding</td>\n",
       "      <td>288908</td>\n",
       "      <td>https://twitter.com/ryancohen/status/1367555194196787206\\n\\n[\"I like your shorts, buddy\"](https://www.youtube.com/watch?v=gxH3UgCW9Cg)</td>\n",
       "    </tr>\n",
       "    <tr>\n",
       "      <th>139914</th>\n",
       "      <td>example</td>\n",
       "      <td>288908</td>\n",
       "      <td>Oh shit, yea that sucks. Hope your calls aren’t expiring soon.</td>\n",
       "    </tr>\n",
       "    <tr>\n",
       "      <th>139915</th>\n",
       "      <td>following</td>\n",
       "      <td>288908</td>\n",
       "      <td>I'm getting hard</td>\n",
       "    </tr>\n",
       "    <tr>\n",
       "      <th>236313</th>\n",
       "      <td>preceding</td>\n",
       "      <td>217190</td>\n",
       "      <td>You need to stop trading after your ambien dude.</td>\n",
       "    </tr>\n",
       "    <tr>\n",
       "      <th>236314</th>\n",
       "      <td>example</td>\n",
       "      <td>217190</td>\n",
       "      <td>Has anyone ever exercised call on robinhood? Anyway to avoid getting fucked?... seems like good time to exercise ...? Or not worth in on robinhood ? Any opinions about this would be appreciated :)\\n\\nEdit to say... fuck you to whoever downvote. I didn’t get fucked with gme last time. I been here to support and that’s it.</td>\n",
       "    </tr>\n",
       "    <tr>\n",
       "      <th>236315</th>\n",
       "      <td>following</td>\n",
       "      <td>217190</td>\n",
       "      <td>One way or another there are going to be some massive bagholders from today: Either the hedge funds or the retards. Great viewing either way.</td>\n",
       "    </tr>\n",
       "    <tr>\n",
       "      <th>253499</th>\n",
       "      <td>preceding</td>\n",
       "      <td>187366</td>\n",
       "      <td>the best time to buy was at opening, the second best time to buy is right now.\\n\\nnaturally this is a casino so bet what you are willing to lose</td>\n",
       "    </tr>\n",
       "    <tr>\n",
       "      <th>253500</th>\n",
       "      <td>example</td>\n",
       "      <td>187366</td>\n",
       "      <td>WORDS CANNOT DESCRIBE HOW SPECTACULARLY ERECT I AM</td>\n",
       "    </tr>\n",
       "    <tr>\n",
       "      <th>253501</th>\n",
       "      <td>following</td>\n",
       "      <td>187366</td>\n",
       "      <td>10k I'd be able to buy a house and set up my retirement. I'd have to work for another 20 or so years but I can live with that.</td>\n",
       "    </tr>\n",
       "  </tbody>\n",
       "</table>\n",
       "</div>"
      ],
      "text/plain": [
       "       example_type example_id  \\\n",
       "65069     preceding      54305   \n",
       "65070       example      54305   \n",
       "65071     following      54305   \n",
       "88114     preceding      60073   \n",
       "88115       example      60073   \n",
       "88116     following      60073   \n",
       "129401    preceding     288906   \n",
       "129402      example     288906   \n",
       "129403    following     288906   \n",
       "139913    preceding     288908   \n",
       "139914      example     288908   \n",
       "139915    following     288908   \n",
       "236313    preceding     217190   \n",
       "236314      example     217190   \n",
       "236315    following     217190   \n",
       "253499    preceding     187366   \n",
       "253500      example     187366   \n",
       "253501    following     187366   \n",
       "\n",
       "                                                                                                                                                                                                                                                                                                                                                  body  \n",
       "65069                                                                                                                                                                                                                                                                                                                 All apes on deck.  Sale price!!!  \n",
       "65070                                                                                                                                                                                                                                                Your account is brand new and you only have anti GME comments in these threads. Go fuck yourself.  \n",
       "65071   Like it or not, this place is a part of history now, a glowing ember of a long-enduring disdain for the mega-rich. I do really wish this subreddit the best as it transitions back to business and loss porn as usual. And I also wish that people realize that we have won so we can move on to other means of, well, sticking it to the man.  \n",
       "88114                                                                                                                                     Unable to buy GME on either Revolut or Sharesies due to hem sharing the same US partner 'DriveWealth'. Why do we bother saying 'I like the stock' while big companies clearly work together to fuck us over.  \n",
       "88115                                                                                                                                                                                                                                                                                  Fuck off cunt. Take your GME shares and shove them up your ass.  \n",
       "88116                                                                                                                                                                                                                                                                                                  Can’t lose anything if you don’t sell 🚀💎 .HOLD.  \n",
       "129401                                                                                                                                                                                                                                                                                          I'll have that with a strawberry shake and large fries  \n",
       "129402                                                             listen retard, dont you get it, I literally meant that only PLTR was literally the only green stock on both the NYSE and NASDQ, and that I was wrong, and that thank christ the retard above caught me.   \\n\\n\\nFortunately now he can save us from making bad financial decisions.  \n",
       "129403                                                                                                                                                                                                                                                                                            Gathered 5 more shares since Monday. Slow and steady  \n",
       "139913                                                                                                                                                                                                          https://twitter.com/ryancohen/status/1367555194196787206\\n\\n[\"I like your shorts, buddy\"](https://www.youtube.com/watch?v=gxH3UgCW9Cg)  \n",
       "139914                                                                                                                                                                                                                                                                                  Oh shit, yea that sucks. Hope your calls aren’t expiring soon.  \n",
       "139915                                                                                                                                                                                                                                                                                                                                I'm getting hard  \n",
       "236313                                                                                                                                                                                                                                                                                                You need to stop trading after your ambien dude.  \n",
       "236314              Has anyone ever exercised call on robinhood? Anyway to avoid getting fucked?... seems like good time to exercise ...? Or not worth in on robinhood ? Any opinions about this would be appreciated :)\\n\\nEdit to say... fuck you to whoever downvote. I didn’t get fucked with gme last time. I been here to support and that’s it.  \n",
       "236315                                                                                                                                                                                                   One way or another there are going to be some massive bagholders from today: Either the hedge funds or the retards. Great viewing either way.  \n",
       "253499                                                                                                                                                                                                the best time to buy was at opening, the second best time to buy is right now.\\n\\nnaturally this is a casino so bet what you are willing to lose  \n",
       "253500                                                                                                                                                                                                                                                                                              WORDS CANNOT DESCRIBE HOW SPECTACULARLY ERECT I AM  \n",
       "253501                                                                                                                                                                                                                  10k I'd be able to buy a house and set up my retirement. I'd have to work for another 20 or so years but I can live with that.  "
      ]
     },
     "execution_count": 75,
     "metadata": {},
     "output_type": "execute_result"
    }
   ],
   "source": [
    "selected_examples_df"
   ]
  },
  {
   "cell_type": "code",
   "execution_count": 78,
   "metadata": {},
   "outputs": [],
   "source": [
    "# Pivoting the required data so that it is easier for Raters to Assess.\n",
    "selected_examples_pivot_table = selected_examples_df.pivot(index='example_id', columns='example_type', values='body').reset_index()[['example_id','preceding', 'example','following']]"
   ]
  },
  {
   "cell_type": "code",
   "execution_count": 79,
   "metadata": {},
   "outputs": [
    {
     "data": {
      "text/html": [
       "<div>\n",
       "<style scoped>\n",
       "    .dataframe tbody tr th:only-of-type {\n",
       "        vertical-align: middle;\n",
       "    }\n",
       "\n",
       "    .dataframe tbody tr th {\n",
       "        vertical-align: top;\n",
       "    }\n",
       "\n",
       "    .dataframe thead th {\n",
       "        text-align: right;\n",
       "    }\n",
       "</style>\n",
       "<table border=\"1\" class=\"dataframe\">\n",
       "  <thead>\n",
       "    <tr style=\"text-align: right;\">\n",
       "      <th>example_type</th>\n",
       "      <th>example_id</th>\n",
       "      <th>preceding</th>\n",
       "      <th>example</th>\n",
       "      <th>following</th>\n",
       "    </tr>\n",
       "  </thead>\n",
       "  <tbody>\n",
       "    <tr>\n",
       "      <th>0</th>\n",
       "      <td>187366</td>\n",
       "      <td>the best time to buy was at opening, the second best time to buy is right now.\\n\\nnaturally this is a casino so bet what you are willing to lose</td>\n",
       "      <td>WORDS CANNOT DESCRIBE HOW SPECTACULARLY ERECT I AM</td>\n",
       "      <td>10k I'd be able to buy a house and set up my retirement. I'd have to work for another 20 or so years but I can live with that.</td>\n",
       "    </tr>\n",
       "    <tr>\n",
       "      <th>1</th>\n",
       "      <td>217190</td>\n",
       "      <td>You need to stop trading after your ambien dude.</td>\n",
       "      <td>Has anyone ever exercised call on robinhood? Anyway to avoid getting fucked?... seems like good time to exercise ...? Or not worth in on robinhood ? Any opinions about this would be appreciated :)\\n\\nEdit to say... fuck you to whoever downvote. I didn’t get fucked with gme last time. I been here to support and that’s it.</td>\n",
       "      <td>One way or another there are going to be some massive bagholders from today: Either the hedge funds or the retards. Great viewing either way.</td>\n",
       "    </tr>\n",
       "    <tr>\n",
       "      <th>2</th>\n",
       "      <td>288906</td>\n",
       "      <td>I'll have that with a strawberry shake and large fries</td>\n",
       "      <td>listen retard, dont you get it, I literally meant that only PLTR was literally the only green stock on both the NYSE and NASDQ, and that I was wrong, and that thank christ the retard above caught me.   \\n\\n\\nFortunately now he can save us from making bad financial decisions.</td>\n",
       "      <td>Gathered 5 more shares since Monday. Slow and steady</td>\n",
       "    </tr>\n",
       "    <tr>\n",
       "      <th>3</th>\n",
       "      <td>288908</td>\n",
       "      <td>https://twitter.com/ryancohen/status/1367555194196787206\\n\\n[\"I like your shorts, buddy\"](https://www.youtube.com/watch?v=gxH3UgCW9Cg)</td>\n",
       "      <td>Oh shit, yea that sucks. Hope your calls aren’t expiring soon.</td>\n",
       "      <td>I'm getting hard</td>\n",
       "    </tr>\n",
       "    <tr>\n",
       "      <th>4</th>\n",
       "      <td>54305</td>\n",
       "      <td>All apes on deck.  Sale price!!!</td>\n",
       "      <td>Your account is brand new and you only have anti GME comments in these threads. Go fuck yourself.</td>\n",
       "      <td>Like it or not, this place is a part of history now, a glowing ember of a long-enduring disdain for the mega-rich. I do really wish this subreddit the best as it transitions back to business and loss porn as usual. And I also wish that people realize that we have won so we can move on to other means of, well, sticking it to the man.</td>\n",
       "    </tr>\n",
       "    <tr>\n",
       "      <th>5</th>\n",
       "      <td>60073</td>\n",
       "      <td>Unable to buy GME on either Revolut or Sharesies due to hem sharing the same US partner 'DriveWealth'. Why do we bother saying 'I like the stock' while big companies clearly work together to fuck us over.</td>\n",
       "      <td>Fuck off cunt. Take your GME shares and shove them up your ass.</td>\n",
       "      <td>Can’t lose anything if you don’t sell 🚀💎 .HOLD.</td>\n",
       "    </tr>\n",
       "  </tbody>\n",
       "</table>\n",
       "</div>"
      ],
      "text/plain": [
       "example_type example_id  \\\n",
       "0                187366   \n",
       "1                217190   \n",
       "2                288906   \n",
       "3                288908   \n",
       "4                 54305   \n",
       "5                 60073   \n",
       "\n",
       "example_type                                                                                                                                                                                                     preceding  \\\n",
       "0                                                                         the best time to buy was at opening, the second best time to buy is right now.\\n\\nnaturally this is a casino so bet what you are willing to lose   \n",
       "1                                                                                                                                                                         You need to stop trading after your ambien dude.   \n",
       "2                                                                                                                                                                   I'll have that with a strawberry shake and large fries   \n",
       "3                                                                                   https://twitter.com/ryancohen/status/1367555194196787206\\n\\n[\"I like your shorts, buddy\"](https://www.youtube.com/watch?v=gxH3UgCW9Cg)   \n",
       "4                                                                                                                                                                                         All apes on deck.  Sale price!!!   \n",
       "5             Unable to buy GME on either Revolut or Sharesies due to hem sharing the same US partner 'DriveWealth'. Why do we bother saying 'I like the stock' while big companies clearly work together to fuck us over.   \n",
       "\n",
       "example_type                                                                                                                                                                                                                                                                                                                             example  \\\n",
       "0                                                                                                                                                                                                                                                                                             WORDS CANNOT DESCRIBE HOW SPECTACULARLY ERECT I AM   \n",
       "1             Has anyone ever exercised call on robinhood? Anyway to avoid getting fucked?... seems like good time to exercise ...? Or not worth in on robinhood ? Any opinions about this would be appreciated :)\\n\\nEdit to say... fuck you to whoever downvote. I didn’t get fucked with gme last time. I been here to support and that’s it.   \n",
       "2                                                            listen retard, dont you get it, I literally meant that only PLTR was literally the only green stock on both the NYSE and NASDQ, and that I was wrong, and that thank christ the retard above caught me.   \\n\\n\\nFortunately now he can save us from making bad financial decisions.   \n",
       "3                                                                                                                                                                                                                                                                                 Oh shit, yea that sucks. Hope your calls aren’t expiring soon.   \n",
       "4                                                                                                                                                                                                                                              Your account is brand new and you only have anti GME comments in these threads. Go fuck yourself.   \n",
       "5                                                                                                                                                                                                                                                                                Fuck off cunt. Take your GME shares and shove them up your ass.   \n",
       "\n",
       "example_type                                                                                                                                                                                                                                                                                                                                       following  \n",
       "0                                                                                                                                                                                                                             10k I'd be able to buy a house and set up my retirement. I'd have to work for another 20 or so years but I can live with that.  \n",
       "1                                                                                                                                                                                                              One way or another there are going to be some massive bagholders from today: Either the hedge funds or the retards. Great viewing either way.  \n",
       "2                                                                                                                                                                                                                                                                                                       Gathered 5 more shares since Monday. Slow and steady  \n",
       "3                                                                                                                                                                                                                                                                                                                                           I'm getting hard  \n",
       "4             Like it or not, this place is a part of history now, a glowing ember of a long-enduring disdain for the mega-rich. I do really wish this subreddit the best as it transitions back to business and loss porn as usual. And I also wish that people realize that we have won so we can move on to other means of, well, sticking it to the man.  \n",
       "5                                                                                                                                                                                                                                                                                                            Can’t lose anything if you don’t sell 🚀💎 .HOLD.  "
      ]
     },
     "execution_count": 79,
     "metadata": {},
     "output_type": "execute_result"
    }
   ],
   "source": [
    "selected_examples_pivot_table "
   ]
  },
  {
   "cell_type": "code",
   "execution_count": 80,
   "metadata": {},
   "outputs": [],
   "source": [
    "# Saving the assessment to the data section\n",
    "selected_examples_pivot_table.to_csv(f\"{repository_location}/data/new_interater.csv\", index=False)"
   ]
  },
  {
   "cell_type": "code",
   "execution_count": null,
   "metadata": {},
   "outputs": [],
   "source": []
  }
 ],
 "metadata": {
  "kernelspec": {
   "display_name": "Python 3",
   "language": "python",
   "name": "python3"
  },
  "language_info": {
   "codemirror_mode": {
    "name": "ipython",
    "version": 3
   },
   "file_extension": ".py",
   "mimetype": "text/x-python",
   "name": "python",
   "nbconvert_exporter": "python",
   "pygments_lexer": "ipython3",
   "version": "3.8.3"
  }
 },
 "nbformat": 4,
 "nbformat_minor": 4
}
