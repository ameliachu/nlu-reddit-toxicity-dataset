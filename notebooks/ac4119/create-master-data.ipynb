{
 "cells": [
  {
   "cell_type": "code",
   "execution_count": 25,
   "metadata": {},
   "outputs": [],
   "source": [
    "import os\n",
    "import datetime as dt\n",
    "import pandas as pd"
   ]
  },
  {
   "cell_type": "code",
   "execution_count": 26,
   "metadata": {},
   "outputs": [
    {
     "name": "stdout",
     "output_type": "stream",
     "text": [
      "['yj2369_labelling_assignment_2022-04-13.csv', 'yj2369_labelling_assignment_2022-04-28.csv', 'gm2858_labelling_assignment_2022-04-21.csv', 'gm2858_labelling_assignment_2022-04-09.csv', 'yp2201_labelling_assignment_2022-04-09.csv', 'yp2201_labelling_assignment_2022-04-21.csv', 'ac4119_labelling_assignment_2022-04-09.csv', 'ac4119_labelling_assignment_2022-04-21.csv', 'gm2858_labelling_assignment_2022-04-28.csv', 'yp2201_labelling_assignment_2022-04-28.csv', 'ac4119_labelling_assignment_2022-04-13.csv', 'ac4119_labelling_assignment_2022-04-28.csv', 'yp2201_labelling_assignment_2022-04-13.csv', 'gm2858_labelling_assignment_2022-04-13.csv', 'yj2369_labelling_assignment_2022-04-09.csv', 'yj2369_labelling_assignment_2022-04-21.csv']\n",
      "/Users/ameliachu/repos/nlu-reddit-toxicity-dataset/data/labelled_master_data_2022-05-12.csv\n"
     ]
    }
   ],
   "source": [
    "repo_dir = \"/Users/ameliachu/repos/nlu-reddit-toxicity-dataset\"\n",
    "labelled_data_dir = f\"{repo_dir}/data/labelled/\"\n",
    "labelled_data_fnames = [f for f in os.listdir(labelled_data_dir)]\n",
    "master_data_location  = f\"{repo_dir}/data/labelled_master_data_{dt.date.today()}.csv\"\n",
    "print(labelled_data_fnames)\n",
    "print(master_data_location)"
   ]
  },
  {
   "cell_type": "code",
   "execution_count": 27,
   "metadata": {},
   "outputs": [],
   "source": [
    "labels = ['toxicity', 'severe_toxicity', 'identity_attack', 'insult', 'profanity', 'threat']\n",
    "selected_columns = ['example_id', 'preceding_comment', 'comment_for_evaluation',\n",
    "       'following_comment'] + labels \n",
    "list_of_labelled_data = []\n",
    "for fname in labelled_data_fnames:\n",
    "    \n",
    "    single = pd.read_csv(f\"{labelled_data_dir}{fname}\")[selected_columns] \n",
    "    single['date'] = fname.split('_')[-1].split('.')[0]\n",
    "    \n",
    "    list_of_labelled_data.append(single)\n"
   ]
  },
  {
   "cell_type": "code",
   "execution_count": null,
   "metadata": {},
   "outputs": [],
   "source": []
  },
  {
   "cell_type": "code",
   "execution_count": 28,
   "metadata": {},
   "outputs": [],
   "source": [
    "labelled_master_data = pd.concat(list_of_labelled_data).drop_duplicates().sort_values(by='date').reset_index(drop=True)"
   ]
  },
  {
   "cell_type": "code",
   "execution_count": 29,
   "metadata": {},
   "outputs": [],
   "source": [
    "labelled_master_data.to_csv(master_data_location,index=False)"
   ]
  },
  {
   "cell_type": "code",
   "execution_count": 30,
   "metadata": {},
   "outputs": [
    {
     "data": {
      "text/html": [
       "<div>\n",
       "<style scoped>\n",
       "    .dataframe tbody tr th:only-of-type {\n",
       "        vertical-align: middle;\n",
       "    }\n",
       "\n",
       "    .dataframe tbody tr th {\n",
       "        vertical-align: top;\n",
       "    }\n",
       "\n",
       "    .dataframe thead th {\n",
       "        text-align: right;\n",
       "    }\n",
       "</style>\n",
       "<table border=\"1\" class=\"dataframe\">\n",
       "  <thead>\n",
       "    <tr style=\"text-align: right;\">\n",
       "      <th></th>\n",
       "      <th>example_id</th>\n",
       "      <th>preceding_comment</th>\n",
       "      <th>comment_for_evaluation</th>\n",
       "      <th>following_comment</th>\n",
       "      <th>toxicity</th>\n",
       "      <th>severe_toxicity</th>\n",
       "      <th>identity_attack</th>\n",
       "      <th>insult</th>\n",
       "      <th>profanity</th>\n",
       "      <th>threat</th>\n",
       "      <th>date</th>\n",
       "    </tr>\n",
       "  </thead>\n",
       "  <tbody>\n",
       "    <tr>\n",
       "      <th>0</th>\n",
       "      <td>7398</td>\n",
       "      <td>LOOK AT THOSE JOBLESS CLAIMS</td>\n",
       "      <td>I use fidelity.</td>\n",
       "      <td>what a gift having that political news shock t...</td>\n",
       "      <td>0.0</td>\n",
       "      <td>0.0</td>\n",
       "      <td>0.0</td>\n",
       "      <td>0.0</td>\n",
       "      <td>0.0</td>\n",
       "      <td>0.0</td>\n",
       "      <td>2022-04-09</td>\n",
       "    </tr>\n",
       "    <tr>\n",
       "      <th>1</th>\n",
       "      <td>262301</td>\n",
       "      <td>GME just making ITM calls cheaper by making th...</td>\n",
       "      <td>SNDL looking good</td>\n",
       "      <td>PLTR always a bitch!</td>\n",
       "      <td>0.0</td>\n",
       "      <td>0.0</td>\n",
       "      <td>0.0</td>\n",
       "      <td>0.0</td>\n",
       "      <td>0.0</td>\n",
       "      <td>0.0</td>\n",
       "      <td>2022-04-09</td>\n",
       "    </tr>\n",
       "    <tr>\n",
       "      <th>2</th>\n",
       "      <td>26260</td>\n",
       "      <td>Keep holding retards we close about $150, we o...</td>\n",
       "      <td>Ask nicely &amp; it will bounce uppways 😜</td>\n",
       "      <td>Fucktards are going to crash the market...</td>\n",
       "      <td>0.0</td>\n",
       "      <td>0.0</td>\n",
       "      <td>0.0</td>\n",
       "      <td>0.0</td>\n",
       "      <td>0.0</td>\n",
       "      <td>0.0</td>\n",
       "      <td>2022-04-09</td>\n",
       "    </tr>\n",
       "    <tr>\n",
       "      <th>3</th>\n",
       "      <td>263278</td>\n",
       "      <td>vxx falling with red candles on spy\\n\\nsomethi...</td>\n",
       "      <td>Thinking JPow comes out tomorrow on presser dr...</td>\n",
       "      <td>FAANG</td>\n",
       "      <td>0.0</td>\n",
       "      <td>0.0</td>\n",
       "      <td>0.0</td>\n",
       "      <td>0.0</td>\n",
       "      <td>0.0</td>\n",
       "      <td>0.0</td>\n",
       "      <td>2022-04-09</td>\n",
       "    </tr>\n",
       "    <tr>\n",
       "      <th>4</th>\n",
       "      <td>266897</td>\n",
       "      <td>Because when the price can go up 15-20 points ...</td>\n",
       "      <td>It's okay, BB, you can go whenever you feel li...</td>\n",
       "      <td>Love it lmao. I’ve gotten like -100 in 30 seco...</td>\n",
       "      <td>0.0</td>\n",
       "      <td>0.0</td>\n",
       "      <td>0.0</td>\n",
       "      <td>0.0</td>\n",
       "      <td>0.0</td>\n",
       "      <td>0.0</td>\n",
       "      <td>2022-04-09</td>\n",
       "    </tr>\n",
       "  </tbody>\n",
       "</table>\n",
       "</div>"
      ],
      "text/plain": [
       "   example_id                                  preceding_comment  \\\n",
       "0        7398                       LOOK AT THOSE JOBLESS CLAIMS   \n",
       "1      262301  GME just making ITM calls cheaper by making th...   \n",
       "2       26260  Keep holding retards we close about $150, we o...   \n",
       "3      263278  vxx falling with red candles on spy\\n\\nsomethi...   \n",
       "4      266897  Because when the price can go up 15-20 points ...   \n",
       "\n",
       "                              comment_for_evaluation  \\\n",
       "0                                    I use fidelity.   \n",
       "1                                  SNDL looking good   \n",
       "2              Ask nicely & it will bounce uppways 😜   \n",
       "3  Thinking JPow comes out tomorrow on presser dr...   \n",
       "4  It's okay, BB, you can go whenever you feel li...   \n",
       "\n",
       "                                   following_comment  toxicity  \\\n",
       "0  what a gift having that political news shock t...       0.0   \n",
       "1                               PLTR always a bitch!       0.0   \n",
       "2         Fucktards are going to crash the market...       0.0   \n",
       "3                                              FAANG       0.0   \n",
       "4  Love it lmao. I’ve gotten like -100 in 30 seco...       0.0   \n",
       "\n",
       "   severe_toxicity  identity_attack  insult  profanity  threat        date  \n",
       "0              0.0              0.0     0.0        0.0     0.0  2022-04-09  \n",
       "1              0.0              0.0     0.0        0.0     0.0  2022-04-09  \n",
       "2              0.0              0.0     0.0        0.0     0.0  2022-04-09  \n",
       "3              0.0              0.0     0.0        0.0     0.0  2022-04-09  \n",
       "4              0.0              0.0     0.0        0.0     0.0  2022-04-09  "
      ]
     },
     "execution_count": 30,
     "metadata": {},
     "output_type": "execute_result"
    }
   ],
   "source": [
    "labelled_master_data.head(5)"
   ]
  },
  {
   "cell_type": "code",
   "execution_count": 31,
   "metadata": {},
   "outputs": [
    {
     "data": {
      "text/plain": [
       "3403"
      ]
     },
     "execution_count": 31,
     "metadata": {},
     "output_type": "execute_result"
    }
   ],
   "source": [
    "len(labelled_master_data)"
   ]
  },
  {
   "cell_type": "code",
   "execution_count": 32,
   "metadata": {},
   "outputs": [],
   "source": [
    "labelled_master_data = labelled_master_data.drop_duplicates(subset='example_id',keep='first')"
   ]
  },
  {
   "cell_type": "code",
   "execution_count": 33,
   "metadata": {},
   "outputs": [
    {
     "data": {
      "text/plain": [
       "2441"
      ]
     },
     "execution_count": 33,
     "metadata": {},
     "output_type": "execute_result"
    }
   ],
   "source": [
    "len(labelled_master_data )"
   ]
  },
  {
   "cell_type": "code",
   "execution_count": 34,
   "metadata": {},
   "outputs": [],
   "source": [
    "labelled_master_data['has_toxicity'] = labelled_master_data[labels].sum(axis=1)"
   ]
  },
  {
   "cell_type": "code",
   "execution_count": 36,
   "metadata": {},
   "outputs": [
    {
     "data": {
      "text/plain": [
       "483"
      ]
     },
     "execution_count": 36,
     "metadata": {},
     "output_type": "execute_result"
    }
   ],
   "source": [
    "len(labelled_master_data[labelled_master_data['has_toxicity'] >0])"
   ]
  },
  {
   "cell_type": "code",
   "execution_count": 38,
   "metadata": {},
   "outputs": [],
   "source": [
    "master_data_location  = f\"{repo_dir}/data/all_labelled_data_{dt.date.today()}.csv\"\n",
    "labelled_master_data.to_csv(master_data_location,index=False)"
   ]
  },
  {
   "cell_type": "code",
   "execution_count": 14,
   "metadata": {},
   "outputs": [],
   "source": [
    "toxic_ids = list(labelled_master_data[labelled_master_data['has_toxicity'] > 0]['example_id'].values)"
   ]
  },
  {
   "cell_type": "code",
   "execution_count": 17,
   "metadata": {},
   "outputs": [],
   "source": [
    "results_dir = f\"{repo_dir}/artifacts/results\"\n",
    "human_2_pd = pd.read_csv(f\"{results_dir}/baseline_human-2_2022-05-07.csv\") \n",
    "\n",
    "included_in_baseline = list(human_2_pd['example_id'].values)"
   ]
  },
  {
   "cell_type": "code",
   "execution_count": 18,
   "metadata": {},
   "outputs": [],
   "source": [
    "identity_mentions = [270830, 146593]\n",
    "other_interesting = [91067, 146593, 379993]"
   ]
  },
  {
   "cell_type": "code",
   "execution_count": 19,
   "metadata": {},
   "outputs": [],
   "source": [
    "must_hold_ids = list(set(toxic_ids + included_in_baseline + identity_mentions + other_interesting))"
   ]
  },
  {
   "cell_type": "code",
   "execution_count": 20,
   "metadata": {},
   "outputs": [],
   "source": [
    "n_nontoxic_ids = 800 - len(must_hold_ids)"
   ]
  },
  {
   "cell_type": "code",
   "execution_count": 39,
   "metadata": {},
   "outputs": [
    {
     "data": {
      "text/plain": [
       "293"
      ]
     },
     "execution_count": 39,
     "metadata": {},
     "output_type": "execute_result"
    }
   ],
   "source": [
    "n_nontoxic_ids"
   ]
  },
  {
   "cell_type": "code",
   "execution_count": 21,
   "metadata": {},
   "outputs": [],
   "source": [
    "remaining_sample = labelled_master_data[labelled_master_data['has_toxicity'] == 0]\n",
    "remaining_sample = remaining_sample[~remaining_sample['example_id'].isin(must_hold_ids)].sample(n_nontoxic_ids )"
   ]
  },
  {
   "cell_type": "code",
   "execution_count": 22,
   "metadata": {},
   "outputs": [],
   "source": [
    "must_hold_sample = labelled_master_data[labelled_master_data['example_id'].isin(must_hold_ids)]\n",
    "final_master_table = pd.concat([must_hold_sample, remaining_sample])[selected_columns]"
   ]
  },
  {
   "cell_type": "code",
   "execution_count": 23,
   "metadata": {},
   "outputs": [
    {
     "data": {
      "text/html": [
       "<div>\n",
       "<style scoped>\n",
       "    .dataframe tbody tr th:only-of-type {\n",
       "        vertical-align: middle;\n",
       "    }\n",
       "\n",
       "    .dataframe tbody tr th {\n",
       "        vertical-align: top;\n",
       "    }\n",
       "\n",
       "    .dataframe thead th {\n",
       "        text-align: right;\n",
       "    }\n",
       "</style>\n",
       "<table border=\"1\" class=\"dataframe\">\n",
       "  <thead>\n",
       "    <tr style=\"text-align: right;\">\n",
       "      <th></th>\n",
       "      <th>example_id</th>\n",
       "      <th>preceding_comment</th>\n",
       "      <th>comment_for_evaluation</th>\n",
       "      <th>following_comment</th>\n",
       "      <th>toxicity</th>\n",
       "      <th>severe_toxicity</th>\n",
       "      <th>identity_attack</th>\n",
       "      <th>insult</th>\n",
       "      <th>profanity</th>\n",
       "      <th>threat</th>\n",
       "    </tr>\n",
       "  </thead>\n",
       "  <tbody>\n",
       "    <tr>\n",
       "      <th>6</th>\n",
       "      <td>275362</td>\n",
       "      <td>Which one of u bought my stocks? &gt;:(</td>\n",
       "      <td>posted this in the other thread but the more i...</td>\n",
       "      <td>That thing is 1.64% rn.  JPow has to say somet...</td>\n",
       "      <td>0.0</td>\n",
       "      <td>0.0</td>\n",
       "      <td>0.0</td>\n",
       "      <td>0.0</td>\n",
       "      <td>1.0</td>\n",
       "      <td>0.0</td>\n",
       "    </tr>\n",
       "    <tr>\n",
       "      <th>12</th>\n",
       "      <td>30108</td>\n",
       "      <td>Alexa play down by 311.</td>\n",
       "      <td>No one cares about 10 year bonds bro - thats j...</td>\n",
       "      <td>Sorry you were born the bad kind of retarded.</td>\n",
       "      <td>0.0</td>\n",
       "      <td>0.0</td>\n",
       "      <td>0.0</td>\n",
       "      <td>0.0</td>\n",
       "      <td>1.0</td>\n",
       "      <td>0.0</td>\n",
       "    </tr>\n",
       "    <tr>\n",
       "      <th>21</th>\n",
       "      <td>316461</td>\n",
       "      <td>Today = no Vaseline</td>\n",
       "      <td>The entire market is fucking hemorrhaging</td>\n",
       "      <td>Imagine putting your money in bonds lol</td>\n",
       "      <td>0.0</td>\n",
       "      <td>0.0</td>\n",
       "      <td>0.0</td>\n",
       "      <td>0.0</td>\n",
       "      <td>1.0</td>\n",
       "      <td>0.0</td>\n",
       "    </tr>\n",
       "    <tr>\n",
       "      <th>22</th>\n",
       "      <td>316957</td>\n",
       "      <td>definitely.  keep buying guys !!!!! HURRRDURRr</td>\n",
       "      <td>damn so my puts are fukd</td>\n",
       "      <td>Quick, everyone buy Into the bull trap again!</td>\n",
       "      <td>0.0</td>\n",
       "      <td>0.0</td>\n",
       "      <td>0.0</td>\n",
       "      <td>0.0</td>\n",
       "      <td>1.0</td>\n",
       "      <td>0.0</td>\n",
       "    </tr>\n",
       "    <tr>\n",
       "      <th>23</th>\n",
       "      <td>318752</td>\n",
       "      <td>Big if true.</td>\n",
       "      <td>Do you routinely comment your opinion on topic...</td>\n",
       "      <td>They get all 4, fuck that. \\n\\nJust one Warloc...</td>\n",
       "      <td>1.0</td>\n",
       "      <td>1.0</td>\n",
       "      <td>0.0</td>\n",
       "      <td>1.0</td>\n",
       "      <td>0.0</td>\n",
       "      <td>0.0</td>\n",
       "    </tr>\n",
       "    <tr>\n",
       "      <th>...</th>\n",
       "      <td>...</td>\n",
       "      <td>...</td>\n",
       "      <td>...</td>\n",
       "      <td>...</td>\n",
       "      <td>...</td>\n",
       "      <td>...</td>\n",
       "      <td>...</td>\n",
       "      <td>...</td>\n",
       "      <td>...</td>\n",
       "      <td>...</td>\n",
       "    </tr>\n",
       "    <tr>\n",
       "      <th>1778</th>\n",
       "      <td>219798</td>\n",
       "      <td>Buy calls. Plenty of opportunity</td>\n",
       "      <td>Here, take a downvote!</td>\n",
       "      <td>you can also see it on yahoo, go to the fullsc...</td>\n",
       "      <td>0.0</td>\n",
       "      <td>0.0</td>\n",
       "      <td>0.0</td>\n",
       "      <td>0.0</td>\n",
       "      <td>0.0</td>\n",
       "      <td>0.0</td>\n",
       "    </tr>\n",
       "    <tr>\n",
       "      <th>1420</th>\n",
       "      <td>68599</td>\n",
       "      <td>It’s a dark day lmaoooooo</td>\n",
       "      <td>How do I block someone</td>\n",
       "      <td>UWMC let’s go guys 🚀🚀🚀</td>\n",
       "      <td>0.0</td>\n",
       "      <td>0.0</td>\n",
       "      <td>0.0</td>\n",
       "      <td>0.0</td>\n",
       "      <td>0.0</td>\n",
       "      <td>0.0</td>\n",
       "    </tr>\n",
       "    <tr>\n",
       "      <th>2313</th>\n",
       "      <td>31882</td>\n",
       "      <td>My amc 15 calls ain’t lookin too good</td>\n",
       "      <td>market starting to bounce a little... get that...</td>\n",
       "      <td>The market is completely dumping and is the in...</td>\n",
       "      <td>0.0</td>\n",
       "      <td>0.0</td>\n",
       "      <td>0.0</td>\n",
       "      <td>0.0</td>\n",
       "      <td>0.0</td>\n",
       "      <td>0.0</td>\n",
       "    </tr>\n",
       "    <tr>\n",
       "      <th>1341</th>\n",
       "      <td>482069</td>\n",
       "      <td>Thank you to whoever sold me the PLTR $26 FD c...</td>\n",
       "      <td>yeah i seem to have timed that one almost perf...</td>\n",
       "      <td>Watching Rat Race. One of best comedies of all...</td>\n",
       "      <td>0.0</td>\n",
       "      <td>0.0</td>\n",
       "      <td>0.0</td>\n",
       "      <td>0.0</td>\n",
       "      <td>0.0</td>\n",
       "      <td>0.0</td>\n",
       "    </tr>\n",
       "    <tr>\n",
       "      <th>3138</th>\n",
       "      <td>203934</td>\n",
       "      <td>Cmon penn!!!!</td>\n",
       "      <td>indeed, the heavyweights eh</td>\n",
       "      <td>Very bullish. I like it</td>\n",
       "      <td>0.0</td>\n",
       "      <td>0.0</td>\n",
       "      <td>0.0</td>\n",
       "      <td>0.0</td>\n",
       "      <td>0.0</td>\n",
       "      <td>0.0</td>\n",
       "    </tr>\n",
       "  </tbody>\n",
       "</table>\n",
       "<p>800 rows × 10 columns</p>\n",
       "</div>"
      ],
      "text/plain": [
       "      example_id                                  preceding_comment  \\\n",
       "6         275362               Which one of u bought my stocks? >:(   \n",
       "12         30108                            Alexa play down by 311.   \n",
       "21        316461                                Today = no Vaseline   \n",
       "22        316957     definitely.  keep buying guys !!!!! HURRRDURRr   \n",
       "23        318752                                       Big if true.   \n",
       "...          ...                                                ...   \n",
       "1778      219798                   Buy calls. Plenty of opportunity   \n",
       "1420       68599                          It’s a dark day lmaoooooo   \n",
       "2313       31882              My amc 15 calls ain’t lookin too good   \n",
       "1341      482069  Thank you to whoever sold me the PLTR $26 FD c...   \n",
       "3138      203934                                      Cmon penn!!!!   \n",
       "\n",
       "                                 comment_for_evaluation  \\\n",
       "6     posted this in the other thread but the more i...   \n",
       "12    No one cares about 10 year bonds bro - thats j...   \n",
       "21            The entire market is fucking hemorrhaging   \n",
       "22                             damn so my puts are fukd   \n",
       "23    Do you routinely comment your opinion on topic...   \n",
       "...                                                 ...   \n",
       "1778                             Here, take a downvote!   \n",
       "1420                             How do I block someone   \n",
       "2313  market starting to bounce a little... get that...   \n",
       "1341  yeah i seem to have timed that one almost perf...   \n",
       "3138                        indeed, the heavyweights eh   \n",
       "\n",
       "                                      following_comment  toxicity  \\\n",
       "6     That thing is 1.64% rn.  JPow has to say somet...       0.0   \n",
       "12        Sorry you were born the bad kind of retarded.       0.0   \n",
       "21              Imagine putting your money in bonds lol       0.0   \n",
       "22        Quick, everyone buy Into the bull trap again!       0.0   \n",
       "23    They get all 4, fuck that. \\n\\nJust one Warloc...       1.0   \n",
       "...                                                 ...       ...   \n",
       "1778  you can also see it on yahoo, go to the fullsc...       0.0   \n",
       "1420                             UWMC let’s go guys 🚀🚀🚀       0.0   \n",
       "2313  The market is completely dumping and is the in...       0.0   \n",
       "1341  Watching Rat Race. One of best comedies of all...       0.0   \n",
       "3138                            Very bullish. I like it       0.0   \n",
       "\n",
       "      severe_toxicity  identity_attack  insult  profanity  threat  \n",
       "6                 0.0              0.0     0.0        1.0     0.0  \n",
       "12                0.0              0.0     0.0        1.0     0.0  \n",
       "21                0.0              0.0     0.0        1.0     0.0  \n",
       "22                0.0              0.0     0.0        1.0     0.0  \n",
       "23                1.0              0.0     1.0        0.0     0.0  \n",
       "...               ...              ...     ...        ...     ...  \n",
       "1778              0.0              0.0     0.0        0.0     0.0  \n",
       "1420              0.0              0.0     0.0        0.0     0.0  \n",
       "2313              0.0              0.0     0.0        0.0     0.0  \n",
       "1341              0.0              0.0     0.0        0.0     0.0  \n",
       "3138              0.0              0.0     0.0        0.0     0.0  \n",
       "\n",
       "[800 rows x 10 columns]"
      ]
     },
     "execution_count": 23,
     "metadata": {},
     "output_type": "execute_result"
    }
   ],
   "source": [
    "final_master_table"
   ]
  },
  {
   "cell_type": "code",
   "execution_count": 24,
   "metadata": {},
   "outputs": [],
   "source": [
    "master_data_location  = f\"{repo_dir}/data/labelled_master_data_{dt.date.today()}.csv\"\n",
    "final_master_table.to_csv(master_data_location,index=False)"
   ]
  },
  {
   "cell_type": "code",
   "execution_count": null,
   "metadata": {},
   "outputs": [],
   "source": []
  }
 ],
 "metadata": {
  "kernelspec": {
   "display_name": "Python 3",
   "language": "python",
   "name": "python3"
  },
  "language_info": {
   "codemirror_mode": {
    "name": "ipython",
    "version": 3
   },
   "file_extension": ".py",
   "mimetype": "text/x-python",
   "name": "python",
   "nbconvert_exporter": "python",
   "pygments_lexer": "ipython3",
   "version": "3.8.3"
  }
 },
 "nbformat": 4,
 "nbformat_minor": 4
}
