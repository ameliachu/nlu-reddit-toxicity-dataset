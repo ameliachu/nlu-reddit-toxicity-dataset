{
 "cells": [
  {
   "cell_type": "markdown",
   "metadata": {},
   "source": [
    "### Interrater Reliability Assement Example Selection\n",
    "\n",
    "This notebook helps us randomly select examples to use for our interrater reliability assessment"
   ]
  },
  {
   "cell_type": "markdown",
   "metadata": {},
   "source": [
    "#### Required Libraries"
   ]
  },
  {
   "cell_type": "code",
   "execution_count": 1,
   "metadata": {},
   "outputs": [],
   "source": [
    "import pandas as pd"
   ]
  },
  {
   "cell_type": "code",
   "execution_count": 2,
   "metadata": {},
   "outputs": [],
   "source": [
    "pd.set_option('max_colwidth', None) # Setting to be able to view teh entire comment"
   ]
  },
  {
   "cell_type": "markdown",
   "metadata": {},
   "source": [
    "#### Importing Dataset"
   ]
  },
  {
   "cell_type": "code",
   "execution_count": 3,
   "metadata": {},
   "outputs": [],
   "source": [
    "# Replace this location with where the repo is.\n",
    "repository_location = \"/Users/ameliachu/repos/nlu-reddit-toxicity-dataset\""
   ]
  },
  {
   "cell_type": "code",
   "execution_count": 4,
   "metadata": {},
   "outputs": [],
   "source": [
    "full_dataset_comments_path = f\"{repository_location}/data/gme_master_data_1611233441_1618627983.csv\""
   ]
  },
  {
   "cell_type": "code",
   "execution_count": 6,
   "metadata": {},
   "outputs": [],
   "source": [
    "full_dataset = pd.read_csv(full_dataset_comments_path)"
   ]
  },
  {
   "cell_type": "markdown",
   "metadata": {},
   "source": [
    "#### Looking at Examples Randomly Sampled 10 at a Time"
   ]
  },
  {
   "cell_type": "code",
   "execution_count": 8,
   "metadata": {},
   "outputs": [
    {
     "data": {
      "text/html": [
       "<div>\n",
       "<style scoped>\n",
       "    .dataframe tbody tr th:only-of-type {\n",
       "        vertical-align: middle;\n",
       "    }\n",
       "\n",
       "    .dataframe tbody tr th {\n",
       "        vertical-align: top;\n",
       "    }\n",
       "\n",
       "    .dataframe thead th {\n",
       "        text-align: right;\n",
       "    }\n",
       "</style>\n",
       "<table border=\"1\" class=\"dataframe\">\n",
       "  <thead>\n",
       "    <tr style=\"text-align: right;\">\n",
       "      <th></th>\n",
       "      <th>body</th>\n",
       "    </tr>\n",
       "  </thead>\n",
       "  <tbody>\n",
       "    <tr>\n",
       "      <th>105744</th>\n",
       "      <td>GIVE IT UP FOR THE POWER HALF HOUR</td>\n",
       "    </tr>\n",
       "    <tr>\n",
       "      <th>102746</th>\n",
       "      <td>or each other’s nuts.  no homo</td>\n",
       "    </tr>\n",
       "    <tr>\n",
       "      <th>8819</th>\n",
       "      <td>If you bought chicken Tendies for 5 dollars then some came up and offered you 2 dollars for them would you sell?</td>\n",
       "    </tr>\n",
       "    <tr>\n",
       "      <th>160776</th>\n",
       "      <td>I smell that smell. That smelly smell of something smelly is happening.</td>\n",
       "    </tr>\n",
       "    <tr>\n",
       "      <th>59953</th>\n",
       "      <td>Nice</td>\n",
       "    </tr>\n",
       "    <tr>\n",
       "      <th>29754</th>\n",
       "      <td>He doesn’t own any shares man</td>\n",
       "    </tr>\n",
       "    <tr>\n",
       "      <th>2484</th>\n",
       "      <td>Thought I was going to double my GME shares today. I was wrong.\\n\\n&amp;#x200B;\\n\\nI tripled them. Lets fucking go.</td>\n",
       "    </tr>\n",
       "    <tr>\n",
       "      <th>59269</th>\n",
       "      <td>...that’s not a thing</td>\n",
       "    </tr>\n",
       "    <tr>\n",
       "      <th>22515</th>\n",
       "      <td>If you bought GME at over 300...lol</td>\n",
       "    </tr>\n",
       "    <tr>\n",
       "      <th>69724</th>\n",
       "      <td>Posture check</td>\n",
       "    </tr>\n",
       "  </tbody>\n",
       "</table>\n",
       "</div>"
      ],
      "text/plain": [
       "                                                                                                                    body\n",
       "105744                                                                                GIVE IT UP FOR THE POWER HALF HOUR\n",
       "102746                                                                                    or each other’s nuts.  no homo\n",
       "8819    If you bought chicken Tendies for 5 dollars then some came up and offered you 2 dollars for them would you sell?\n",
       "160776                                           I smell that smell. That smelly smell of something smelly is happening.\n",
       "59953                                                                                                               Nice\n",
       "29754                                                                                      He doesn’t own any shares man\n",
       "2484     Thought I was going to double my GME shares today. I was wrong.\\n\\n&#x200B;\\n\\nI tripled them. Lets fucking go.\n",
       "59269                                                                                              ...that’s not a thing\n",
       "22515                                                                                If you bought GME at over 300...lol\n",
       "69724                                                                                                      Posture check"
      ]
     },
     "execution_count": 8,
     "metadata": {},
     "output_type": "execute_result"
    }
   ],
   "source": [
    "random_sample_10 = full_dataset[['body']].sample(10)\n",
    "random_sample_10"
   ]
  },
  {
   "cell_type": "code",
   "execution_count": 9,
   "metadata": {},
   "outputs": [
    {
     "data": {
      "text/html": [
       "<div>\n",
       "<style scoped>\n",
       "    .dataframe tbody tr th:only-of-type {\n",
       "        vertical-align: middle;\n",
       "    }\n",
       "\n",
       "    .dataframe tbody tr th {\n",
       "        vertical-align: top;\n",
       "    }\n",
       "\n",
       "    .dataframe thead th {\n",
       "        text-align: right;\n",
       "    }\n",
       "</style>\n",
       "<table border=\"1\" class=\"dataframe\">\n",
       "  <thead>\n",
       "    <tr style=\"text-align: right;\">\n",
       "      <th></th>\n",
       "      <th>body</th>\n",
       "    </tr>\n",
       "  </thead>\n",
       "  <tbody>\n",
       "    <tr>\n",
       "      <th>163709</th>\n",
       "      <td>Since we're back on this train...Pop a bubble to see a Jim Cramer joke!\\n\\n&gt;!Jim Cramer sucks horse cock!&lt; &gt;!Jim Cramer eats horse shit  .!&lt; &gt;!Jim Cramer ejaculates prematurely!&lt; &gt;!Jim Cramer wear jean shorts!&lt; &gt;!Jim Cramer orders pizza without cheese!&lt; &gt;!Jim Cramer wipes before shitting!&lt; &gt;!Jim Cramer orders steak well done!&lt; &gt;!Jim Cramer eats cum to make pineapple taste better!&lt; &gt;!Jim Cramer doesn't end conversations well!&lt; &gt;!Jim Cramer doesn't tip!&lt; &gt;!Jim Cramer is a flat earther!&lt; &gt;!Jim Cramer doesn't hug his kids!&lt; &gt;!Jim Cramer doesn't like the stock!&lt; &gt;!Jim Cramer pees sitting down!&lt; &gt;!Jim Cramer shits standing up!&lt; &gt;!Jim Cramer has a tramp stamp!&lt; &gt;!Jim Cramer doesn't recycle!&lt; &gt;!Jim Cramer orders steak well done!&lt; &gt;!Jim Cramer doesn't like black people!&lt; &gt;!Jim Cramer farts in elevators!&lt; &gt;!Jim Cramer mispronounces ethnic food on purpose to be a dick!&lt; &gt;!Jim Cramer litters!&lt; &gt;!Jim Cramer jerks off to himself in the miror!&lt; &gt;!Jim Cramer talks in the 3rd person!&lt; &gt;!Jim Cramer doesn't like cats or dogs!&lt; &gt;!Jim Cramer never reciprocates oral sex!&lt; &gt;!Jim Cramer drinks sparkling dasani!&lt; &gt;!Jim Cramer drives slow in the passing lane!&lt; &gt;!Jim Cramer doesn't buy lemonade from kid's stands!&lt; &gt;!Jim Cramer prefers digimon to pokemon!&lt; &gt;!Jim Cramer thinks that epstein did it himself!&lt; &gt;!Jim Cramer doesn't wash his hands!&lt; &gt;!Jim Cramer denies the holocaust!&lt; &gt;!Jim Cramer likes the pittsburgh penguins!&lt; &gt;!Jim Cramer never donates to charity!&lt; &gt;!Jim Cramer speeds in school zones!&lt; &gt;!Jim Cramer parks in handicapped spaces without a tag!&lt; &gt;!Jim Cramer steals pennies from the take a penny jar at convenience stores!&lt; &gt;!Jim Cramer frequently drives while intoxicated!&lt; &gt;!Jim Cramer chews with his mouth open!&lt; &gt;!Jim Cramer doesn't brush or floss!&lt; &gt;!Jim Cramer is in favor of deforestation of the rainforests!&lt; &gt;!Jim Cramer thinks global warming is a hoax!&lt; &gt;!Jim Cramer doesn't like the stock!&lt;</td>\n",
       "    </tr>\n",
       "    <tr>\n",
       "      <th>69215</th>\n",
       "      <td>Time to jerk off everytime it goes up a dollar in price. Masturbrate my wife boyfriend if it goes down a dollar in price.\\n\\nWin win for everyone \\n\\n🚀🚀🚀🚀🚀</td>\n",
       "    </tr>\n",
       "    <tr>\n",
       "      <th>236931</th>\n",
       "      <td>I’d be Tendie-Man. My powers would include. Not working, jerking off all day and eating spicy nuggets and chicken sandwiches.</td>\n",
       "    </tr>\n",
       "    <tr>\n",
       "      <th>65186</th>\n",
       "      <td>Good luck bud.  You have some anger.  Go jerk off</td>\n",
       "    </tr>\n",
       "    <tr>\n",
       "      <th>208019</th>\n",
       "      <td>Ok fine I WILL jerk off again</td>\n",
       "    </tr>\n",
       "    <tr>\n",
       "      <th>13195</th>\n",
       "      <td>Its funny that pigs in suits run around all day trying to cover their asses and all i did today was watching a movie and jerked off few times</td>\n",
       "    </tr>\n",
       "    <tr>\n",
       "      <th>103353</th>\n",
       "      <td>You guys, if we end up closing over $40 then my wife says I can be in the room while she fucks her boyfriend. If we end up over $45 I can jerk off while I watch. Please, make this happen. My rocket is blue and I need the release.</td>\n",
       "    </tr>\n",
       "    <tr>\n",
       "      <th>80404</th>\n",
       "      <td>Who else is jerking it while watching GME moon?</td>\n",
       "    </tr>\n",
       "    <tr>\n",
       "      <th>14138</th>\n",
       "      <td>All these halts do is give me more time to jerk off my 💎 cock with my 💎 hands\\n\\nTo the fucking moon 🚀🚀🚀🚀🚀🚀</td>\n",
       "    </tr>\n",
       "    <tr>\n",
       "      <th>268801</th>\n",
       "      <td>I honestly thought it would be harder jerking off to stock tickers. Well I was wrong</td>\n",
       "    </tr>\n",
       "  </tbody>\n",
       "</table>\n",
       "</div>"
      ],
      "text/plain": [
       "                                                                                                                                                                                                                                                                                                                                                                                                                                                                                                                                                                                                                                                                                                                                                                                                                                                                                                                                                                                                                                                                                                                                                                                                                                                                                                                                                                                                                                                                                                                                                                                                                                                                                                                                                                                                                                                                                                                                                                                        body\n",
       "163709  Since we're back on this train...Pop a bubble to see a Jim Cramer joke!\\n\\n>!Jim Cramer sucks horse cock!< >!Jim Cramer eats horse shit  .!< >!Jim Cramer ejaculates prematurely!< >!Jim Cramer wear jean shorts!< >!Jim Cramer orders pizza without cheese!< >!Jim Cramer wipes before shitting!< >!Jim Cramer orders steak well done!< >!Jim Cramer eats cum to make pineapple taste better!< >!Jim Cramer doesn't end conversations well!< >!Jim Cramer doesn't tip!< >!Jim Cramer is a flat earther!< >!Jim Cramer doesn't hug his kids!< >!Jim Cramer doesn't like the stock!< >!Jim Cramer pees sitting down!< >!Jim Cramer shits standing up!< >!Jim Cramer has a tramp stamp!< >!Jim Cramer doesn't recycle!< >!Jim Cramer orders steak well done!< >!Jim Cramer doesn't like black people!< >!Jim Cramer farts in elevators!< >!Jim Cramer mispronounces ethnic food on purpose to be a dick!< >!Jim Cramer litters!< >!Jim Cramer jerks off to himself in the miror!< >!Jim Cramer talks in the 3rd person!< >!Jim Cramer doesn't like cats or dogs!< >!Jim Cramer never reciprocates oral sex!< >!Jim Cramer drinks sparkling dasani!< >!Jim Cramer drives slow in the passing lane!< >!Jim Cramer doesn't buy lemonade from kid's stands!< >!Jim Cramer prefers digimon to pokemon!< >!Jim Cramer thinks that epstein did it himself!< >!Jim Cramer doesn't wash his hands!< >!Jim Cramer denies the holocaust!< >!Jim Cramer likes the pittsburgh penguins!< >!Jim Cramer never donates to charity!< >!Jim Cramer speeds in school zones!< >!Jim Cramer parks in handicapped spaces without a tag!< >!Jim Cramer steals pennies from the take a penny jar at convenience stores!< >!Jim Cramer frequently drives while intoxicated!< >!Jim Cramer chews with his mouth open!< >!Jim Cramer doesn't brush or floss!< >!Jim Cramer is in favor of deforestation of the rainforests!< >!Jim Cramer thinks global warming is a hoax!< >!Jim Cramer doesn't like the stock!<\n",
       "69215                                                                                                                                                                                                                                                                                                                                                                                                                                                                                                                                                                                                                                                                                                                                                                                                                                                                                                                                                                                                                                                                                                                                                                                                                                                                                                                                                                                                                                                                                                                                                                                                                                                                                                                                                                                                                            Time to jerk off everytime it goes up a dollar in price. Masturbrate my wife boyfriend if it goes down a dollar in price.\\n\\nWin win for everyone \\n\\n🚀🚀🚀🚀🚀\n",
       "236931                                                                                                                                                                                                                                                                                                                                                                                                                                                                                                                                                                                                                                                                                                                                                                                                                                                                                                                                                                                                                                                                                                                                                                                                                                                                                                                                                                                                                                                                                                                                                                                                                                                                                                                                                                                                                                                         I’d be Tendie-Man. My powers would include. Not working, jerking off all day and eating spicy nuggets and chicken sandwiches.\n",
       "65186                                                                                                                                                                                                                                                                                                                                                                                                                                                                                                                                                                                                                                                                                                                                                                                                                                                                                                                                                                                                                                                                                                                                                                                                                                                                                                                                                                                                                                                                                                                                                                                                                                                                                                                                                                                                                                                                                                                                      Good luck bud.  You have some anger.  Go jerk off\n",
       "208019                                                                                                                                                                                                                                                                                                                                                                                                                                                                                                                                                                                                                                                                                                                                                                                                                                                                                                                                                                                                                                                                                                                                                                                                                                                                                                                                                                                                                                                                                                                                                                                                                                                                                                                                                                                                                                                                                                                                                         Ok fine I WILL jerk off again\n",
       "13195                                                                                                                                                                                                                                                                                                                                                                                                                                                                                                                                                                                                                                                                                                                                                                                                                                                                                                                                                                                                                                                                                                                                                                                                                                                                                                                                                                                                                                                                                                                                                                                                                                                                                                                                                                                                                                          Its funny that pigs in suits run around all day trying to cover their asses and all i did today was watching a movie and jerked off few times\n",
       "103353                                                                                                                                                                                                                                                                                                                                                                                                                                                                                                                                                                                                                                                                                                                                                                                                                                                                                                                                                                                                                                                                                                                                                                                                                                                                                                                                                                                                                                                                                                                                                                                                                                                                                                                                                 You guys, if we end up closing over $40 then my wife says I can be in the room while she fucks her boyfriend. If we end up over $45 I can jerk off while I watch. Please, make this happen. My rocket is blue and I need the release.\n",
       "80404                                                                                                                                                                                                                                                                                                                                                                                                                                                                                                                                                                                                                                                                                                                                                                                                                                                                                                                                                                                                                                                                                                                                                                                                                                                                                                                                                                                                                                                                                                                                                                                                                                                                                                                                                                                                                                                                                                                                        Who else is jerking it while watching GME moon?\n",
       "14138                                                                                                                                                                                                                                                                                                                                                                                                                                                                                                                                                                                                                                                                                                                                                                                                                                                                                                                                                                                                                                                                                                                                                                                                                                                                                                                                                                                                                                                                                                                                                                                                                                                                                                                                                                                                                                                                            All these halts do is give me more time to jerk off my 💎 cock with my 💎 hands\\n\\nTo the fucking moon 🚀🚀🚀🚀🚀🚀\n",
       "268801                                                                                                                                                                                                                                                                                                                                                                                                                                                                                                                                                                                                                                                                                                                                                                                                                                                                                                                                                                                                                                                                                                                                                                                                                                                                                                                                                                                                                                                                                                                                                                                                                                                                                                                                                                                                                                                                                                  I honestly thought it would be harder jerking off to stock tickers. Well I was wrong"
      ]
     },
     "execution_count": 9,
     "metadata": {},
     "output_type": "execute_result"
    }
   ],
   "source": [
    "# Exploring examples by keyword\n",
    "keyword = 'jerk'\n",
    "full_dataset[full_dataset['body'].str.contains(keyword , na=False)][['body']].sample(10)"
   ]
  },
  {
   "cell_type": "markdown",
   "metadata": {},
   "source": [
    "#### Samples identified as representative (potentially falling under one or more catergories)"
   ]
  },
  {
   "cell_type": "code",
   "execution_count": 10,
   "metadata": {},
   "outputs": [],
   "source": [
    "viable_examples = [22273, 3, 115811, 248996, 187366, 201032, 288906,\n",
    "                   288908, 6509, 220941, 71214, 157648, 62874, 5499, \n",
    "                   49308, 258175]\n",
    "\n",
    "selected_examples = [115811, 6509, 3, 49308, 201032, 157648, 71214, 62874, 5499] # 136623,23120,288908,"
   ]
  },
  {
   "cell_type": "code",
   "execution_count": 11,
   "metadata": {},
   "outputs": [],
   "source": [
    "# full_dataset[['created_utc', 'sub_id','body']].iloc[selected_examples]"
   ]
  },
  {
   "cell_type": "markdown",
   "metadata": {},
   "source": [
    "#### Obtaining the Preceding and Following Comment\n",
    "\n",
    "We are including the preceding and following comment as context for our labelling evaluation. We do this by sorting the dataset by submission (`sub_id`) and time (`created_utc`)."
   ]
  },
  {
   "cell_type": "code",
   "execution_count": 12,
   "metadata": {},
   "outputs": [],
   "source": [
    "sorted_full_dataset = full_dataset[['created_utc', 'sub_id','body']]\\\n",
    ".sort_values(by=['created_utc'])\\\n",
    ".reset_index(False)"
   ]
  },
  {
   "cell_type": "code",
   "execution_count": 13,
   "metadata": {},
   "outputs": [
    {
     "data": {
      "text/html": [
       "<div>\n",
       "<style scoped>\n",
       "    .dataframe tbody tr th:only-of-type {\n",
       "        vertical-align: middle;\n",
       "    }\n",
       "\n",
       "    .dataframe tbody tr th {\n",
       "        vertical-align: top;\n",
       "    }\n",
       "\n",
       "    .dataframe thead th {\n",
       "        text-align: right;\n",
       "    }\n",
       "</style>\n",
       "<table border=\"1\" class=\"dataframe\">\n",
       "  <thead>\n",
       "    <tr style=\"text-align: right;\">\n",
       "      <th></th>\n",
       "      <th>index</th>\n",
       "      <th>created_utc</th>\n",
       "      <th>sub_id</th>\n",
       "      <th>body</th>\n",
       "    </tr>\n",
       "  </thead>\n",
       "  <tbody>\n",
       "    <tr>\n",
       "      <th>0</th>\n",
       "      <td>103083</td>\n",
       "      <td>1.611233e+09</td>\n",
       "      <td>l1xtan</td>\n",
       "      <td>💎🙌🏼 in 🇩🇪</td>\n",
       "    </tr>\n",
       "    <tr>\n",
       "      <th>1</th>\n",
       "      <td>105008</td>\n",
       "      <td>1.611233e+09</td>\n",
       "      <td>l1xtan</td>\n",
       "      <td>F**ck Andrew Left and Citron for their market manipulation.</td>\n",
       "    </tr>\n",
       "    <tr>\n",
       "      <th>2</th>\n",
       "      <td>113385</td>\n",
       "      <td>1.611233e+09</td>\n",
       "      <td>l1xtan</td>\n",
       "      <td>Hi 💎🤲</td>\n",
       "    </tr>\n",
       "    <tr>\n",
       "      <th>3</th>\n",
       "      <td>117004</td>\n",
       "      <td>1.611233e+09</td>\n",
       "      <td>l1xtan</td>\n",
       "      <td>Here we go.</td>\n",
       "    </tr>\n",
       "    <tr>\n",
       "      <th>4</th>\n",
       "      <td>104623</td>\n",
       "      <td>1.611233e+09</td>\n",
       "      <td>l1xtan</td>\n",
       "      <td>Do not fuckin sell bitches!</td>\n",
       "    </tr>\n",
       "    <tr>\n",
       "      <th>5</th>\n",
       "      <td>104796</td>\n",
       "      <td>1.611233e+09</td>\n",
       "      <td>l1xtan</td>\n",
       "      <td>Is today our battle of the bastards? Hopefully it doesn't end as badly as that series....</td>\n",
       "    </tr>\n",
       "    <tr>\n",
       "      <th>6</th>\n",
       "      <td>119036</td>\n",
       "      <td>1.611233e+09</td>\n",
       "      <td>l1xtan</td>\n",
       "      <td>I am here</td>\n",
       "    </tr>\n",
       "    <tr>\n",
       "      <th>7</th>\n",
       "      <td>113386</td>\n",
       "      <td>1.611233e+09</td>\n",
       "      <td>l1xtan</td>\n",
       "      <td>LETS GOOOO</td>\n",
       "    </tr>\n",
       "    <tr>\n",
       "      <th>8</th>\n",
       "      <td>114987</td>\n",
       "      <td>1.611233e+09</td>\n",
       "      <td>l1xtan</td>\n",
       "      <td>Mods keep removing my [retarded GME meme.](https://www.reddit.com/r/wallstreetbets/comments/l1xjae/gme_gang_vs_melvin_capital_ft_udeepfuckingvalue/) Enjoy the autism.</td>\n",
       "    </tr>\n",
       "    <tr>\n",
       "      <th>9</th>\n",
       "      <td>109611</td>\n",
       "      <td>1.611234e+09</td>\n",
       "      <td>l1xtan</td>\n",
       "      <td>So we’re all just going to reload after the post-call dip? Yeah?!? Good. I’m in. GME TDM 🚀🚀🚀🚀</td>\n",
       "    </tr>\n",
       "  </tbody>\n",
       "</table>\n",
       "</div>"
      ],
      "text/plain": [
       "    index   created_utc  sub_id  \\\n",
       "0  103083  1.611233e+09  l1xtan   \n",
       "1  105008  1.611233e+09  l1xtan   \n",
       "2  113385  1.611233e+09  l1xtan   \n",
       "3  117004  1.611233e+09  l1xtan   \n",
       "4  104623  1.611233e+09  l1xtan   \n",
       "5  104796  1.611233e+09  l1xtan   \n",
       "6  119036  1.611233e+09  l1xtan   \n",
       "7  113386  1.611233e+09  l1xtan   \n",
       "8  114987  1.611233e+09  l1xtan   \n",
       "9  109611  1.611234e+09  l1xtan   \n",
       "\n",
       "                                                                                                                                                                     body  \n",
       "0                                                                                                                                                               💎🙌🏼 in 🇩🇪  \n",
       "1                                                                                                             F**ck Andrew Left and Citron for their market manipulation.  \n",
       "2                                                                                                                                                                   Hi 💎🤲  \n",
       "3                                                                                                                                                             Here we go.  \n",
       "4                                                                                                                                             Do not fuckin sell bitches!  \n",
       "5                                                                               Is today our battle of the bastards? Hopefully it doesn't end as badly as that series....  \n",
       "6                                                                                                                                                               I am here  \n",
       "7                                                                                                                                                              LETS GOOOO  \n",
       "8  Mods keep removing my [retarded GME meme.](https://www.reddit.com/r/wallstreetbets/comments/l1xjae/gme_gang_vs_melvin_capital_ft_udeepfuckingvalue/) Enjoy the autism.  \n",
       "9                                                                           So we’re all just going to reload after the post-call dip? Yeah?!? Good. I’m in. GME TDM 🚀🚀🚀🚀  "
      ]
     },
     "execution_count": 13,
     "metadata": {},
     "output_type": "execute_result"
    }
   ],
   "source": [
    "sorted_full_dataset.head(10)"
   ]
  },
  {
   "cell_type": "markdown",
   "metadata": {},
   "source": [
    "For each selected example, we use the new indices (sorted by `sub_id` and `created_utc` ) to label each preceding and following comment. The resulting map will be used to create a pivot table with all the selected examples and related info."
   ]
  },
  {
   "cell_type": "code",
   "execution_count": 14,
   "metadata": {},
   "outputs": [],
   "source": [
    "index_map = {}\n",
    "\n",
    "for ind in selected_examples:\n",
    "    new_ind = sorted_full_dataset[sorted_full_dataset['index']==ind].index.values.astype(int)[0]\n",
    "    example_id = ind\n",
    "    \n",
    "    index_map[new_ind-1] = {\n",
    "        'example_id': str(ind),\n",
    "        'type': 'preceding'\n",
    "    }\n",
    "    index_map[new_ind] = {\n",
    "        'example_id': str(ind),\n",
    "        'type': 'example'\n",
    "    }\n",
    "    index_map[new_ind+1] = {\n",
    "        'example_id': str(ind),\n",
    "        'type': 'following'\n",
    "    }"
   ]
  },
  {
   "cell_type": "code",
   "execution_count": 15,
   "metadata": {},
   "outputs": [],
   "source": [
    "row_indices_needed = list(index_map.keys())\n",
    "# sorted_full_dataset.iloc[row_indices_needed]"
   ]
  },
  {
   "cell_type": "code",
   "execution_count": 16,
   "metadata": {},
   "outputs": [],
   "source": [
    "# Placing the time and sub_id index into a column\n",
    "sorted_full_dataset['new_index'] = sorted_full_dataset.index"
   ]
  },
  {
   "cell_type": "code",
   "execution_count": 17,
   "metadata": {},
   "outputs": [],
   "source": [
    "# Adding in the primary example info and the type of example for each row.\n",
    "sorted_full_dataset['example_type'] = sorted_full_dataset.apply(lambda x: index_map.get(x['new_index'], {}).get(\"type\"), axis=1)\n",
    "sorted_full_dataset['example_id'] = sorted_full_dataset.apply(lambda x: index_map.get(x['new_index'], {}).get(\"example_id\"), axis=1)"
   ]
  },
  {
   "cell_type": "code",
   "execution_count": 18,
   "metadata": {},
   "outputs": [],
   "source": [
    "\n",
    "selected_examples_df = sorted_full_dataset[sorted_full_dataset['new_index'].isin(row_indices_needed)][['example_type','example_id','body']]"
   ]
  },
  {
   "cell_type": "code",
   "execution_count": 19,
   "metadata": {},
   "outputs": [],
   "source": [
    "selected_examples_pivot_table = selected_examples_df.pivot(index='example_id', columns='example_type', values='body').reset_index()[['example_id','preceding', 'example','following']]"
   ]
  },
  {
   "cell_type": "code",
   "execution_count": 20,
   "metadata": {},
   "outputs": [
    {
     "data": {
      "text/html": [
       "<div>\n",
       "<style scoped>\n",
       "    .dataframe tbody tr th:only-of-type {\n",
       "        vertical-align: middle;\n",
       "    }\n",
       "\n",
       "    .dataframe tbody tr th {\n",
       "        vertical-align: top;\n",
       "    }\n",
       "\n",
       "    .dataframe thead th {\n",
       "        text-align: right;\n",
       "    }\n",
       "</style>\n",
       "<table border=\"1\" class=\"dataframe\">\n",
       "  <thead>\n",
       "    <tr style=\"text-align: right;\">\n",
       "      <th>example_type</th>\n",
       "      <th>example_id</th>\n",
       "      <th>preceding</th>\n",
       "      <th>example</th>\n",
       "      <th>following</th>\n",
       "    </tr>\n",
       "  </thead>\n",
       "  <tbody>\n",
       "    <tr>\n",
       "      <th>0</th>\n",
       "      <td>115811</td>\n",
       "      <td>That’s way too low!</td>\n",
       "      <td>Gonna get to 50 EOD because of this cunt. Totally backfired on his ass</td>\n",
       "      <td>All of WSB prematurely ejaculated. What do you expect. May as well buy now before they send us to 50</td>\n",
       "    </tr>\n",
       "    <tr>\n",
       "      <th>1</th>\n",
       "      <td>157648</td>\n",
       "      <td>M M M MMMMEEEGGAAA THREADDDDDDD 💪💎💪💎💪💎 LEGGON! 3,300 shares and counting!</td>\n",
       "      <td>My loving Apes. We see the sails of the enemy approaching. Soon now, we will meet them face-to-face. I am resolved, in the midst and heat of the battle, to live or die amongst you all. While we stand together no invader shall pass. Let them come with the armies of Hell; they will not pass! And when this day of battle is ended, we meet again in Heaven or on the field of victory.</td>\n",
       "      <td>Yes</td>\n",
       "    </tr>\n",
       "    <tr>\n",
       "      <th>2</th>\n",
       "      <td>201032</td>\n",
       "      <td>You don’t deserve the moon if you sell you dumb benis</td>\n",
       "      <td>Hedgies are fucked</td>\n",
       "      <td>Thanks for the lift boys, this ship is spacious!</td>\n",
       "    </tr>\n",
       "    <tr>\n",
       "      <th>3</th>\n",
       "      <td>3</td>\n",
       "      <td>So emotional decision it is then. Good day to you.</td>\n",
       "      <td>Nice realization. I am no full autist and knew I missed the ship so I did not get on board but the moral of of this post is simple - you as an individual have to know when you as an individual are beat (your entries/exits) and no one, including your wife’s boyfriend does not give a shit if your money printer broke or if you burned a hole in your wallet. \\n\\nIn terms of WSB I’ve only been here a year but I’m not excited about the future of this sub.</td>\n",
       "      <td>Bought it at 100 avg and 9 avg (GME and AMC), and maybe I shoulda flaired loss porn? My main point is that I recognize the hype train is over, and I got off before it was TRUELY too late</td>\n",
       "    </tr>\n",
       "    <tr>\n",
       "      <th>4</th>\n",
       "      <td>49308</td>\n",
       "      <td>Should of done 2/19. Third week of a the month is when most trade happens the most. Especially the third week of the Friday.</td>\n",
       "      <td>I mean I’m jerking off because your moms laying under my balls rn</td>\n",
       "      <td>Ladder attacks costs money and only are useful to take the price down, not up.</td>\n",
       "    </tr>\n",
       "    <tr>\n",
       "      <th>5</th>\n",
       "      <td>5499</td>\n",
       "      <td>The shorts they borrowed at $200-$300 are saving the hedge funds billions now. Almost to the point that they can break even by covering those and continuing to pump it down with algorithms until they nearly break even. \\n\\nThere’s simply not much we can do anymore, hold all you want, but $1,000 is a reach now. $200-$400 would be a good cover point. Don’t let these suit fucks steal everything.</td>\n",
       "      <td>Hey guys, I want you to do something for me:\\n\\nThink back about a decade ago.  Occupy Wall Street is at its peak.  You’re feeling a similar hope to what you’re feeling now.  People are standing up against the big Wall Street assholes, and it’s a nationwide phenomenon.  It seems like a revolution.  Something might finally change.\\n\\nBut it doesn’t.  Eventually, people just have to leave, because Wall Street literally drank champagne and laughed at us as we shook our fists at them from the street. Nothing fundamentally changed, because they don’t give a shit about us.  We’re not people to them.\\n\\nFast forward to now.  We are in the midst of the actual revolution.  These motherfuckers aren’t drinking champagne now.  If they are, their flutes are shaking as they raise them to their lips.  It’s a comfort.  Because they are finally having the fight taken to them where it matters:  their fucking wallets.\\n\\nThey are losing their fucking minds.  They’re manipulating the market.  Manipulating the media.  They’re sending bots and writing comments trying to kill our vibes.  They think they can trick us into going home again.  Well, guess what...\\n\\n**I’M NOT FUCKING LEAVING.**\\n\\nWe can literally change a nation if we just HOLD THE FUCKING LINE. I love each and every one of you fucking retards, and even more importantly, I trust you.  We are in this together.  FUCK Wall Street.  Diamond hands motherfuckers!  💎🙌💎🙌\\n\\nI mean this when I say this, and this is the concept that scares them the fucking most:\\n\\n**Apes.  Together.  Strong.** 🦍🦍🦍🦍</td>\n",
       "      <td>The loss porn will be epic</td>\n",
       "    </tr>\n",
       "    <tr>\n",
       "      <th>6</th>\n",
       "      <td>62874</td>\n",
       "      <td>Jesus Christ</td>\n",
       "      <td>Thanks for your input gayboyfaggot</td>\n",
       "      <td>Don't start blaming each other. Brokerages, misleading data, and sketchy scare tactics fucked both of these stocks.</td>\n",
       "    </tr>\n",
       "    <tr>\n",
       "      <th>7</th>\n",
       "      <td>6509</td>\n",
       "      <td>!remindme 2 weeks</td>\n",
       "      <td>Kid: \"Dad why do we live in the poor people's house next to Ken Griffin and Steven Cohen?\"\\n\\nPaperhanded lil bitches: \"I sold all of our GME for a -67% loss during the short ladder attacks cuz I got scared\"\\n\\nKid: \"But I like the stock\"</td>\n",
       "      <td>Soon you’ll be saying that when you are at $5 a share. Clown 🤡</td>\n",
       "    </tr>\n",
       "    <tr>\n",
       "      <th>8</th>\n",
       "      <td>71214</td>\n",
       "      <td>Why you say that??</td>\n",
       "      <td>🚀🚀🚀🚀🚀🚀🦧🦧🦧🦧🦧🦧🦧 where my army of retards at? Did you pack your bananas? This rocket is about to fly fast today 🚀🚀🚀🚀🚀</td>\n",
       "      <td>anyone else have a tingly feeling in their balls when talking about gme</td>\n",
       "    </tr>\n",
       "  </tbody>\n",
       "</table>\n",
       "</div>"
      ],
      "text/plain": [
       "example_type example_id  \\\n",
       "0                115811   \n",
       "1                157648   \n",
       "2                201032   \n",
       "3                     3   \n",
       "4                 49308   \n",
       "5                  5499   \n",
       "6                 62874   \n",
       "7                  6509   \n",
       "8                 71214   \n",
       "\n",
       "example_type                                                                                                                                                                                                                                                                                                                                                                                                    preceding  \\\n",
       "0                                                                                                                                                                                                                                                                                                                                                                                                     That’s way too low!   \n",
       "1                                                                                                                                                                                                                                                                                                                                               M M M MMMMEEEGGAAA THREADDDDDDD 💪💎💪💎💪💎 LEGGON! 3,300 shares and counting!   \n",
       "2                                                                                                                                                                                                                                                                                                                                                                   You don’t deserve the moon if you sell you dumb benis   \n",
       "3                                                                                                                                                                                                                                                                                                                                                                      So emotional decision it is then. Good day to you.   \n",
       "4                                                                                                                                                                                                                                                                                            Should of done 2/19. Third week of a the month is when most trade happens the most. Especially the third week of the Friday.   \n",
       "5             The shorts they borrowed at $200-$300 are saving the hedge funds billions now. Almost to the point that they can break even by covering those and continuing to pump it down with algorithms until they nearly break even. \\n\\nThere’s simply not much we can do anymore, hold all you want, but $1,000 is a reach now. $200-$400 would be a good cover point. Don’t let these suit fucks steal everything.   \n",
       "6                                                                                                                                                                                                                                                                                                                                                                                                            Jesus Christ   \n",
       "7                                                                                                                                                                                                                                                                                                                                                                                                       !remindme 2 weeks   \n",
       "8                                                                                                                                                                                                                                                                                                                                                                                                      Why you say that??   \n",
       "\n",
       "example_type                                                                                                                                                                                                                                                                                                                                                                                                                                                                                                                                                                                                                                                                                                                                                                                                                                                                                                                                                                                                                                                                                                                                                                                                                                                                                                                                                                                                                                                                                                                                                                                                               example  \\\n",
       "0                                                                                                                                                                                                                                                                                                                                                                                                                                                                                                                                                                                                                                                                                                                                                                                                                                                                                                                                                                                                                                                                                                                                                                                                                                                                                                                                                                                                                                                                                                                                                           Gonna get to 50 EOD because of this cunt. Totally backfired on his ass   \n",
       "1                                                                                                                                                                                                                                                                                                                                                                                                                                                                                                                                                                                                                                                                                                                                                                                                                                                                                                                                                                                                                                                                                                                                                                                                                                     My loving Apes. We see the sails of the enemy approaching. Soon now, we will meet them face-to-face. I am resolved, in the midst and heat of the battle, to live or die amongst you all. While we stand together no invader shall pass. Let them come with the armies of Hell; they will not pass! And when this day of battle is ended, we meet again in Heaven or on the field of victory.   \n",
       "2                                                                                                                                                                                                                                                                                                                                                                                                                                                                                                                                                                                                                                                                                                                                                                                                                                                                                                                                                                                                                                                                                                                                                                                                                                                                                                                                                                                                                                                                                                                                                                                                               Hedgies are fucked   \n",
       "3                                                                                                                                                                                                                                                                                                                                                                                                                                                                                                                                                                                                                                                                                                                                                                                                                                                                                                                                                                                                                                                                                                                                                             Nice realization. I am no full autist and knew I missed the ship so I did not get on board but the moral of of this post is simple - you as an individual have to know when you as an individual are beat (your entries/exits) and no one, including your wife’s boyfriend does not give a shit if your money printer broke or if you burned a hole in your wallet. \\n\\nIn terms of WSB I’ve only been here a year but I’m not excited about the future of this sub.   \n",
       "4                                                                                                                                                                                                                                                                                                                                                                                                                                                                                                                                                                                                                                                                                                                                                                                                                                                                                                                                                                                                                                                                                                                                                                                                                                                                                                                                                                                                                                                                                                                                                                I mean I’m jerking off because your moms laying under my balls rn   \n",
       "5             Hey guys, I want you to do something for me:\\n\\nThink back about a decade ago.  Occupy Wall Street is at its peak.  You’re feeling a similar hope to what you’re feeling now.  People are standing up against the big Wall Street assholes, and it’s a nationwide phenomenon.  It seems like a revolution.  Something might finally change.\\n\\nBut it doesn’t.  Eventually, people just have to leave, because Wall Street literally drank champagne and laughed at us as we shook our fists at them from the street. Nothing fundamentally changed, because they don’t give a shit about us.  We’re not people to them.\\n\\nFast forward to now.  We are in the midst of the actual revolution.  These motherfuckers aren’t drinking champagne now.  If they are, their flutes are shaking as they raise them to their lips.  It’s a comfort.  Because they are finally having the fight taken to them where it matters:  their fucking wallets.\\n\\nThey are losing their fucking minds.  They’re manipulating the market.  Manipulating the media.  They’re sending bots and writing comments trying to kill our vibes.  They think they can trick us into going home again.  Well, guess what...\\n\\n**I’M NOT FUCKING LEAVING.**\\n\\nWe can literally change a nation if we just HOLD THE FUCKING LINE. I love each and every one of you fucking retards, and even more importantly, I trust you.  We are in this together.  FUCK Wall Street.  Diamond hands motherfuckers!  💎🙌💎🙌\\n\\nI mean this when I say this, and this is the concept that scares them the fucking most:\\n\\n**Apes.  Together.  Strong.** 🦍🦍🦍🦍   \n",
       "6                                                                                                                                                                                                                                                                                                                                                                                                                                                                                                                                                                                                                                                                                                                                                                                                                                                                                                                                                                                                                                                                                                                                                                                                                                                                                                                                                                                                                                                                                                                                                                                               Thanks for your input gayboyfaggot   \n",
       "7                                                                                                                                                                                                                                                                                                                                                                                                                                                                                                                                                                                                                                                                                                                                                                                                                                                                                                                                                                                                                                                                                                                                                                                                                                                                                                                                                                                   Kid: \"Dad why do we live in the poor people's house next to Ken Griffin and Steven Cohen?\"\\n\\nPaperhanded lil bitches: \"I sold all of our GME for a -67% loss during the short ladder attacks cuz I got scared\"\\n\\nKid: \"But I like the stock\"   \n",
       "8                                                                                                                                                                                                                                                                                                                                                                                                                                                                                                                                                                                                                                                                                                                                                                                                                                                                                                                                                                                                                                                                                                                                                                                                                                                                                                                                                                                                                                                                                                               🚀🚀🚀🚀🚀🚀🦧🦧🦧🦧🦧🦧🦧 where my army of retards at? Did you pack your bananas? This rocket is about to fly fast today 🚀🚀🚀🚀🚀   \n",
       "\n",
       "example_type                                                                                                                                                                                   following  \n",
       "0                                                                                                   All of WSB prematurely ejaculated. What do you expect. May as well buy now before they send us to 50  \n",
       "1                                                                                                                                                                                                    Yes  \n",
       "2                                                                                                                                                       Thanks for the lift boys, this ship is spacious!  \n",
       "3             Bought it at 100 avg and 9 avg (GME and AMC), and maybe I shoulda flaired loss porn? My main point is that I recognize the hype train is over, and I got off before it was TRUELY too late  \n",
       "4                                                                                                                         Ladder attacks costs money and only are useful to take the price down, not up.  \n",
       "5                                                                                                                                                                             The loss porn will be epic  \n",
       "6                                                                                    Don't start blaming each other. Brokerages, misleading data, and sketchy scare tactics fucked both of these stocks.  \n",
       "7                                                                                                                                         Soon you’ll be saying that when you are at $5 a share. Clown 🤡  \n",
       "8                                                                                                                                anyone else have a tingly feeling in their balls when talking about gme  "
      ]
     },
     "execution_count": 20,
     "metadata": {},
     "output_type": "execute_result"
    }
   ],
   "source": [
    "selected_examples_pivot_table "
   ]
  },
  {
   "cell_type": "code",
   "execution_count": null,
   "metadata": {},
   "outputs": [],
   "source": []
  }
 ],
 "metadata": {
  "kernelspec": {
   "display_name": "Python 3",
   "language": "python",
   "name": "python3"
  },
  "language_info": {
   "codemirror_mode": {
    "name": "ipython",
    "version": 3
   },
   "file_extension": ".py",
   "mimetype": "text/x-python",
   "name": "python",
   "nbconvert_exporter": "python",
   "pygments_lexer": "ipython3",
   "version": "3.8.3"
  }
 },
 "nbformat": 4,
 "nbformat_minor": 4
}
