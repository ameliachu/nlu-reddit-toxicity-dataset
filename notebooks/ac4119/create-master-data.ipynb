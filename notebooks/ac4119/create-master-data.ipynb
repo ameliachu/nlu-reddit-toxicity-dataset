{
 "cells": [
  {
   "cell_type": "code",
   "execution_count": 1,
   "metadata": {},
   "outputs": [],
   "source": [
    "import os\n",
    "import datetime as dt\n",
    "import pandas as pd"
   ]
  },
  {
   "cell_type": "code",
   "execution_count": 2,
   "metadata": {},
   "outputs": [
    {
     "name": "stdout",
     "output_type": "stream",
     "text": [
      "['gm2858_labelling_assignment_2022-04-09.csv', 'yp2201_labelling_assignment_2022-04-09.csv', 'ac4119_labelling_assignment_2022-04-09.csv', 'yj2369_labelling_assignment_2022-04-09.csv']\n",
      "/Users/ameliachu/repos/nlu-reddit-toxicity-dataset/data/labelled_master_data_2022-04-18.csv\n"
     ]
    }
   ],
   "source": [
    "repo_dir = \"/Users/ameliachu/repos/nlu-reddit-toxicity-dataset\"\n",
    "labelled_data_dir = f\"{repo_dir}/data/labelled/\"\n",
    "labelled_data_fnames = [f for f in os.listdir(labelled_data_dir) if f.endswith(\"09.csv\")]\n",
    "master_data_location  = f\"{repo_dir}/data/labelled_master_data_{dt.date.today()}.csv\"\n",
    "print(labelled_data_fnames)\n",
    "print(master_data_location)"
   ]
  },
  {
   "cell_type": "code",
   "execution_count": 3,
   "metadata": {},
   "outputs": [],
   "source": [
    "selected_columns = ['example_id', 'preceding_comment', 'comment_for_evaluation',\n",
    "       'following_comment', 'toxicity', 'severe_toxicity', 'identity_attack',\n",
    "       'insult', 'profanity', 'threat']\n",
    "\n",
    "list_of_labelled_data = [pd.read_csv(f\"{labelled_data_dir}{fname}\")[selected_columns] for fname in labelled_data_fnames]"
   ]
  },
  {
   "cell_type": "code",
   "execution_count": 4,
   "metadata": {},
   "outputs": [],
   "source": [
    "selected_columns = ['example_id', 'preceding_comment', 'comment_for_evaluation',\n",
    "       'following_comment', 'toxicity', 'severe_toxicity', 'identity_attack',\n",
    "       'insult', 'profanity', 'threat']\n",
    "\n",
    "list_of_labelled_data = [pd.read_csv(f\"{labelled_data_dir}{fname}\")[selected_columns] for fname in labelled_data_fnames]"
   ]
  },
  {
   "cell_type": "code",
   "execution_count": 5,
   "metadata": {},
   "outputs": [],
   "source": [
    "labelled_master_data = pd.concat(list_of_labelled_data ).drop_duplicates()"
   ]
  },
  {
   "cell_type": "code",
   "execution_count": 6,
   "metadata": {},
   "outputs": [],
   "source": [
    "labelled_master_data.to_csv(master_data_location,index=False)"
   ]
  },
  {
   "cell_type": "code",
   "execution_count": 7,
   "metadata": {},
   "outputs": [
    {
     "data": {
      "text/html": [
       "<div>\n",
       "<style scoped>\n",
       "    .dataframe tbody tr th:only-of-type {\n",
       "        vertical-align: middle;\n",
       "    }\n",
       "\n",
       "    .dataframe tbody tr th {\n",
       "        vertical-align: top;\n",
       "    }\n",
       "\n",
       "    .dataframe thead th {\n",
       "        text-align: right;\n",
       "    }\n",
       "</style>\n",
       "<table border=\"1\" class=\"dataframe\">\n",
       "  <thead>\n",
       "    <tr style=\"text-align: right;\">\n",
       "      <th></th>\n",
       "      <th>example_id</th>\n",
       "      <th>preceding_comment</th>\n",
       "      <th>comment_for_evaluation</th>\n",
       "      <th>following_comment</th>\n",
       "      <th>toxicity</th>\n",
       "      <th>severe_toxicity</th>\n",
       "      <th>identity_attack</th>\n",
       "      <th>insult</th>\n",
       "      <th>profanity</th>\n",
       "      <th>threat</th>\n",
       "    </tr>\n",
       "  </thead>\n",
       "  <tbody>\n",
       "    <tr>\n",
       "      <th>0</th>\n",
       "      <td>104857</td>\n",
       "      <td>[https://www.youtube.com/watch?v=hRBOnA0ak4w&amp;a...</td>\n",
       "      <td>GME just watching this all and doing nothing lol</td>\n",
       "      <td>[https://www.youtube.com/watch?v=hRBOnA0ak4w&amp;a...</td>\n",
       "      <td>0</td>\n",
       "      <td>0</td>\n",
       "      <td>0</td>\n",
       "      <td>0</td>\n",
       "      <td>0</td>\n",
       "      <td>0</td>\n",
       "    </tr>\n",
       "    <tr>\n",
       "      <th>1</th>\n",
       "      <td>105125</td>\n",
       "      <td>#GOTTA GET THAT 1.48% ON A BOND WHOOOO</td>\n",
       "      <td>Everything is down today, knee jerk reaction t...</td>\n",
       "      <td>AMC, I held all this time and I decided to buy...</td>\n",
       "      <td>0</td>\n",
       "      <td>0</td>\n",
       "      <td>0</td>\n",
       "      <td>0</td>\n",
       "      <td>0</td>\n",
       "      <td>0</td>\n",
       "    </tr>\n",
       "    <tr>\n",
       "      <th>2</th>\n",
       "      <td>105684</td>\n",
       "      <td>Having 30k to lose sounds pretty nice to me</td>\n",
       "      <td>No, this is the Warthog</td>\n",
       "      <td>a good trump tweet would turn all this carnage...</td>\n",
       "      <td>0</td>\n",
       "      <td>0</td>\n",
       "      <td>0</td>\n",
       "      <td>0</td>\n",
       "      <td>0</td>\n",
       "      <td>0</td>\n",
       "    </tr>\n",
       "    <tr>\n",
       "      <th>3</th>\n",
       "      <td>105904</td>\n",
       "      <td>His tools for inflation are literally rates an...</td>\n",
       "      <td>The market is not worth what you guys have bee...</td>\n",
       "      <td>Can somebody make clear that it's not us who a...</td>\n",
       "      <td>0</td>\n",
       "      <td>0</td>\n",
       "      <td>0</td>\n",
       "      <td>0</td>\n",
       "      <td>0</td>\n",
       "      <td>0</td>\n",
       "    </tr>\n",
       "    <tr>\n",
       "      <th>4</th>\n",
       "      <td>1138</td>\n",
       "      <td>Wot?</td>\n",
       "      <td>Didnt he sell all his shares?</td>\n",
       "      <td>This is the way lol holding 100 March 12 / $51...</td>\n",
       "      <td>0</td>\n",
       "      <td>0</td>\n",
       "      <td>0</td>\n",
       "      <td>0</td>\n",
       "      <td>0</td>\n",
       "      <td>0</td>\n",
       "    </tr>\n",
       "  </tbody>\n",
       "</table>\n",
       "</div>"
      ],
      "text/plain": [
       "   example_id                                  preceding_comment  \\\n",
       "0      104857  [https://www.youtube.com/watch?v=hRBOnA0ak4w&a...   \n",
       "1      105125             #GOTTA GET THAT 1.48% ON A BOND WHOOOO   \n",
       "2      105684        Having 30k to lose sounds pretty nice to me   \n",
       "3      105904  His tools for inflation are literally rates an...   \n",
       "4        1138                                               Wot?   \n",
       "\n",
       "                              comment_for_evaluation  \\\n",
       "0   GME just watching this all and doing nothing lol   \n",
       "1  Everything is down today, knee jerk reaction t...   \n",
       "2                            No, this is the Warthog   \n",
       "3  The market is not worth what you guys have bee...   \n",
       "4                      Didnt he sell all his shares?   \n",
       "\n",
       "                                   following_comment  toxicity  \\\n",
       "0  [https://www.youtube.com/watch?v=hRBOnA0ak4w&a...         0   \n",
       "1  AMC, I held all this time and I decided to buy...         0   \n",
       "2  a good trump tweet would turn all this carnage...         0   \n",
       "3  Can somebody make clear that it's not us who a...         0   \n",
       "4  This is the way lol holding 100 March 12 / $51...         0   \n",
       "\n",
       "   severe_toxicity  identity_attack  insult  profanity  threat  \n",
       "0                0                0       0          0       0  \n",
       "1                0                0       0          0       0  \n",
       "2                0                0       0          0       0  \n",
       "3                0                0       0          0       0  \n",
       "4                0                0       0          0       0  "
      ]
     },
     "execution_count": 7,
     "metadata": {},
     "output_type": "execute_result"
    }
   ],
   "source": [
    "labelled_master_data.head(5)"
   ]
  },
  {
   "cell_type": "code",
   "execution_count": 8,
   "metadata": {},
   "outputs": [
    {
     "data": {
      "text/plain": [
       "800"
      ]
     },
     "execution_count": 8,
     "metadata": {},
     "output_type": "execute_result"
    }
   ],
   "source": [
    "len(labelled_master_data)"
   ]
  },
  {
   "cell_type": "code",
   "execution_count": null,
   "metadata": {},
   "outputs": [],
   "source": []
  }
 ],
 "metadata": {
  "kernelspec": {
   "display_name": "Python 3",
   "language": "python",
   "name": "python3"
  },
  "language_info": {
   "codemirror_mode": {
    "name": "ipython",
    "version": 3
   },
   "file_extension": ".py",
   "mimetype": "text/x-python",
   "name": "python",
   "nbconvert_exporter": "python",
   "pygments_lexer": "ipython3",
   "version": "3.8.3"
  }
 },
 "nbformat": 4,
 "nbformat_minor": 4
}
