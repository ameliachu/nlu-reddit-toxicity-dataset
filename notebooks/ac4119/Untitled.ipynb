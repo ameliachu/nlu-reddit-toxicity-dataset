{
 "cells": [
  {
   "cell_type": "code",
   "execution_count": 1,
   "metadata": {},
   "outputs": [],
   "source": [
    "import os\n",
    "import pandas as pd\n",
    "import statsmodels.stats.inter_rater as irr"
   ]
  },
  {
   "cell_type": "code",
   "execution_count": 2,
   "metadata": {},
   "outputs": [],
   "source": [
    "repo_dir = \"/Users/ameliachu/repos/nlu-reddit-toxicity-dataset\"\n",
    "data_dir = f\"{repo_dir}/data\""
   ]
  },
  {
   "cell_type": "code",
   "execution_count": 3,
   "metadata": {},
   "outputs": [],
   "source": [
    "interr_dir  = f\"{data_dir}/interrater-reliability/\""
   ]
  },
  {
   "cell_type": "code",
   "execution_count": 4,
   "metadata": {},
   "outputs": [],
   "source": [
    "interr_fnames = [f for f in os.listdir(interr_dir) if f.startswith(\"interrater2\")]"
   ]
  },
  {
   "cell_type": "code",
   "execution_count": 5,
   "metadata": {},
   "outputs": [],
   "source": [
    "labels = ['toxicity', 'severe_toxicity', 'identity_attack', 'insult', 'profanity', 'threat']\n",
    "\n",
    "selected_columns = ['example_index'] + labels # example_id in master_data"
   ]
  },
  {
   "cell_type": "code",
   "execution_count": 6,
   "metadata": {},
   "outputs": [],
   "source": [
    "list_of_interr_data = []\n",
    "for fname in interr_fnames:\n",
    "    rater_data = pd.read_csv(f\"{interr_dir}{fname}\")[selected_columns]\n",
    "    rater_data['rater_id'] = fname.split(\"-\")[1]\n",
    "    list_of_interr_data.append(rater_data)"
   ]
  },
  {
   "cell_type": "code",
   "execution_count": 7,
   "metadata": {},
   "outputs": [
    {
     "name": "stdout",
     "output_type": "stream",
     "text": [
      "['ac4119', 'yp2201', 'yj2369', 'gm2858']\n"
     ]
    }
   ],
   "source": [
    "interrater_data = pd.concat(list_of_interr_data)\n",
    "\n",
    "rater_ids = list(interrater_data['rater_id'].unique())\n",
    "print(rater_ids )"
   ]
  },
  {
   "cell_type": "code",
   "execution_count": 8,
   "metadata": {},
   "outputs": [],
   "source": [
    "interrater_data = interrater_data.melt(id_vars=['rater_id','example_index'], value_vars=labels)\n",
    "\n",
    "interrater_data = pd.pivot_table(interrater_data, index=['example_index', 'variable'], \n",
    "               columns = 'rater_id',\n",
    "               values='value').reset_index()"
   ]
  },
  {
   "cell_type": "code",
   "execution_count": 9,
   "metadata": {},
   "outputs": [],
   "source": [
    "interrater_array = interrater_data[rater_ids].to_numpy()\n",
    "interrater_fleiss_kappa_data, (n_rows, n_cat) =  irr.aggregate_raters(interrater_array)\n",
    "\n",
    "fleiss_kappa_values = {'overall': irr.fleiss_kappa(interrater_fleiss_kappa_data)}"
   ]
  },
  {
   "cell_type": "code",
   "execution_count": 16,
   "metadata": {},
   "outputs": [
    {
     "name": "stderr",
     "output_type": "stream",
     "text": [
      "/Users/ameliachu/anaconda3/lib/python3.8/site-packages/statsmodels/stats/inter_rater.py:264: RuntimeWarning: invalid value encountered in double_scalars\n",
      "  kappa = (p_mean - p_mean_exp) / (1- p_mean_exp)\n"
     ]
    }
   ],
   "source": [
    "for label in labels:\n",
    "    interrater_data_by_label = interrater_data[interrater_data['variable'] == label]\n",
    "    interrater_array = interrater_data_by_label[rater_ids].to_numpy()\n",
    "    interrater_fleiss_kappa_data, n_info =  irr.aggregate_raters(interrater_array)\n",
    "    fleiss_kappa_values[label]= irr.fleiss_kappa(interrater_fleiss_kappa_data)"
   ]
  },
  {
   "cell_type": "code",
   "execution_count": 17,
   "metadata": {},
   "outputs": [
    {
     "data": {
      "text/plain": [
       "{'overall': 0.6999395039322442,\n",
       " 'toxicity': 0.4666666666666667,\n",
       " 'severe_toxicity': 0.11111111111111072,\n",
       " 'identity_attack': -0.09090909090908979,\n",
       " 'insult': 0.8222222222222222,\n",
       " 'profanity': -0.09090909090908979,\n",
       " 'threat': nan}"
      ]
     },
     "execution_count": 17,
     "metadata": {},
     "output_type": "execute_result"
    }
   ],
   "source": [
    "fleiss_kappa_values"
   ]
  },
  {
   "cell_type": "code",
   "execution_count": 15,
   "metadata": {},
   "outputs": [
    {
     "data": {
      "text/plain": [
       "(array([[4],\n",
       "        [4],\n",
       "        [4],\n",
       "        [4],\n",
       "        [4],\n",
       "        [4]]),\n",
       " array([0]))"
      ]
     },
     "execution_count": 15,
     "metadata": {},
     "output_type": "execute_result"
    }
   ],
   "source": [
    "irr.aggregate_raters(interrater_data[interrater_data['variable'] == label][rater_ids].to_numpy())"
   ]
  },
  {
   "cell_type": "code",
   "execution_count": null,
   "metadata": {},
   "outputs": [],
   "source": [
    "irr.aggregate_raters(interrater_array)\n",
    "irr.fleiss_kappa"
   ]
  },
  {
   "cell_type": "code",
   "execution_count": null,
   "metadata": {},
   "outputs": [],
   "source": [
    "interrater_fleiss_kappa_data, (n_rows, n_cat) =  irr.aggregate_raters(interrater_array)"
   ]
  },
  {
   "cell_type": "code",
   "execution_count": null,
   "metadata": {},
   "outputs": [],
   "source": [
    "# https://www.statsmodels.org/dev/generated/statsmodels.stats.inter_rater.fleiss_kappa.html\n",
    "irr.fleiss_kappa(interrater_fleiss_kappa_data)"
   ]
  },
  {
   "cell_type": "code",
   "execution_count": null,
   "metadata": {},
   "outputs": [],
   "source": []
  }
 ],
 "metadata": {
  "kernelspec": {
   "display_name": "Python 3",
   "language": "python",
   "name": "python3"
  },
  "language_info": {
   "codemirror_mode": {
    "name": "ipython",
    "version": 3
   },
   "file_extension": ".py",
   "mimetype": "text/x-python",
   "name": "python",
   "nbconvert_exporter": "python",
   "pygments_lexer": "ipython3",
   "version": "3.8.3"
  }
 },
 "nbformat": 4,
 "nbformat_minor": 4
}
