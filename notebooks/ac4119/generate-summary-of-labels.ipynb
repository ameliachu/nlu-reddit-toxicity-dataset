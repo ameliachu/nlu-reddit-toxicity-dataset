{
 "cells": [
  {
   "cell_type": "code",
   "execution_count": 93,
   "metadata": {},
   "outputs": [],
   "source": [
    "import pandas as pd\n",
    "import seaborn as sns"
   ]
  },
  {
   "cell_type": "code",
   "execution_count": 94,
   "metadata": {},
   "outputs": [],
   "source": [
    "repo_dir = \"/Users/ameliachu/repos/nlu-reddit-toxicity-dataset\"\n",
    "data_dir = f\"{repo_dir}/data\""
   ]
  },
  {
   "cell_type": "code",
   "execution_count": 95,
   "metadata": {},
   "outputs": [],
   "source": [
    "labelled_data_file_name = \"labelled_master_data_2022-04-18.csv\"\n",
    "labelled_data_location = f\"{data_dir}/{labelled_data_file_name}\""
   ]
  },
  {
   "cell_type": "code",
   "execution_count": 96,
   "metadata": {},
   "outputs": [],
   "source": [
    "figures = {}\n",
    "tables = {}"
   ]
  },
  {
   "cell_type": "code",
   "execution_count": 97,
   "metadata": {},
   "outputs": [],
   "source": [
    "labelled_data = pd.read_csv(labelled_data_location)"
   ]
  },
  {
   "cell_type": "code",
   "execution_count": 98,
   "metadata": {},
   "outputs": [
    {
     "data": {
      "text/html": [
       "<div>\n",
       "<style scoped>\n",
       "    .dataframe tbody tr th:only-of-type {\n",
       "        vertical-align: middle;\n",
       "    }\n",
       "\n",
       "    .dataframe tbody tr th {\n",
       "        vertical-align: top;\n",
       "    }\n",
       "\n",
       "    .dataframe thead th {\n",
       "        text-align: right;\n",
       "    }\n",
       "</style>\n",
       "<table border=\"1\" class=\"dataframe\">\n",
       "  <thead>\n",
       "    <tr style=\"text-align: right;\">\n",
       "      <th></th>\n",
       "      <th>example_id</th>\n",
       "      <th>preceding_comment</th>\n",
       "      <th>comment_for_evaluation</th>\n",
       "      <th>following_comment</th>\n",
       "      <th>toxicity</th>\n",
       "      <th>severe_toxicity</th>\n",
       "      <th>identity_attack</th>\n",
       "      <th>insult</th>\n",
       "      <th>profanity</th>\n",
       "      <th>threat</th>\n",
       "    </tr>\n",
       "  </thead>\n",
       "  <tbody>\n",
       "    <tr>\n",
       "      <th>0</th>\n",
       "      <td>104857</td>\n",
       "      <td>[https://www.youtube.com/watch?v=hRBOnA0ak4w&amp;a...</td>\n",
       "      <td>GME just watching this all and doing nothing lol</td>\n",
       "      <td>[https://www.youtube.com/watch?v=hRBOnA0ak4w&amp;a...</td>\n",
       "      <td>0</td>\n",
       "      <td>0</td>\n",
       "      <td>0</td>\n",
       "      <td>0</td>\n",
       "      <td>0</td>\n",
       "      <td>0</td>\n",
       "    </tr>\n",
       "    <tr>\n",
       "      <th>1</th>\n",
       "      <td>105125</td>\n",
       "      <td>#GOTTA GET THAT 1.48% ON A BOND WHOOOO</td>\n",
       "      <td>Everything is down today, knee jerk reaction t...</td>\n",
       "      <td>AMC, I held all this time and I decided to buy...</td>\n",
       "      <td>0</td>\n",
       "      <td>0</td>\n",
       "      <td>0</td>\n",
       "      <td>0</td>\n",
       "      <td>0</td>\n",
       "      <td>0</td>\n",
       "    </tr>\n",
       "    <tr>\n",
       "      <th>2</th>\n",
       "      <td>105684</td>\n",
       "      <td>Having 30k to lose sounds pretty nice to me</td>\n",
       "      <td>No, this is the Warthog</td>\n",
       "      <td>a good trump tweet would turn all this carnage...</td>\n",
       "      <td>0</td>\n",
       "      <td>0</td>\n",
       "      <td>0</td>\n",
       "      <td>0</td>\n",
       "      <td>0</td>\n",
       "      <td>0</td>\n",
       "    </tr>\n",
       "    <tr>\n",
       "      <th>3</th>\n",
       "      <td>105904</td>\n",
       "      <td>His tools for inflation are literally rates an...</td>\n",
       "      <td>The market is not worth what you guys have bee...</td>\n",
       "      <td>Can somebody make clear that it's not us who a...</td>\n",
       "      <td>0</td>\n",
       "      <td>0</td>\n",
       "      <td>0</td>\n",
       "      <td>0</td>\n",
       "      <td>0</td>\n",
       "      <td>0</td>\n",
       "    </tr>\n",
       "    <tr>\n",
       "      <th>4</th>\n",
       "      <td>1138</td>\n",
       "      <td>Wot?</td>\n",
       "      <td>Didnt he sell all his shares?</td>\n",
       "      <td>This is the way lol holding 100 March 12 / $51...</td>\n",
       "      <td>0</td>\n",
       "      <td>0</td>\n",
       "      <td>0</td>\n",
       "      <td>0</td>\n",
       "      <td>0</td>\n",
       "      <td>0</td>\n",
       "    </tr>\n",
       "  </tbody>\n",
       "</table>\n",
       "</div>"
      ],
      "text/plain": [
       "   example_id                                  preceding_comment  \\\n",
       "0      104857  [https://www.youtube.com/watch?v=hRBOnA0ak4w&a...   \n",
       "1      105125             #GOTTA GET THAT 1.48% ON A BOND WHOOOO   \n",
       "2      105684        Having 30k to lose sounds pretty nice to me   \n",
       "3      105904  His tools for inflation are literally rates an...   \n",
       "4        1138                                               Wot?   \n",
       "\n",
       "                              comment_for_evaluation  \\\n",
       "0   GME just watching this all and doing nothing lol   \n",
       "1  Everything is down today, knee jerk reaction t...   \n",
       "2                            No, this is the Warthog   \n",
       "3  The market is not worth what you guys have bee...   \n",
       "4                      Didnt he sell all his shares?   \n",
       "\n",
       "                                   following_comment  toxicity  \\\n",
       "0  [https://www.youtube.com/watch?v=hRBOnA0ak4w&a...         0   \n",
       "1  AMC, I held all this time and I decided to buy...         0   \n",
       "2  a good trump tweet would turn all this carnage...         0   \n",
       "3  Can somebody make clear that it's not us who a...         0   \n",
       "4  This is the way lol holding 100 March 12 / $51...         0   \n",
       "\n",
       "   severe_toxicity  identity_attack  insult  profanity  threat  \n",
       "0                0                0       0          0       0  \n",
       "1                0                0       0          0       0  \n",
       "2                0                0       0          0       0  \n",
       "3                0                0       0          0       0  \n",
       "4                0                0       0          0       0  "
      ]
     },
     "execution_count": 98,
     "metadata": {},
     "output_type": "execute_result"
    }
   ],
   "source": [
    "labelled_data.head(5)"
   ]
  },
  {
   "cell_type": "code",
   "execution_count": 99,
   "metadata": {},
   "outputs": [
    {
     "data": {
      "text/plain": [
       "example_id                799\n",
       "preceding_comment         799\n",
       "comment_for_evaluation    799\n",
       "following_comment         799\n",
       "toxicity                  799\n",
       "severe_toxicity           799\n",
       "identity_attack           799\n",
       "insult                    799\n",
       "profanity                 799\n",
       "threat                    799\n",
       "dtype: int64"
      ]
     },
     "execution_count": 99,
     "metadata": {},
     "output_type": "execute_result"
    }
   ],
   "source": [
    "labelled_data.count()"
   ]
  },
  {
   "cell_type": "code",
   "execution_count": 100,
   "metadata": {},
   "outputs": [],
   "source": [
    "examples_with_missing_labels = labelled_data[labelled_data.isna().any(axis=1)]['example_id']"
   ]
  },
  {
   "cell_type": "code",
   "execution_count": 58,
   "metadata": {},
   "outputs": [
    {
     "data": {
      "text/html": [
       "<div>\n",
       "<style scoped>\n",
       "    .dataframe tbody tr th:only-of-type {\n",
       "        vertical-align: middle;\n",
       "    }\n",
       "\n",
       "    .dataframe tbody tr th {\n",
       "        vertical-align: top;\n",
       "    }\n",
       "\n",
       "    .dataframe thead th {\n",
       "        text-align: right;\n",
       "    }\n",
       "</style>\n",
       "<table border=\"1\" class=\"dataframe\">\n",
       "  <thead>\n",
       "    <tr style=\"text-align: right;\">\n",
       "      <th></th>\n",
       "      <th>example_id</th>\n",
       "      <th>preceding_comment</th>\n",
       "      <th>comment_for_evaluation</th>\n",
       "      <th>following_comment</th>\n",
       "      <th>toxicity</th>\n",
       "      <th>severe_toxicity</th>\n",
       "      <th>identity_attack</th>\n",
       "      <th>insult</th>\n",
       "      <th>profanity</th>\n",
       "      <th>threat</th>\n",
       "    </tr>\n",
       "  </thead>\n",
       "  <tbody>\n",
       "    <tr>\n",
       "      <th>36</th>\n",
       "      <td>210983</td>\n",
       "      <td>30 yr bond auction= 2.29%, not sure if that's ...</td>\n",
       "      <td>Imagine betting against tech\\n\\nLmao retard bo...</td>\n",
       "      <td>CPNG what the fuck</td>\n",
       "      <td>1</td>\n",
       "      <td>0</td>\n",
       "      <td>1</td>\n",
       "      <td>1</td>\n",
       "      <td>NaN</td>\n",
       "      <td>NaN</td>\n",
       "    </tr>\n",
       "  </tbody>\n",
       "</table>\n",
       "</div>"
      ],
      "text/plain": [
       "    example_id                                  preceding_comment  \\\n",
       "36      210983  30 yr bond auction= 2.29%, not sure if that's ...   \n",
       "\n",
       "                               comment_for_evaluation   following_comment  \\\n",
       "36  Imagine betting against tech\\n\\nLmao retard bo...  CPNG what the fuck   \n",
       "\n",
       "    toxicity  severe_toxicity  identity_attack  insult  profanity  threat  \n",
       "36         1                0                1       1        NaN     NaN  "
      ]
     },
     "execution_count": 58,
     "metadata": {},
     "output_type": "execute_result"
    }
   ],
   "source": [
    "labelled_data[labelled_data.isna().any(axis=1)]"
   ]
  },
  {
   "cell_type": "code",
   "execution_count": null,
   "metadata": {},
   "outputs": [],
   "source": [
    "36221, 267142, 301490 = ac4119\n",
    "yj2369 = 98710\n",
    "gm2858 = 210983"
   ]
  },
  {
   "cell_type": "code",
   "execution_count": 59,
   "metadata": {},
   "outputs": [],
   "source": [
    "labels = ['toxicity', 'severe_toxicity', 'identity_attack', 'insult', 'profanity', 'threat']"
   ]
  },
  {
   "cell_type": "code",
   "execution_count": 91,
   "metadata": {},
   "outputs": [],
   "source": [
    "overall_count = pd.DataFrame([{'data_label': 'overall',\n",
    "               'number_of_examples': labelled_data.count()[0]}])\n",
    "by_label_count = labelled_data.agg({l:sum for l in labels}).reset_index()\n",
    "by_label_count.columns = ['data_label','number_of_examples']\n",
    "\n",
    "tables['label_distribution'] = pd.concat([overall_count,by_label_count ]).reset_index(drop=True)"
   ]
  },
  {
   "cell_type": "code",
   "execution_count": 92,
   "metadata": {},
   "outputs": [
    {
     "data": {
      "text/html": [
       "<div>\n",
       "<style scoped>\n",
       "    .dataframe tbody tr th:only-of-type {\n",
       "        vertical-align: middle;\n",
       "    }\n",
       "\n",
       "    .dataframe tbody tr th {\n",
       "        vertical-align: top;\n",
       "    }\n",
       "\n",
       "    .dataframe thead th {\n",
       "        text-align: right;\n",
       "    }\n",
       "</style>\n",
       "<table border=\"1\" class=\"dataframe\">\n",
       "  <thead>\n",
       "    <tr style=\"text-align: right;\">\n",
       "      <th></th>\n",
       "      <th>data_label</th>\n",
       "      <th>number_of_examples</th>\n",
       "    </tr>\n",
       "  </thead>\n",
       "  <tbody>\n",
       "    <tr>\n",
       "      <th>0</th>\n",
       "      <td>overall</td>\n",
       "      <td>800.0</td>\n",
       "    </tr>\n",
       "    <tr>\n",
       "      <th>1</th>\n",
       "      <td>toxicity</td>\n",
       "      <td>23.0</td>\n",
       "    </tr>\n",
       "    <tr>\n",
       "      <th>2</th>\n",
       "      <td>severe_toxicity</td>\n",
       "      <td>3.0</td>\n",
       "    </tr>\n",
       "    <tr>\n",
       "      <th>3</th>\n",
       "      <td>identity_attack</td>\n",
       "      <td>9.0</td>\n",
       "    </tr>\n",
       "    <tr>\n",
       "      <th>4</th>\n",
       "      <td>insult</td>\n",
       "      <td>49.0</td>\n",
       "    </tr>\n",
       "    <tr>\n",
       "      <th>5</th>\n",
       "      <td>profanity</td>\n",
       "      <td>113.0</td>\n",
       "    </tr>\n",
       "    <tr>\n",
       "      <th>6</th>\n",
       "      <td>threat</td>\n",
       "      <td>0.0</td>\n",
       "    </tr>\n",
       "  </tbody>\n",
       "</table>\n",
       "</div>"
      ],
      "text/plain": [
       "        data_label  number_of_examples\n",
       "0          overall               800.0\n",
       "1         toxicity                23.0\n",
       "2  severe_toxicity                 3.0\n",
       "3  identity_attack                 9.0\n",
       "4           insult                49.0\n",
       "5        profanity               113.0\n",
       "6           threat                 0.0"
      ]
     },
     "execution_count": 92,
     "metadata": {},
     "output_type": "execute_result"
    }
   ],
   "source": [
    "tables['label_distribution'] "
   ]
  },
  {
   "cell_type": "code",
   "execution_count": 89,
   "metadata": {},
   "outputs": [],
   "source": [
    "tables['label_corr'] = labelled_data[labels].corr('pearson')"
   ]
  },
  {
   "cell_type": "code",
   "execution_count": 90,
   "metadata": {},
   "outputs": [
    {
     "data": {
      "text/plain": [
       "<matplotlib.axes._subplots.AxesSubplot at 0x7fddda021b20>"
      ]
     },
     "execution_count": 90,
     "metadata": {},
     "output_type": "execute_result"
    },
    {
     "data": {
      "image/png": "[encoded data removed]",
      "text/plain": [
       "<Figure size 432x288 with 2 Axes>"
      ]
     },
     "metadata": {
      "needs_background": "light"
     },
     "output_type": "display_data"
    }
   ],
   "source": [
    "figures['label_corr'] = sns.heatmap(label_corr, annot=True)\n",
    "figures['label_corr']"
   ]
  },
  {
   "cell_type": "code",
   "execution_count": null,
   "metadata": {},
   "outputs": [],
   "source": []
  }
 ],
 "metadata": {
  "kernelspec": {
   "display_name": "Python 3",
   "language": "python",
   "name": "python3"
  },
  "language_info": {
   "codemirror_mode": {
    "name": "ipython",
    "version": 3
   },
   "file_extension": ".py",
   "mimetype": "text/x-python",
   "name": "python",
   "nbconvert_exporter": "python",
   "pygments_lexer": "ipython3",
   "version": "3.8.3"
  }
 },
 "nbformat": 4,
 "nbformat_minor": 4
}
