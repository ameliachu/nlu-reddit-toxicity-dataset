{
 "cells": [
  {
   "cell_type": "code",
   "execution_count": 37,
   "metadata": {},
   "outputs": [],
   "source": [
    "import pandas as pd\n",
    "import pickle\n",
    "import os\n",
    "import random\n",
    "import datetime as dt"
   ]
  },
  {
   "cell_type": "code",
   "execution_count": 52,
   "metadata": {},
   "outputs": [
    {
     "name": "stdout",
     "output_type": "stream",
     "text": [
      "['yj2369_labelling_assignment_2022-04-13.csv', 'gm2858_labelling_assignment_2022-04-09.csv', 'yp2201_labelling_assignment_2022-04-09.csv', 'ac4119_labelling_assignment_2022-04-09.csv', 'ac4119_labelling_assignment_2022-04-13.csv', 'yp2201_labelling_assignment_2022-04-13.csv', 'gm2858_labelling_assignment_2022-04-13.csv', 'yj2369_labelling_assignment_2022-04-09.csv']\n",
      "/Users/ameliachu/repos/nlu-reddit-toxicity-dataset/data/randomized_example_ids.p\n"
     ]
    }
   ],
   "source": [
    "repo_dir = \"/Users/ameliachu/repos/nlu-reddit-toxicity-dataset\"\n",
    "labelled_data_dir = f\"{repo_dir}/data/labelled/\"\n",
    "labelled_data_fnames = [f for f in os.listdir(labelled_data_dir)]\n",
    "randomized_example_ids_path = f\"{repo_dir}/data/randomized_example_ids.p\"\n",
    "interrater_assignment_path = f\"{repo_dir}/data/interrater-reliability/interrater_assignment_2022-04-21.p\"\n",
    "print(labelled_data_fnames)\n",
    "print(randomized_example_ids_path)"
   ]
  },
  {
   "cell_type": "code",
   "execution_count": 53,
   "metadata": {},
   "outputs": [],
   "source": [
    "example_indices = pickle.load( open(randomized_example_ids_path, \"rb\" ) )\n",
    "interrater_assignment = pickle.load( open(interrater_assignment_path, \"rb\" ) )"
   ]
  },
  {
   "cell_type": "code",
   "execution_count": 4,
   "metadata": {},
   "outputs": [],
   "source": [
    "selected_columns = ['example_id']\n",
    "\n",
    "list_of_example_ids = [pd.read_csv(f\"{labelled_data_dir}{fname}\")[selected_columns] for fname in labelled_data_fnames]"
   ]
  },
  {
   "cell_type": "code",
   "execution_count": 11,
   "metadata": {},
   "outputs": [],
   "source": [
    "list_of_example_ids.append(pd.read_csv(f\"{repo_dir}/data/to_label/yp2201_labelling_assignment_2022-04-13\")[selected_columns])"
   ]
  },
  {
   "cell_type": "code",
   "execution_count": 12,
   "metadata": {},
   "outputs": [],
   "source": [
    "example_ids_pd = pd.concat(list_of_example_ids)"
   ]
  },
  {
   "cell_type": "code",
   "execution_count": 13,
   "metadata": {},
   "outputs": [
    {
     "data": {
      "text/plain": [
       "1361"
      ]
     },
     "execution_count": 13,
     "metadata": {},
     "output_type": "execute_result"
    }
   ],
   "source": [
    "len(example_ids_pd)"
   ]
  },
  {
   "cell_type": "code",
   "execution_count": 14,
   "metadata": {},
   "outputs": [
    {
     "data": {
      "text/plain": [
       "1358"
      ]
     },
     "execution_count": 14,
     "metadata": {},
     "output_type": "execute_result"
    }
   ],
   "source": [
    "example_ids_pd.nunique()[0]"
   ]
  },
  {
   "cell_type": "code",
   "execution_count": 15,
   "metadata": {},
   "outputs": [],
   "source": [
    "new_ids = example_indices[1360:]"
   ]
  },
  {
   "cell_type": "code",
   "execution_count": 16,
   "metadata": {},
   "outputs": [],
   "source": [
    "ids_that_should_have_labels = example_indices[:1360]"
   ]
  },
  {
   "cell_type": "code",
   "execution_count": 19,
   "metadata": {},
   "outputs": [],
   "source": [
    "to_label_immediately = set(ids_that_should_have_labels) - set(example_ids_pd.example_id.values)"
   ]
  },
  {
   "cell_type": "code",
   "execution_count": 21,
   "metadata": {},
   "outputs": [
    {
     "data": {
      "text/plain": [
       "597"
      ]
     },
     "execution_count": 21,
     "metadata": {},
     "output_type": "execute_result"
    }
   ],
   "source": [
    "len(to_label_immediately)"
   ]
  },
  {
   "cell_type": "code",
   "execution_count": 30,
   "metadata": {},
   "outputs": [],
   "source": [
    "# Grabbing the index of each example_id we are missing, so that we can replace the example_ids \n",
    "# in the correct order\n",
    "indices_to_replace = [example_indices.index(i) for i in to_label_immediately]\n",
    "ordered_indices = list(set(indices_to_replace))\n",
    "missing_example_ids = [example_indices[i] for i in ordered_indices]"
   ]
  },
  {
   "cell_type": "code",
   "execution_count": 31,
   "metadata": {},
   "outputs": [
    {
     "name": "stdout",
     "output_type": "stream",
     "text": [
      "[375030, 200577, 329502, 511720, 52314]\n"
     ]
    }
   ],
   "source": [
    "print(missing_example_ids[:5])"
   ]
  },
  {
   "cell_type": "code",
   "execution_count": 34,
   "metadata": {},
   "outputs": [],
   "source": [
    "rater_ids = ['ac4119', 'gm2858', 'yj2369','yp2201']\n",
    "num_raters = len(rater_ids)\n",
    "\n",
    "start_id = 0\n",
    "batch_size = 140\n",
    "\n",
    "supplmental_batches = []\n",
    "\n",
    "for i in range(num_raters):\n",
    "    end_id = start_id + batch_size\n",
    "    supplmental_batches.append((start_id, end_id))\n",
    "    start_id = end_id"
   ]
  },
  {
   "cell_type": "code",
   "execution_count": 35,
   "metadata": {},
   "outputs": [
    {
     "name": "stdout",
     "output_type": "stream",
     "text": [
      "[(0, 140), (140, 280), (280, 420), (420, 560)]\n"
     ]
    }
   ],
   "source": [
    "print(supplmental_batches)"
   ]
  },
  {
   "cell_type": "code",
   "execution_count": 38,
   "metadata": {},
   "outputs": [],
   "source": [
    "random.shuffle(rater_ids)"
   ]
  },
  {
   "cell_type": "code",
   "execution_count": 39,
   "metadata": {},
   "outputs": [
    {
     "name": "stdout",
     "output_type": "stream",
     "text": [
      "[('ac4119', (0, 140)), ('yj2369', (140, 280)), ('yp2201', (280, 420)), ('gm2858', (420, 560))]\n"
     ]
    }
   ],
   "source": [
    "assign_batches_to_raters =  list(zip(rater_ids,supplmental_batches))\n",
    "print(assign_batches_to_raters)"
   ]
  },
  {
   "cell_type": "code",
   "execution_count": 42,
   "metadata": {},
   "outputs": [],
   "source": [
    "remaining_examples_to_backfill = missing_example_ids[560:]"
   ]
  },
  {
   "cell_type": "code",
   "execution_count": 43,
   "metadata": {},
   "outputs": [
    {
     "data": {
      "text/plain": [
       "37"
      ]
     },
     "execution_count": 43,
     "metadata": {},
     "output_type": "execute_result"
    }
   ],
   "source": [
    "len(remaining_examples_to_backfill)"
   ]
  },
  {
   "cell_type": "code",
   "execution_count": 47,
   "metadata": {},
   "outputs": [],
   "source": [
    "remaining_backfill_path = f'{repo_dir}/data/backfill_example_ids.p'\n",
    "# pickle.dump(remaining_examples_to_backfill, open(remaining_backfill_path, \"wb\" ) )"
   ]
  },
  {
   "cell_type": "code",
   "execution_count": 54,
   "metadata": {},
   "outputs": [
    {
     "data": {
      "text/plain": [
       "{'ac4119': [592265,\n",
       "  121158,\n",
       "  615201,\n",
       "  48818,\n",
       "  253577,\n",
       "  210983,\n",
       "  590568,\n",
       "  76285,\n",
       "  30108,\n",
       "  349665,\n",
       "  278618,\n",
       "  93976,\n",
       "  619248,\n",
       "  127341,\n",
       "  1138,\n",
       "  316067,\n",
       "  105684,\n",
       "  480137,\n",
       "  136994,\n",
       "  155852,\n",
       "  283669,\n",
       "  119999,\n",
       "  545491,\n",
       "  312469,\n",
       "  511369,\n",
       "  79659,\n",
       "  105683,\n",
       "  70916,\n",
       "  186797,\n",
       "  307610,\n",
       "  597550,\n",
       "  305580,\n",
       "  324017,\n",
       "  196572,\n",
       "  35731,\n",
       "  81366,\n",
       "  65971,\n",
       "  229718,\n",
       "  273130,\n",
       "  309841,\n",
       "  527590,\n",
       "  148848,\n",
       "  473471,\n",
       "  461434,\n",
       "  468289,\n",
       "  73375,\n",
       "  545157,\n",
       "  527855,\n",
       "  583609,\n",
       "  363151,\n",
       "  473334,\n",
       "  198776,\n",
       "  256825,\n",
       "  488655,\n",
       "  227207,\n",
       "  259334,\n",
       "  532332,\n",
       "  104977,\n",
       "  493832,\n",
       "  592491,\n",
       "  269910,\n",
       "  616242,\n",
       "  545067,\n",
       "  71018,\n",
       "  595070,\n",
       "  347615,\n",
       "  428916,\n",
       "  527738,\n",
       "  591714,\n",
       "  556230,\n",
       "  613683,\n",
       "  511042,\n",
       "  120753,\n",
       "  245063,\n",
       "  406404,\n",
       "  21735,\n",
       "  297420,\n",
       "  229498,\n",
       "  436980,\n",
       "  158868,\n",
       "  303224,\n",
       "  8154,\n",
       "  107332,\n",
       "  56281,\n",
       "  340510,\n",
       "  142686,\n",
       "  13089,\n",
       "  589513,\n",
       "  282097,\n",
       "  129154,\n",
       "  353614,\n",
       "  491078,\n",
       "  121387,\n",
       "  261022,\n",
       "  270201,\n",
       "  515863,\n",
       "  488812,\n",
       "  61560,\n",
       "  327873,\n",
       "  87473,\n",
       "  363879,\n",
       "  532722,\n",
       "  379856,\n",
       "  385919,\n",
       "  146706,\n",
       "  588140,\n",
       "  516247,\n",
       "  452452,\n",
       "  525445,\n",
       "  360746,\n",
       "  274788,\n",
       "  322637,\n",
       "  560591,\n",
       "  389144,\n",
       "  473055,\n",
       "  226060,\n",
       "  366031,\n",
       "  572515,\n",
       "  52917,\n",
       "  163976],\n",
       " 'gm2858': [242163,\n",
       "  574216,\n",
       "  556987,\n",
       "  327826,\n",
       "  91067,\n",
       "  550678,\n",
       "  276618,\n",
       "  79834,\n",
       "  30680,\n",
       "  368384,\n",
       "  376708,\n",
       "  382512,\n",
       "  357451,\n",
       "  152166,\n",
       "  246426,\n",
       "  301424,\n",
       "  207935,\n",
       "  228978,\n",
       "  160831,\n",
       "  296538,\n",
       "  397380,\n",
       "  404081,\n",
       "  183756,\n",
       "  256326,\n",
       "  381817,\n",
       "  168920,\n",
       "  587330,\n",
       "  432573,\n",
       "  511822,\n",
       "  224658,\n",
       "  304279,\n",
       "  360566,\n",
       "  313510,\n",
       "  99048,\n",
       "  326984,\n",
       "  444017,\n",
       "  54723,\n",
       "  151261,\n",
       "  285879,\n",
       "  141248,\n",
       "  417327,\n",
       "  213717,\n",
       "  93017,\n",
       "  609296,\n",
       "  99110,\n",
       "  227465,\n",
       "  136031,\n",
       "  499632,\n",
       "  566085,\n",
       "  602735,\n",
       "  188293,\n",
       "  75801,\n",
       "  479075,\n",
       "  184739,\n",
       "  601560,\n",
       "  299053,\n",
       "  483820,\n",
       "  92143,\n",
       "  540180,\n",
       "  549065,\n",
       "  589404,\n",
       "  233050,\n",
       "  173012,\n",
       "  166206,\n",
       "  428361,\n",
       "  555069,\n",
       "  556132,\n",
       "  14165,\n",
       "  291836,\n",
       "  390491,\n",
       "  234547,\n",
       "  70491,\n",
       "  204721,\n",
       "  529925,\n",
       "  109938,\n",
       "  121488,\n",
       "  217580,\n",
       "  155334,\n",
       "  286792,\n",
       "  488743,\n",
       "  59060,\n",
       "  364469,\n",
       "  486461,\n",
       "  227886,\n",
       "  379166,\n",
       "  280814,\n",
       "  369736,\n",
       "  307807,\n",
       "  344157,\n",
       "  82672,\n",
       "  452504,\n",
       "  319328,\n",
       "  25523,\n",
       "  168290,\n",
       "  590218,\n",
       "  55454,\n",
       "  558778,\n",
       "  249645,\n",
       "  108904,\n",
       "  164865,\n",
       "  267706,\n",
       "  207096,\n",
       "  85263,\n",
       "  223,\n",
       "  68819,\n",
       "  268521,\n",
       "  608989,\n",
       "  8305,\n",
       "  155623,\n",
       "  352577,\n",
       "  110625,\n",
       "  511203,\n",
       "  53399,\n",
       "  332571,\n",
       "  183279,\n",
       "  614925,\n",
       "  269350,\n",
       "  92136,\n",
       "  180557,\n",
       "  327760],\n",
       " 'yj2369': [194153,\n",
       "  4419,\n",
       "  155541,\n",
       "  466061,\n",
       "  427732,\n",
       "  341727,\n",
       "  15017,\n",
       "  440423,\n",
       "  117073,\n",
       "  217209,\n",
       "  347170,\n",
       "  437235,\n",
       "  344769,\n",
       "  169947,\n",
       "  500347,\n",
       "  457928,\n",
       "  576502,\n",
       "  349041,\n",
       "  390056,\n",
       "  428932,\n",
       "  146127,\n",
       "  236568,\n",
       "  34714,\n",
       "  422354,\n",
       "  591682,\n",
       "  152200,\n",
       "  6152,\n",
       "  236801,\n",
       "  238711,\n",
       "  423746,\n",
       "  84775,\n",
       "  22206,\n",
       "  329854,\n",
       "  30345,\n",
       "  532490,\n",
       "  501885,\n",
       "  34919,\n",
       "  409857,\n",
       "  426335,\n",
       "  235495,\n",
       "  246265,\n",
       "  356906,\n",
       "  207733,\n",
       "  123367,\n",
       "  366759,\n",
       "  81055,\n",
       "  587369,\n",
       "  324292,\n",
       "  335182,\n",
       "  516988,\n",
       "  316957,\n",
       "  459102,\n",
       "  126194,\n",
       "  189608,\n",
       "  122883,\n",
       "  438510,\n",
       "  451275,\n",
       "  120442,\n",
       "  119886,\n",
       "  31239,\n",
       "  497848,\n",
       "  82391,\n",
       "  220748,\n",
       "  262075,\n",
       "  575686,\n",
       "  277000,\n",
       "  254629,\n",
       "  596669,\n",
       "  385632,\n",
       "  211492,\n",
       "  498449,\n",
       "  458072,\n",
       "  489697,\n",
       "  510375,\n",
       "  518183,\n",
       "  580704,\n",
       "  687,\n",
       "  44709,\n",
       "  475400,\n",
       "  364353,\n",
       "  276033,\n",
       "  278916,\n",
       "  66093,\n",
       "  407760,\n",
       "  106714,\n",
       "  510388,\n",
       "  11714,\n",
       "  172470,\n",
       "  13646,\n",
       "  55685,\n",
       "  566227,\n",
       "  616547,\n",
       "  324741,\n",
       "  8462,\n",
       "  566752,\n",
       "  271580,\n",
       "  240385,\n",
       "  376735,\n",
       "  321954,\n",
       "  344026,\n",
       "  245656,\n",
       "  6914,\n",
       "  567874,\n",
       "  399275,\n",
       "  271343,\n",
       "  251589,\n",
       "  585812,\n",
       "  413628,\n",
       "  515893,\n",
       "  403986,\n",
       "  182133,\n",
       "  612690,\n",
       "  105580,\n",
       "  249905,\n",
       "  552512,\n",
       "  32733,\n",
       "  483799,\n",
       "  149944,\n",
       "  531482,\n",
       "  338359],\n",
       " 'yp2201': [349002,\n",
       "  567561,\n",
       "  497923,\n",
       "  573112,\n",
       "  51115,\n",
       "  240829,\n",
       "  373934,\n",
       "  379834,\n",
       "  519438,\n",
       "  267038,\n",
       "  310431,\n",
       "  267513,\n",
       "  441195,\n",
       "  270830,\n",
       "  159669,\n",
       "  273409,\n",
       "  312029,\n",
       "  595818,\n",
       "  377523,\n",
       "  239924,\n",
       "  270141,\n",
       "  65030,\n",
       "  463066,\n",
       "  576715,\n",
       "  321114,\n",
       "  617246,\n",
       "  348460,\n",
       "  5679,\n",
       "  320547,\n",
       "  571827,\n",
       "  562965,\n",
       "  207499,\n",
       "  50062,\n",
       "  153312,\n",
       "  235725,\n",
       "  266963,\n",
       "  234902,\n",
       "  594899,\n",
       "  267142,\n",
       "  144484,\n",
       "  516793,\n",
       "  493074,\n",
       "  156038,\n",
       "  298401,\n",
       "  316461,\n",
       "  416446,\n",
       "  439834,\n",
       "  593333,\n",
       "  313751,\n",
       "  549167,\n",
       "  275362,\n",
       "  318752,\n",
       "  318889,\n",
       "  385509,\n",
       "  287481,\n",
       "  181207,\n",
       "  222694,\n",
       "  213378,\n",
       "  435737,\n",
       "  593110,\n",
       "  128146,\n",
       "  224531,\n",
       "  463012,\n",
       "  484738,\n",
       "  123713,\n",
       "  213783,\n",
       "  177868,\n",
       "  263278,\n",
       "  450143,\n",
       "  577599,\n",
       "  129162,\n",
       "  240977,\n",
       "  601268,\n",
       "  485673,\n",
       "  435297,\n",
       "  52600,\n",
       "  41827,\n",
       "  428539,\n",
       "  545173,\n",
       "  540480,\n",
       "  32449,\n",
       "  542039,\n",
       "  89416,\n",
       "  188291,\n",
       "  603003,\n",
       "  573551,\n",
       "  60041,\n",
       "  360029,\n",
       "  544531,\n",
       "  27027,\n",
       "  420934,\n",
       "  319955,\n",
       "  290662,\n",
       "  198242,\n",
       "  187259,\n",
       "  400945,\n",
       "  94747,\n",
       "  465909,\n",
       "  304346,\n",
       "  49468,\n",
       "  470310,\n",
       "  210774,\n",
       "  221137,\n",
       "  594332,\n",
       "  150084,\n",
       "  555772,\n",
       "  565698,\n",
       "  538601,\n",
       "  338508,\n",
       "  26054,\n",
       "  43005,\n",
       "  404334,\n",
       "  113182,\n",
       "  534539,\n",
       "  538480,\n",
       "  224527,\n",
       "  244657,\n",
       "  58635,\n",
       "  323592,\n",
       "  26731]}"
      ]
     },
     "execution_count": 54,
     "metadata": {},
     "output_type": "execute_result"
    }
   ],
   "source": [
    "interrater_assignment"
   ]
  },
  {
   "cell_type": "code",
   "execution_count": 40,
   "metadata": {},
   "outputs": [],
   "source": [
    "daily_discussion_data_fname = \"daily_master_data_1614250838_1618692612.csv\"\n",
    "daily_discussion_data_path = f\"{repo_dir}/data/{daily_discussion_data_fname}\"\n",
    "daily_discussion_data = pd.read_csv(daily_discussion_data_path).rename(columns={'Unnamed: 0':'example_id'})"
   ]
  },
  {
   "cell_type": "code",
   "execution_count": 55,
   "metadata": {},
   "outputs": [],
   "source": [
    "to_label_dir = f\"{repo_dir}/data/to_label\"\n",
    "current_date = dt.date.today()\n",
    "labels = ['toxicity', 'severe_toxicity', 'identity_attack', 'insult', 'profanity', 'threat']\n",
    "\n",
    "for rater_id, (start_ind, end_ind) in assign_batches_to_raters:\n",
    "    fname = f\"{rater_id}_labelling_assignment_{current_date}\"\n",
    "    export_location = f\"{to_label_dir}/{fname}\"\n",
    "    assigned_indices = missing_example_ids[start_ind:end_ind]\n",
    "    assigned_indices += interrater_assignment[rater_id]\n",
    "    index_map = {}\n",
    "    required_examples = []\n",
    "    for ind in assigned_indices:\n",
    "        ind_examples = [{\n",
    "        'example_id': str(ind),\n",
    "        'example_type': 'preceding',\n",
    "        'body': daily_discussion_data[daily_discussion_data['example_id'] == ind-1]['body'].values[0]\n",
    "    }, {\n",
    "        'example_id': str(ind),\n",
    "        'example_type': 'example',\n",
    "        'body': daily_discussion_data[daily_discussion_data['example_id'] == ind]['body'].values[0]\n",
    "    },\n",
    "     {\n",
    "        'example_id': str(ind),\n",
    "        'example_type': 'following',\n",
    "        'body': daily_discussion_data[daily_discussion_data['example_id'] == ind+1]['body'].values[0]\n",
    "    }]\n",
    "        required_examples += ind_examples \n",
    "    assigned_data = pd.DataFrame(required_examples)\n",
    "    # Adding in the primary example info and the type of example for each row.\n",
    "    assigned_data = assigned_data[['example_type','example_id','body']].reset_index()\n",
    "    assigned_examples_pivot = assigned_data.pivot(index='example_id', columns='example_type', values='body').reset_index()[['example_id','preceding', 'example','following']]\n",
    "    assigned_examples = assigned_examples_pivot.rename(columns={\n",
    "         'preceding':'preceding_comment',\n",
    "         'following':'following_comment',\n",
    "         'example':'comment_for_evaluation'})\n",
    "    for label in labels:\n",
    "         assigned_examples[label] = \"\"\n",
    "    assigned_examples.to_csv(export_location, index=False)\n",
    "    "
   ]
  },
  {
   "cell_type": "code",
   "execution_count": 56,
   "metadata": {},
   "outputs": [
    {
     "data": {
      "text/plain": [
       "260"
      ]
     },
     "execution_count": 56,
     "metadata": {},
     "output_type": "execute_result"
    }
   ],
   "source": [
    "len(assigned_examples)"
   ]
  },
  {
   "cell_type": "code",
   "execution_count": null,
   "metadata": {},
   "outputs": [],
   "source": []
  }
 ],
 "metadata": {
  "kernelspec": {
   "display_name": "Python 3",
   "language": "python",
   "name": "python3"
  },
  "language_info": {
   "codemirror_mode": {
    "name": "ipython",
    "version": 3
   },
   "file_extension": ".py",
   "mimetype": "text/x-python",
   "name": "python",
   "nbconvert_exporter": "python",
   "pygments_lexer": "ipython3",
   "version": "3.8.3"
  }
 },
 "nbformat": 4,
 "nbformat_minor": 4
}
