{
 "cells": [
  {
   "cell_type": "code",
   "execution_count": 1,
   "metadata": {},
   "outputs": [],
   "source": [
    "import random\n",
    "import os\n",
    "from itertools import combinations\n",
    "import numpy as np\n",
    "import pandas as pd\n",
    "import seaborn as sns\n",
    "\n",
    "from scipy.stats import pearsonr, spearmanr"
   ]
  },
  {
   "cell_type": "code",
   "execution_count": 2,
   "metadata": {},
   "outputs": [],
   "source": [
    "repo_dir = \"/Users/ameliachu/repos/nlu-reddit-toxicity-dataset\"\n",
    "data_dir = f\"{repo_dir}/data\""
   ]
  },
  {
   "cell_type": "code",
   "execution_count": 3,
   "metadata": {},
   "outputs": [],
   "source": [
    "labels = ['toxicity', 'severe_toxicity', 'identity_attack', 'insult', 'profanity', 'threat']"
   ]
  },
  {
   "cell_type": "code",
   "execution_count": 4,
   "metadata": {},
   "outputs": [],
   "source": [
    "labelled_data_file_name = \"labelled_master_data_2022-05-11.csv\"\n",
    "labelled_data_location = f\"{data_dir}/{labelled_data_file_name}\""
   ]
  },
  {
   "cell_type": "code",
   "execution_count": 5,
   "metadata": {},
   "outputs": [],
   "source": [
    "figures = {}\n",
    "tables = {}"
   ]
  },
  {
   "cell_type": "code",
   "execution_count": 6,
   "metadata": {},
   "outputs": [],
   "source": [
    "labelled_data = pd.read_csv(labelled_data_location)"
   ]
  },
  {
   "cell_type": "code",
   "execution_count": 7,
   "metadata": {},
   "outputs": [
    {
     "data": {
      "text/html": [
       "<div>\n",
       "<style scoped>\n",
       "    .dataframe tbody tr th:only-of-type {\n",
       "        vertical-align: middle;\n",
       "    }\n",
       "\n",
       "    .dataframe tbody tr th {\n",
       "        vertical-align: top;\n",
       "    }\n",
       "\n",
       "    .dataframe thead th {\n",
       "        text-align: right;\n",
       "    }\n",
       "</style>\n",
       "<table border=\"1\" class=\"dataframe\">\n",
       "  <thead>\n",
       "    <tr style=\"text-align: right;\">\n",
       "      <th></th>\n",
       "      <th>Unnamed: 0</th>\n",
       "      <th>example_id</th>\n",
       "      <th>preceding_comment</th>\n",
       "      <th>comment_for_evaluation</th>\n",
       "      <th>following_comment</th>\n",
       "      <th>toxicity</th>\n",
       "      <th>severe_toxicity</th>\n",
       "      <th>identity_attack</th>\n",
       "      <th>insult</th>\n",
       "      <th>profanity</th>\n",
       "      <th>threat</th>\n",
       "    </tr>\n",
       "  </thead>\n",
       "  <tbody>\n",
       "    <tr>\n",
       "      <th>0</th>\n",
       "      <td>6</td>\n",
       "      <td>275362</td>\n",
       "      <td>Which one of u bought my stocks? &gt;:(</td>\n",
       "      <td>posted this in the other thread but the more i...</td>\n",
       "      <td>That thing is 1.64% rn.  JPow has to say somet...</td>\n",
       "      <td>0.0</td>\n",
       "      <td>0.0</td>\n",
       "      <td>0.0</td>\n",
       "      <td>0.0</td>\n",
       "      <td>1.0</td>\n",
       "      <td>0.0</td>\n",
       "    </tr>\n",
       "    <tr>\n",
       "      <th>1</th>\n",
       "      <td>12</td>\n",
       "      <td>30108</td>\n",
       "      <td>Alexa play down by 311.</td>\n",
       "      <td>No one cares about 10 year bonds bro - thats j...</td>\n",
       "      <td>Sorry you were born the bad kind of retarded.</td>\n",
       "      <td>0.0</td>\n",
       "      <td>0.0</td>\n",
       "      <td>0.0</td>\n",
       "      <td>0.0</td>\n",
       "      <td>1.0</td>\n",
       "      <td>0.0</td>\n",
       "    </tr>\n",
       "    <tr>\n",
       "      <th>2</th>\n",
       "      <td>21</td>\n",
       "      <td>316461</td>\n",
       "      <td>Today = no Vaseline</td>\n",
       "      <td>The entire market is fucking hemorrhaging</td>\n",
       "      <td>Imagine putting your money in bonds lol</td>\n",
       "      <td>0.0</td>\n",
       "      <td>0.0</td>\n",
       "      <td>0.0</td>\n",
       "      <td>0.0</td>\n",
       "      <td>1.0</td>\n",
       "      <td>0.0</td>\n",
       "    </tr>\n",
       "    <tr>\n",
       "      <th>3</th>\n",
       "      <td>22</td>\n",
       "      <td>316957</td>\n",
       "      <td>definitely.  keep buying guys !!!!! HURRRDURRr</td>\n",
       "      <td>damn so my puts are fukd</td>\n",
       "      <td>Quick, everyone buy Into the bull trap again!</td>\n",
       "      <td>0.0</td>\n",
       "      <td>0.0</td>\n",
       "      <td>0.0</td>\n",
       "      <td>0.0</td>\n",
       "      <td>1.0</td>\n",
       "      <td>0.0</td>\n",
       "    </tr>\n",
       "    <tr>\n",
       "      <th>4</th>\n",
       "      <td>23</td>\n",
       "      <td>318752</td>\n",
       "      <td>Big if true.</td>\n",
       "      <td>Do you routinely comment your opinion on topic...</td>\n",
       "      <td>They get all 4, fuck that.\\n\\nJust one Warlock...</td>\n",
       "      <td>1.0</td>\n",
       "      <td>1.0</td>\n",
       "      <td>0.0</td>\n",
       "      <td>1.0</td>\n",
       "      <td>0.0</td>\n",
       "      <td>0.0</td>\n",
       "    </tr>\n",
       "  </tbody>\n",
       "</table>\n",
       "</div>"
      ],
      "text/plain": [
       "   Unnamed: 0  example_id                               preceding_comment  \\\n",
       "0           6      275362            Which one of u bought my stocks? >:(   \n",
       "1          12       30108                         Alexa play down by 311.   \n",
       "2          21      316461                             Today = no Vaseline   \n",
       "3          22      316957  definitely.  keep buying guys !!!!! HURRRDURRr   \n",
       "4          23      318752                                    Big if true.   \n",
       "\n",
       "                              comment_for_evaluation  \\\n",
       "0  posted this in the other thread but the more i...   \n",
       "1  No one cares about 10 year bonds bro - thats j...   \n",
       "2          The entire market is fucking hemorrhaging   \n",
       "3                           damn so my puts are fukd   \n",
       "4  Do you routinely comment your opinion on topic...   \n",
       "\n",
       "                                   following_comment  toxicity  \\\n",
       "0  That thing is 1.64% rn.  JPow has to say somet...       0.0   \n",
       "1      Sorry you were born the bad kind of retarded.       0.0   \n",
       "2            Imagine putting your money in bonds lol       0.0   \n",
       "3      Quick, everyone buy Into the bull trap again!       0.0   \n",
       "4  They get all 4, fuck that.\\n\\nJust one Warlock...       1.0   \n",
       "\n",
       "   severe_toxicity  identity_attack  insult  profanity  threat  \n",
       "0              0.0              0.0     0.0        1.0     0.0  \n",
       "1              0.0              0.0     0.0        1.0     0.0  \n",
       "2              0.0              0.0     0.0        1.0     0.0  \n",
       "3              0.0              0.0     0.0        1.0     0.0  \n",
       "4              1.0              0.0     1.0        0.0     0.0  "
      ]
     },
     "execution_count": 7,
     "metadata": {},
     "output_type": "execute_result"
    }
   ],
   "source": [
    "labelled_data.head(5)"
   ]
  },
  {
   "cell_type": "code",
   "execution_count": 8,
   "metadata": {},
   "outputs": [],
   "source": [
    "# Make the words look nicer\n",
    "labels_dict = {\n",
    "     'toxicity': 'Toxicity',\n",
    "     'severe_toxicity': 'Severe Toxicity',\n",
    "     'identity_attack': 'Identity Attack',\n",
    "     'insult': 'Insult',\n",
    "     'profanity': 'Profanity',\n",
    "     'threat':'Threat'\n",
    "}"
   ]
  },
  {
   "cell_type": "code",
   "execution_count": 9,
   "metadata": {},
   "outputs": [],
   "source": [
    "labelled_data = labelled_data.rename(columns=labels_dict)"
   ]
  },
  {
   "cell_type": "code",
   "execution_count": 19,
   "metadata": {},
   "outputs": [],
   "source": [
    "labels = list(labels_dict.values())"
   ]
  },
  {
   "cell_type": "code",
   "execution_count": 20,
   "metadata": {},
   "outputs": [
    {
     "name": "stdout",
     "output_type": "stream",
     "text": [
      "800\n"
     ]
    }
   ],
   "source": [
    "n_total_examples = labelled_data.count()[0]\n",
    "print(n_total_examples)"
   ]
  },
  {
   "cell_type": "code",
   "execution_count": 21,
   "metadata": {},
   "outputs": [
    {
     "name": "stdout",
     "output_type": "stream",
     "text": [
      "0\n"
     ]
    }
   ],
   "source": [
    "examples_with_missing_labels = labelled_data[labelled_data.isna().any(axis=1)]['example_id']\n",
    "print(len(examples_with_missing_labels))"
   ]
  },
  {
   "cell_type": "code",
   "execution_count": 23,
   "metadata": {},
   "outputs": [
    {
     "data": {
      "text/plain": [
       "'483 0.60'"
      ]
     },
     "execution_count": 23,
     "metadata": {},
     "output_type": "execute_result"
    }
   ],
   "source": [
    "labelled_data['has_toxicity'] = labelled_data[labels].sum(axis=1)\n",
    "n_toxic_examples =  labelled_data[labelled_data['has_toxicity'] >=1].count()[0]\n",
    "total_examples = labelled_data.count()[0]\n",
    "f\"{n_toxic_examples} {n_toxic_examples / total_examples:.2f}\""
   ]
  },
  {
   "cell_type": "code",
   "execution_count": null,
   "metadata": {},
   "outputs": [],
   "source": [
    "all_reviewed_distribution = pd.concat"
   ]
  },
  {
   "cell_type": "code",
   "execution_count": 26,
   "metadata": {},
   "outputs": [],
   "source": [
    "overall_count = pd.DataFrame([{'data_label': 'Overall',\n",
    "               'number_of_examples': labelled_data.count()[0]}])\n",
    "by_label_count = labelled_data.agg({l:sum for l in labels}).reset_index()\n",
    "by_label_count.columns = [\"Attribute\", \"Number of Examples\"]\n",
    "\n",
    "tables['label_distribution'] = pd.concat([overall_count,by_label_count ]).reset_index(drop=True)"
   ]
  },
  {
   "cell_type": "code",
   "execution_count": 31,
   "metadata": {},
   "outputs": [],
   "source": [
    "tables['label_distribution'].columns = [\"Attribute\", \"Number of Examples\"]"
   ]
  },
  {
   "cell_type": "code",
   "execution_count": 34,
   "metadata": {},
   "outputs": [
    {
     "data": {
      "text/plain": [
       "'/Users/ameliachu/repos/nlu-reddit-toxicity-dataset/reporting/assets/data-distribution.csv'"
      ]
     },
     "execution_count": 34,
     "metadata": {},
     "output_type": "execute_result"
    }
   ],
   "source": [
    "f\"{repo_dir}/reporting/assets/data-distribution.csv\""
   ]
  },
  {
   "cell_type": "code",
   "execution_count": 38,
   "metadata": {},
   "outputs": [],
   "source": [
    "tables['label_distribution'].to_csv(f\"{repo_dir}/reporting/assets/data-distribution.csv\",index=False)"
   ]
  },
  {
   "cell_type": "code",
   "execution_count": 49,
   "metadata": {},
   "outputs": [
    {
     "data": {
      "text/html": [
       "<div>\n",
       "<style scoped>\n",
       "    .dataframe tbody tr th:only-of-type {\n",
       "        vertical-align: middle;\n",
       "    }\n",
       "\n",
       "    .dataframe tbody tr th {\n",
       "        vertical-align: top;\n",
       "    }\n",
       "\n",
       "    .dataframe thead th {\n",
       "        text-align: right;\n",
       "    }\n",
       "</style>\n",
       "<table border=\"1\" class=\"dataframe\">\n",
       "  <thead>\n",
       "    <tr style=\"text-align: right;\">\n",
       "      <th></th>\n",
       "      <th>Attribute</th>\n",
       "      <th>Number of Examples</th>\n",
       "    </tr>\n",
       "  </thead>\n",
       "  <tbody>\n",
       "    <tr>\n",
       "      <th>0</th>\n",
       "      <td>Overall</td>\n",
       "      <td>800.0</td>\n",
       "    </tr>\n",
       "    <tr>\n",
       "      <th>1</th>\n",
       "      <td>Toxicity</td>\n",
       "      <td>109.0</td>\n",
       "    </tr>\n",
       "    <tr>\n",
       "      <th>2</th>\n",
       "      <td>Severe Toxicity</td>\n",
       "      <td>24.0</td>\n",
       "    </tr>\n",
       "    <tr>\n",
       "      <th>3</th>\n",
       "      <td>Identity Attack</td>\n",
       "      <td>67.0</td>\n",
       "    </tr>\n",
       "    <tr>\n",
       "      <th>4</th>\n",
       "      <td>Insult</td>\n",
       "      <td>130.0</td>\n",
       "    </tr>\n",
       "    <tr>\n",
       "      <th>5</th>\n",
       "      <td>Profanity</td>\n",
       "      <td>405.0</td>\n",
       "    </tr>\n",
       "    <tr>\n",
       "      <th>6</th>\n",
       "      <td>Threat</td>\n",
       "      <td>3.0</td>\n",
       "    </tr>\n",
       "  </tbody>\n",
       "</table>\n",
       "</div>"
      ],
      "text/plain": [
       "         Attribute  Number of Examples\n",
       "0          Overall               800.0\n",
       "1         Toxicity               109.0\n",
       "2  Severe Toxicity                24.0\n",
       "3  Identity Attack                67.0\n",
       "4           Insult               130.0\n",
       "5        Profanity               405.0\n",
       "6           Threat                 3.0"
      ]
     },
     "execution_count": 49,
     "metadata": {},
     "output_type": "execute_result"
    }
   ],
   "source": [
    "tables['label_distribution']"
   ]
  },
  {
   "cell_type": "code",
   "execution_count": 46,
   "metadata": {},
   "outputs": [],
   "source": [
    "all_labelled_data_file_name = \"all_labelled_data_2022-05-12.csv\"\n",
    "all_labelled_data_location = f\"{data_dir}/{all_labelled_data_file_name}\"\n",
    "all_reviewed_distribution = pd.read_csv(all_labelled_data_location)\n",
    "\n",
    "all_reviewed_distribution  = all_reviewed_distribution .rename(columns=labels_dict)"
   ]
  },
  {
   "cell_type": "code",
   "execution_count": 47,
   "metadata": {},
   "outputs": [],
   "source": [
    "overall_count = pd.DataFrame([{\"Attribute\": 'Overall',\n",
    "               \"Number of Examples\": all_reviewed_distribution.count()[0]}])\n",
    "by_label_count = all_reviewed_distribution.agg({l:sum for l in labels}).reset_index()\n",
    "by_label_count.columns = [\"Attribute\", \"Number of Examples\"]\n",
    "tables['all_reviewed_distribution'] = pd.concat([overall_count,by_label_count ]).reset_index(drop=True)\n",
    "tables['all_reviewed_distribution'].to_csv(f\"{repo_dir}/reporting/assets/data-distribution-all-reviewed.csv\",index=False)"
   ]
  },
  {
   "cell_type": "code",
   "execution_count": 48,
   "metadata": {},
   "outputs": [
    {
     "data": {
      "text/html": [
       "<div>\n",
       "<style scoped>\n",
       "    .dataframe tbody tr th:only-of-type {\n",
       "        vertical-align: middle;\n",
       "    }\n",
       "\n",
       "    .dataframe tbody tr th {\n",
       "        vertical-align: top;\n",
       "    }\n",
       "\n",
       "    .dataframe thead th {\n",
       "        text-align: right;\n",
       "    }\n",
       "</style>\n",
       "<table border=\"1\" class=\"dataframe\">\n",
       "  <thead>\n",
       "    <tr style=\"text-align: right;\">\n",
       "      <th></th>\n",
       "      <th>Attribute</th>\n",
       "      <th>Number of Examples</th>\n",
       "    </tr>\n",
       "  </thead>\n",
       "  <tbody>\n",
       "    <tr>\n",
       "      <th>0</th>\n",
       "      <td>Overall</td>\n",
       "      <td>2441.0</td>\n",
       "    </tr>\n",
       "    <tr>\n",
       "      <th>1</th>\n",
       "      <td>Toxicity</td>\n",
       "      <td>109.0</td>\n",
       "    </tr>\n",
       "    <tr>\n",
       "      <th>2</th>\n",
       "      <td>Severe Toxicity</td>\n",
       "      <td>24.0</td>\n",
       "    </tr>\n",
       "    <tr>\n",
       "      <th>3</th>\n",
       "      <td>Identity Attack</td>\n",
       "      <td>67.0</td>\n",
       "    </tr>\n",
       "    <tr>\n",
       "      <th>4</th>\n",
       "      <td>Insult</td>\n",
       "      <td>130.0</td>\n",
       "    </tr>\n",
       "    <tr>\n",
       "      <th>5</th>\n",
       "      <td>Profanity</td>\n",
       "      <td>405.0</td>\n",
       "    </tr>\n",
       "    <tr>\n",
       "      <th>6</th>\n",
       "      <td>Threat</td>\n",
       "      <td>3.0</td>\n",
       "    </tr>\n",
       "  </tbody>\n",
       "</table>\n",
       "</div>"
      ],
      "text/plain": [
       "         Attribute  Number of Examples\n",
       "0          Overall              2441.0\n",
       "1         Toxicity               109.0\n",
       "2  Severe Toxicity                24.0\n",
       "3  Identity Attack                67.0\n",
       "4           Insult               130.0\n",
       "5        Profanity               405.0\n",
       "6           Threat                 3.0"
      ]
     },
     "execution_count": 48,
     "metadata": {},
     "output_type": "execute_result"
    }
   ],
   "source": [
    "tables['all_reviewed_distribution'] "
   ]
  },
  {
   "cell_type": "code",
   "execution_count": 28,
   "metadata": {},
   "outputs": [],
   "source": [
    "tables['label_corr'] = labelled_data[labels].corr('pearson')"
   ]
  },
  {
   "cell_type": "code",
   "execution_count": 29,
   "metadata": {},
   "outputs": [
    {
     "data": {
      "text/html": [
       "<div>\n",
       "<style scoped>\n",
       "    .dataframe tbody tr th:only-of-type {\n",
       "        vertical-align: middle;\n",
       "    }\n",
       "\n",
       "    .dataframe tbody tr th {\n",
       "        vertical-align: top;\n",
       "    }\n",
       "\n",
       "    .dataframe thead th {\n",
       "        text-align: right;\n",
       "    }\n",
       "</style>\n",
       "<table border=\"1\" class=\"dataframe\">\n",
       "  <thead>\n",
       "    <tr style=\"text-align: right;\">\n",
       "      <th></th>\n",
       "      <th>Toxicity</th>\n",
       "      <th>Severe Toxicity</th>\n",
       "      <th>Identity Attack</th>\n",
       "      <th>Insult</th>\n",
       "      <th>Profanity</th>\n",
       "      <th>Threat</th>\n",
       "    </tr>\n",
       "  </thead>\n",
       "  <tbody>\n",
       "    <tr>\n",
       "      <th>Toxicity</th>\n",
       "      <td>1.000000</td>\n",
       "      <td>0.442793</td>\n",
       "      <td>0.313996</td>\n",
       "      <td>0.625096</td>\n",
       "      <td>0.056983</td>\n",
       "      <td>0.035247</td>\n",
       "    </tr>\n",
       "    <tr>\n",
       "      <th>Severe Toxicity</th>\n",
       "      <td>0.442793</td>\n",
       "      <td>1.000000</td>\n",
       "      <td>0.184902</td>\n",
       "      <td>0.339657</td>\n",
       "      <td>0.100396</td>\n",
       "      <td>-0.010790</td>\n",
       "    </tr>\n",
       "    <tr>\n",
       "      <th>Identity Attack</th>\n",
       "      <td>0.313996</td>\n",
       "      <td>0.184902</td>\n",
       "      <td>1.000000</td>\n",
       "      <td>0.331636</td>\n",
       "      <td>0.054887</td>\n",
       "      <td>-0.018549</td>\n",
       "    </tr>\n",
       "    <tr>\n",
       "      <th>Insult</th>\n",
       "      <td>0.625096</td>\n",
       "      <td>0.339657</td>\n",
       "      <td>0.331636</td>\n",
       "      <td>1.000000</td>\n",
       "      <td>0.096153</td>\n",
       "      <td>0.083847</td>\n",
       "    </tr>\n",
       "    <tr>\n",
       "      <th>Profanity</th>\n",
       "      <td>0.056983</td>\n",
       "      <td>0.100396</td>\n",
       "      <td>0.054887</td>\n",
       "      <td>0.096153</td>\n",
       "      <td>1.000000</td>\n",
       "      <td>-0.021219</td>\n",
       "    </tr>\n",
       "    <tr>\n",
       "      <th>Threat</th>\n",
       "      <td>0.035247</td>\n",
       "      <td>-0.010790</td>\n",
       "      <td>-0.018549</td>\n",
       "      <td>0.083847</td>\n",
       "      <td>-0.021219</td>\n",
       "      <td>1.000000</td>\n",
       "    </tr>\n",
       "  </tbody>\n",
       "</table>\n",
       "</div>"
      ],
      "text/plain": [
       "                 Toxicity  Severe Toxicity  Identity Attack    Insult  \\\n",
       "Toxicity         1.000000         0.442793         0.313996  0.625096   \n",
       "Severe Toxicity  0.442793         1.000000         0.184902  0.339657   \n",
       "Identity Attack  0.313996         0.184902         1.000000  0.331636   \n",
       "Insult           0.625096         0.339657         0.331636  1.000000   \n",
       "Profanity        0.056983         0.100396         0.054887  0.096153   \n",
       "Threat           0.035247        -0.010790        -0.018549  0.083847   \n",
       "\n",
       "                 Profanity    Threat  \n",
       "Toxicity          0.056983  0.035247  \n",
       "Severe Toxicity   0.100396 -0.010790  \n",
       "Identity Attack   0.054887 -0.018549  \n",
       "Insult            0.096153  0.083847  \n",
       "Profanity         1.000000 -0.021219  \n",
       "Threat           -0.021219  1.000000  "
      ]
     },
     "execution_count": 29,
     "metadata": {},
     "output_type": "execute_result"
    }
   ],
   "source": [
    "tables['label_corr'] "
   ]
  },
  {
   "cell_type": "code",
   "execution_count": 30,
   "metadata": {},
   "outputs": [
    {
     "data": {
      "text/plain": [
       "<matplotlib.axes._subplots.AxesSubplot at 0x7f7959264b80>"
      ]
     },
     "execution_count": 30,
     "metadata": {},
     "output_type": "execute_result"
    },
    {
     "data": {
      "image/png": "[encoded data removed]",
      "text/plain": [
       "<Figure size 432x288 with 2 Axes>"
      ]
     },
     "metadata": {
      "needs_background": "light"
     },
     "output_type": "display_data"
    }
   ],
   "source": [
    "figures['label_corr'] = sns.heatmap(tables['label_corr'], annot=True)\n",
    "figures['label_corr']"
   ]
  },
  {
   "cell_type": "code",
   "execution_count": 37,
   "metadata": {},
   "outputs": [
    {
     "data": {
      "image/png": "[encoded data removed]",
      "text/plain": [
       "<Figure size 432x288 with 2 Axes>"
      ]
     },
     "metadata": {
      "needs_background": "light"
     },
     "output_type": "display_data"
    }
   ],
   "source": [
    "from matplotlib import pyplot as plt\n",
    "sns.heatmap(tables['label_corr'], annot=True)\n",
    "plt.savefig(f'{repo_dir}/reporting/assets/heatmap-corr.png')"
   ]
  },
  {
   "cell_type": "code",
   "execution_count": 20,
   "metadata": {},
   "outputs": [],
   "source": [
    "interrater_dir = f\"{data_dir}/interrater-reliability\""
   ]
  },
  {
   "cell_type": "code",
   "execution_count": 21,
   "metadata": {},
   "outputs": [],
   "source": [
    "interrater_files = [f for f in os.listdir(interrater_dir) if f.startswith('interrater2') ]"
   ]
  },
  {
   "cell_type": "code",
   "execution_count": 20,
   "metadata": {},
   "outputs": [],
   "source": [
    "interrater_info = {}\n",
    "for file in interrater_files:\n",
    "    file_type, rater_id, date_rated = file.split('.')[0].split('-')\n",
    "    data_path = f'{interrater_dir}/{file}'\n",
    "    interrater_info[rater_id] = {\n",
    "        \"data\": pd.read_csv(data_path),\n",
    "        \"created_date\": date_rated,\n",
    "        \"file_path\": data_path\n",
    "                          }"
   ]
  },
  {
   "cell_type": "code",
   "execution_count": 21,
   "metadata": {},
   "outputs": [],
   "source": [
    "raters = list(interrater_info.keys())\n",
    "random.shuffle(raters)"
   ]
  },
  {
   "cell_type": "code",
   "execution_count": 22,
   "metadata": {},
   "outputs": [],
   "source": [
    "num_raters = len(raters)\n",
    "all_rater_combinations = list(combinations(range(num_raters), 2))"
   ]
  },
  {
   "cell_type": "code",
   "execution_count": 23,
   "metadata": {},
   "outputs": [],
   "source": [
    "interrater_assessments = []\n",
    "labels = ['toxicity', 'severe_toxicity', 'identity_attack', 'insult', 'profanity', 'threat']\n",
    "selected_columns = ['example_index','comment_for_evaluation'] + labels\n",
    "\n",
    "for i, rater_id in enumerate(raters):\n",
    "    individual_ratings = interrater_info[rater_id]['data'][selected_columns]\n",
    "    interrater_assessment = pd.melt(individual_ratings,\n",
    "                                    id_vars=['example_index'], \n",
    "                                    value_vars=labels)\\\n",
    "                              .rename(columns={'value':'label'})\n",
    "    # Using file id instead of rater_id to anonymize results\n",
    "    interrater_assessment[\"file_id\"] = i\n",
    "    interrater_assessments.append(interrater_assessment)"
   ]
  },
  {
   "cell_type": "code",
   "execution_count": 24,
   "metadata": {},
   "outputs": [],
   "source": [
    "interrater_assessments_df = pd.concat(interrater_assessments)\n",
    "interrater_assessments_df = pd.pivot(interrater_assessments_df, \n",
    "                                     index=['variable', 'example_index'], \n",
    "                                     columns='file_id', values='label').fillna(0).reset_index()"
   ]
  },
  {
   "cell_type": "code",
   "execution_count": 25,
   "metadata": {},
   "outputs": [
    {
     "name": "stderr",
     "output_type": "stream",
     "text": [
      "/Users/ameliachu/anaconda3/lib/python3.8/site-packages/scipy/stats/stats.py:4484: SpearmanRConstantInputWarning: An input array is constant; the correlation coefficient is not defined.\n",
      "  warnings.warn(SpearmanRConstantInputWarning())\n"
     ]
    }
   ],
   "source": [
    "spearmanr_reliability = []\n",
    "for rater_x, rater_y in all_rater_combinations:\n",
    "    r_coef, p_value = spearmanr(interrater_assessments_df[rater_x].values, interrater_assessments_df[rater_y].values)\n",
    "    data = {\"rater_pair\": (rater_x, rater_y), \"r_coef\": r_coef, \"p_value\": p_value, \"spearmanr_reliability_type\":\"overall\"}\n",
    "    spearmanr_reliability.append(data)\n",
    "\n",
    "    for variable in interrater_assessments_df['variable'].unique():\n",
    "        rater_x_values = interrater_assessments_df[interrater_assessments_df['variable']==variable][rater_x].values\n",
    "        rater_y_values = interrater_assessments_df[interrater_assessments_df['variable']==variable][rater_y].values\n",
    "        var_r_coef, var_p_value = spearmanr(rater_x_values, rater_y_values)\n",
    "        data = {\"rater_pair\": (rater_x, rater_y), \"r_coef\": var_r_coef, \"p_value\": var_p_value, \n",
    "                \"spearmanr_reliability_type\":f\"by_var_{variable}\"}\n",
    "        spearmanr_reliability.append(data)"
   ]
  },
  {
   "cell_type": "code",
   "execution_count": 26,
   "metadata": {},
   "outputs": [],
   "source": [
    "spearmanr_reliability_df = pd.DataFrame(spearmanr_reliability)[['spearmanr_reliability_type', 'rater_pair', 'r_coef','p_value']].fillna(1)"
   ]
  },
  {
   "cell_type": "code",
   "execution_count": 27,
   "metadata": {},
   "outputs": [
    {
     "data": {
      "text/html": [
       "<div>\n",
       "<style scoped>\n",
       "    .dataframe tbody tr th:only-of-type {\n",
       "        vertical-align: middle;\n",
       "    }\n",
       "\n",
       "    .dataframe tbody tr th {\n",
       "        vertical-align: top;\n",
       "    }\n",
       "\n",
       "    .dataframe thead th {\n",
       "        text-align: right;\n",
       "    }\n",
       "</style>\n",
       "<table border=\"1\" class=\"dataframe\">\n",
       "  <thead>\n",
       "    <tr style=\"text-align: right;\">\n",
       "      <th></th>\n",
       "      <th>spearmanr_reliability_type</th>\n",
       "      <th>r_coef</th>\n",
       "    </tr>\n",
       "  </thead>\n",
       "  <tbody>\n",
       "    <tr>\n",
       "      <th>0</th>\n",
       "      <td>by_var_identity_attack</td>\n",
       "      <td>0.800000</td>\n",
       "    </tr>\n",
       "    <tr>\n",
       "      <th>1</th>\n",
       "      <td>by_var_insult</td>\n",
       "      <td>0.853553</td>\n",
       "    </tr>\n",
       "    <tr>\n",
       "      <th>2</th>\n",
       "      <td>by_var_profanity</td>\n",
       "      <td>0.800000</td>\n",
       "    </tr>\n",
       "    <tr>\n",
       "      <th>3</th>\n",
       "      <td>by_var_severe_toxicity</td>\n",
       "      <td>0.938743</td>\n",
       "    </tr>\n",
       "    <tr>\n",
       "      <th>4</th>\n",
       "      <td>by_var_threat</td>\n",
       "      <td>1.000000</td>\n",
       "    </tr>\n",
       "    <tr>\n",
       "      <th>5</th>\n",
       "      <td>by_var_toxicity</td>\n",
       "      <td>0.500000</td>\n",
       "    </tr>\n",
       "    <tr>\n",
       "      <th>6</th>\n",
       "      <td>overall</td>\n",
       "      <td>0.710046</td>\n",
       "    </tr>\n",
       "  </tbody>\n",
       "</table>\n",
       "</div>"
      ],
      "text/plain": [
       "  spearmanr_reliability_type    r_coef\n",
       "0     by_var_identity_attack  0.800000\n",
       "1              by_var_insult  0.853553\n",
       "2           by_var_profanity  0.800000\n",
       "3     by_var_severe_toxicity  0.938743\n",
       "4              by_var_threat  1.000000\n",
       "5            by_var_toxicity  0.500000\n",
       "6                    overall  0.710046"
      ]
     },
     "execution_count": 27,
     "metadata": {},
     "output_type": "execute_result"
    }
   ],
   "source": [
    "spearmanr_reliability_df.groupby('spearmanr_reliability_type').agg({'r_coef':np.mean}).reset_index()"
   ]
  },
  {
   "cell_type": "code",
   "execution_count": null,
   "metadata": {},
   "outputs": [],
   "source": [
    "Label Type Interrater Reliability (Spearmann)"
   ]
  }
 ],
 "metadata": {
  "kernelspec": {
   "display_name": "Python 3",
   "language": "python",
   "name": "python3"
  },
  "language_info": {
   "codemirror_mode": {
    "name": "ipython",
    "version": 3
   },
   "file_extension": ".py",
   "mimetype": "text/x-python",
   "name": "python",
   "nbconvert_exporter": "python",
   "pygments_lexer": "ipython3",
   "version": "3.8.3"
  }
 },
 "nbformat": 4,
 "nbformat_minor": 4
}
