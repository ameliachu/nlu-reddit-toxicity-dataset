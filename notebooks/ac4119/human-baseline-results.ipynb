{
 "cells": [
  {
   "cell_type": "code",
   "execution_count": 1,
   "metadata": {},
   "outputs": [],
   "source": [
    "import pandas as pd\n",
    "from sklearn.metrics import accuracy_score, precision_recall_fscore_support"
   ]
  },
  {
   "cell_type": "code",
   "execution_count": 2,
   "metadata": {},
   "outputs": [],
   "source": [
    "repo_dir = \"/Users/ameliachu/repos/nlu-reddit-toxicity-dataset\"\n",
    "results_dir = f\"{repo_dir}/artifacts/results\"\n",
    "date = '2022-05-08'\n",
    "master_data_location  = f\"{repo_dir}/data/labelled_master_data_{date}.csv\""
   ]
  },
  {
   "cell_type": "code",
   "execution_count": 3,
   "metadata": {},
   "outputs": [],
   "source": [
    "labels = ['severe_toxicity', 'toxicity', 'identity_attack', 'insult', 'profanity', 'threat']\n",
    "\n",
    "truth_labels = {label : f'y_truth_{label}' for label in labels}\n",
    "pred_labels = {label : f'y_pred_{label}' for label in labels}\n",
    "\n",
    "selected_columns = ['example_id'] + labels"
   ]
  },
  {
   "cell_type": "code",
   "execution_count": 4,
   "metadata": {},
   "outputs": [],
   "source": [
    "human_2_pd = pd.read_csv(f\"{results_dir}/baseline_human-2_2022-05-07.csv\") "
   ]
  },
  {
   "cell_type": "code",
   "execution_count": 5,
   "metadata": {},
   "outputs": [],
   "source": [
    "test_set_ids = list(human_2_pd['example_id'].values)"
   ]
  },
  {
   "cell_type": "code",
   "execution_count": 6,
   "metadata": {},
   "outputs": [],
   "source": [
    "truth_set = pd.read_csv(master_data_location)\n",
    "truth_set = truth_set[truth_set['example_id'].isin(test_set_ids)].dropna().drop_duplicates(subset='example_id',keep='first')\n",
    "truth_set = truth_set[selected_columns]\n",
    "truth_set_renamed = truth_set.rename(columns=truth_labels)"
   ]
  },
  {
   "cell_type": "code",
   "execution_count": 7,
   "metadata": {},
   "outputs": [
    {
     "data": {
      "text/plain": [
       "100"
      ]
     },
     "execution_count": 7,
     "metadata": {},
     "output_type": "execute_result"
    }
   ],
   "source": [
    "len(truth_set)"
   ]
  },
  {
   "cell_type": "code",
   "execution_count": 9,
   "metadata": {},
   "outputs": [],
   "source": [
    "human_2_preds = human_2_pd[selected_columns]\n",
    "human_2_preds_renamed = human_2_preds.rename(columns=pred_labels)"
   ]
  },
  {
   "cell_type": "code",
   "execution_count": 10,
   "metadata": {},
   "outputs": [],
   "source": [
    "overall_human_2_preds = pd.melt(human_2_preds, id_vars = ['example_id'], value_vars=labels).rename(columns={'value':'y_pred'})\n",
    "overall_truth_set = pd.melt(truth_set, id_vars = ['example_id'], value_vars=labels).rename(columns={'value':'y_truth'})\n"
   ]
  },
  {
   "cell_type": "code",
   "execution_count": 12,
   "metadata": {},
   "outputs": [],
   "source": [
    "y_labels = truth_set_renamed.merge(human_2_preds_renamed, on='example_id')\n",
    "overall_y_labels = overall_truth_set.merge(overall_human_2_preds, on='example_id')"
   ]
  },
  {
   "cell_type": "code",
   "execution_count": 14,
   "metadata": {},
   "outputs": [
    {
     "name": "stderr",
     "output_type": "stream",
     "text": [
      "/Users/ameliachu/anaconda3/lib/python3.8/site-packages/sklearn/metrics/_classification.py:1308: UndefinedMetricWarning: Precision and F-score are ill-defined and being set to 0.0 in labels with no predicted samples. Use `zero_division` parameter to control this behavior.\n",
      "  _warn_prf(average, modifier, msg_start, len(result))\n"
     ]
    }
   ],
   "source": [
    "results_list =  []\n",
    "label = 'profanity'\n",
    "for label in labels:\n",
    "    y_truth_label = f'y_truth_{label}'\n",
    "    y_pred_label = f'y_pred_{label}'\n",
    "    precision, recall, f1_score, support = precision_recall_fscore_support(y_labels[y_truth_label].values, y_labels[y_pred_label].values)\n",
    "\n",
    "    eval_results = {\n",
    "        'attribute': label,\n",
    "        'precision': precision[1],\n",
    "        'recall': recall[1],\n",
    "        'f1_score': f1_score[1]\n",
    "    }\n",
    "\n",
    "    results_list.append(eval_results)"
   ]
  },
  {
   "cell_type": "code",
   "execution_count": 15,
   "metadata": {},
   "outputs": [],
   "source": [
    "precision, recall, f1_score, support = precision_recall_fscore_support(overall_y_labels['y_truth'], overall_y_labels['y_pred'])\n",
    "eval_results = {\n",
    "        'attribute': 'overall',\n",
    "        'precision': precision[1],\n",
    "        'recall': recall[1],\n",
    "        'f1_score': f1_score[1]\n",
    "    }\n",
    "results_list.append(eval_results)"
   ]
  },
  {
   "cell_type": "code",
   "execution_count": 16,
   "metadata": {},
   "outputs": [
    {
     "data": {
      "text/html": [
       "<div>\n",
       "<style scoped>\n",
       "    .dataframe tbody tr th:only-of-type {\n",
       "        vertical-align: middle;\n",
       "    }\n",
       "\n",
       "    .dataframe tbody tr th {\n",
       "        vertical-align: top;\n",
       "    }\n",
       "\n",
       "    .dataframe thead th {\n",
       "        text-align: right;\n",
       "    }\n",
       "</style>\n",
       "<table border=\"1\" class=\"dataframe\">\n",
       "  <thead>\n",
       "    <tr style=\"text-align: right;\">\n",
       "      <th></th>\n",
       "      <th>attribute</th>\n",
       "      <th>precision</th>\n",
       "      <th>recall</th>\n",
       "      <th>f1_score</th>\n",
       "    </tr>\n",
       "  </thead>\n",
       "  <tbody>\n",
       "    <tr>\n",
       "      <th>0</th>\n",
       "      <td>severe_toxicity</td>\n",
       "      <td>0.000000</td>\n",
       "      <td>0.000000</td>\n",
       "      <td>0.000000</td>\n",
       "    </tr>\n",
       "    <tr>\n",
       "      <th>1</th>\n",
       "      <td>toxicity</td>\n",
       "      <td>1.000000</td>\n",
       "      <td>0.200000</td>\n",
       "      <td>0.333333</td>\n",
       "    </tr>\n",
       "    <tr>\n",
       "      <th>2</th>\n",
       "      <td>identity_attack</td>\n",
       "      <td>0.875000</td>\n",
       "      <td>0.350000</td>\n",
       "      <td>0.500000</td>\n",
       "    </tr>\n",
       "    <tr>\n",
       "      <th>3</th>\n",
       "      <td>insult</td>\n",
       "      <td>0.696970</td>\n",
       "      <td>0.605263</td>\n",
       "      <td>0.647887</td>\n",
       "    </tr>\n",
       "    <tr>\n",
       "      <th>4</th>\n",
       "      <td>profanity</td>\n",
       "      <td>0.956522</td>\n",
       "      <td>0.800000</td>\n",
       "      <td>0.871287</td>\n",
       "    </tr>\n",
       "    <tr>\n",
       "      <th>5</th>\n",
       "      <td>threat</td>\n",
       "      <td>0.000000</td>\n",
       "      <td>0.000000</td>\n",
       "      <td>0.000000</td>\n",
       "    </tr>\n",
       "    <tr>\n",
       "      <th>6</th>\n",
       "      <td>overall</td>\n",
       "      <td>0.442105</td>\n",
       "      <td>0.269231</td>\n",
       "      <td>0.334661</td>\n",
       "    </tr>\n",
       "  </tbody>\n",
       "</table>\n",
       "</div>"
      ],
      "text/plain": [
       "         attribute  precision    recall  f1_score\n",
       "0  severe_toxicity   0.000000  0.000000  0.000000\n",
       "1         toxicity   1.000000  0.200000  0.333333\n",
       "2  identity_attack   0.875000  0.350000  0.500000\n",
       "3           insult   0.696970  0.605263  0.647887\n",
       "4        profanity   0.956522  0.800000  0.871287\n",
       "5           threat   0.000000  0.000000  0.000000\n",
       "6          overall   0.442105  0.269231  0.334661"
      ]
     },
     "execution_count": 16,
     "metadata": {},
     "output_type": "execute_result"
    }
   ],
   "source": [
    "pd.DataFrame(results_list)"
   ]
  },
  {
   "cell_type": "code",
   "execution_count": null,
   "metadata": {},
   "outputs": [],
   "source": [
    "y_labels.isna()"
   ]
  },
  {
   "cell_type": "code",
   "execution_count": null,
   "metadata": {},
   "outputs": [],
   "source": [
    "y_labels.to_csv(f\"{results_dir}/tmp.csv\")"
   ]
  },
  {
   "cell_type": "code",
   "execution_count": null,
   "metadata": {},
   "outputs": [],
   "source": []
  }
 ],
 "metadata": {
  "kernelspec": {
   "display_name": "Python 3",
   "language": "python",
   "name": "python3"
  },
  "language_info": {
   "codemirror_mode": {
    "name": "ipython",
    "version": 3
   },
   "file_extension": ".py",
   "mimetype": "text/x-python",
   "name": "python",
   "nbconvert_exporter": "python",
   "pygments_lexer": "ipython3",
   "version": "3.8.3"
  }
 },
 "nbformat": 4,
 "nbformat_minor": 4
}
