{
 "cells": [
  {
   "cell_type": "code",
   "execution_count": 1,
   "metadata": {},
   "outputs": [],
   "source": [
    "import random\n",
    "import os\n",
    "from itertools import combinations\n",
    "import numpy as np\n",
    "import pandas as pd\n",
    "import seaborn as sns\n",
    "\n",
    "from scipy.stats import pearsonr, spearmanr"
   ]
  },
  {
   "cell_type": "code",
   "execution_count": 2,
   "metadata": {},
   "outputs": [],
   "source": [
    "repo_dir = \"/Users/ameliachu/repos/nlu-reddit-toxicity-dataset\"\n",
    "data_dir = f\"{repo_dir}/data\""
   ]
  },
  {
   "cell_type": "code",
   "execution_count": 3,
   "metadata": {},
   "outputs": [],
   "source": [
    "labelled_data_file_name = \"labelled_master_data_2022-04-18.csv\"\n",
    "labelled_data_location = f\"{data_dir}/{labelled_data_file_name}\""
   ]
  },
  {
   "cell_type": "code",
   "execution_count": 4,
   "metadata": {},
   "outputs": [],
   "source": [
    "figures = {}\n",
    "tables = {}"
   ]
  },
  {
   "cell_type": "code",
   "execution_count": 5,
   "metadata": {},
   "outputs": [],
   "source": [
    "labelled_data = pd.read_csv(labelled_data_location)"
   ]
  },
  {
   "cell_type": "code",
   "execution_count": 6,
   "metadata": {},
   "outputs": [
    {
     "data": {
      "text/html": [
       "<div>\n",
       "<style scoped>\n",
       "    .dataframe tbody tr th:only-of-type {\n",
       "        vertical-align: middle;\n",
       "    }\n",
       "\n",
       "    .dataframe tbody tr th {\n",
       "        vertical-align: top;\n",
       "    }\n",
       "\n",
       "    .dataframe thead th {\n",
       "        text-align: right;\n",
       "    }\n",
       "</style>\n",
       "<table border=\"1\" class=\"dataframe\">\n",
       "  <thead>\n",
       "    <tr style=\"text-align: right;\">\n",
       "      <th></th>\n",
       "      <th>example_id</th>\n",
       "      <th>preceding_comment</th>\n",
       "      <th>comment_for_evaluation</th>\n",
       "      <th>following_comment</th>\n",
       "      <th>toxicity</th>\n",
       "      <th>severe_toxicity</th>\n",
       "      <th>identity_attack</th>\n",
       "      <th>insult</th>\n",
       "      <th>profanity</th>\n",
       "      <th>threat</th>\n",
       "    </tr>\n",
       "  </thead>\n",
       "  <tbody>\n",
       "    <tr>\n",
       "      <th>0</th>\n",
       "      <td>104857</td>\n",
       "      <td>[https://www.youtube.com/watch?v=hRBOnA0ak4w&amp;a...</td>\n",
       "      <td>GME just watching this all and doing nothing lol</td>\n",
       "      <td>[https://www.youtube.com/watch?v=hRBOnA0ak4w&amp;a...</td>\n",
       "      <td>0</td>\n",
       "      <td>0</td>\n",
       "      <td>0</td>\n",
       "      <td>0</td>\n",
       "      <td>0</td>\n",
       "      <td>0</td>\n",
       "    </tr>\n",
       "    <tr>\n",
       "      <th>1</th>\n",
       "      <td>105125</td>\n",
       "      <td>#GOTTA GET THAT 1.48% ON A BOND WHOOOO</td>\n",
       "      <td>Everything is down today, knee jerk reaction t...</td>\n",
       "      <td>AMC, I held all this time and I decided to buy...</td>\n",
       "      <td>0</td>\n",
       "      <td>0</td>\n",
       "      <td>0</td>\n",
       "      <td>0</td>\n",
       "      <td>0</td>\n",
       "      <td>0</td>\n",
       "    </tr>\n",
       "    <tr>\n",
       "      <th>2</th>\n",
       "      <td>105684</td>\n",
       "      <td>Having 30k to lose sounds pretty nice to me</td>\n",
       "      <td>No, this is the Warthog</td>\n",
       "      <td>a good trump tweet would turn all this carnage...</td>\n",
       "      <td>0</td>\n",
       "      <td>0</td>\n",
       "      <td>0</td>\n",
       "      <td>0</td>\n",
       "      <td>0</td>\n",
       "      <td>0</td>\n",
       "    </tr>\n",
       "    <tr>\n",
       "      <th>3</th>\n",
       "      <td>105904</td>\n",
       "      <td>His tools for inflation are literally rates an...</td>\n",
       "      <td>The market is not worth what you guys have bee...</td>\n",
       "      <td>Can somebody make clear that it's not us who a...</td>\n",
       "      <td>0</td>\n",
       "      <td>0</td>\n",
       "      <td>0</td>\n",
       "      <td>0</td>\n",
       "      <td>0</td>\n",
       "      <td>0</td>\n",
       "    </tr>\n",
       "    <tr>\n",
       "      <th>4</th>\n",
       "      <td>1138</td>\n",
       "      <td>Wot?</td>\n",
       "      <td>Didnt he sell all his shares?</td>\n",
       "      <td>This is the way lol holding 100 March 12 / $51...</td>\n",
       "      <td>0</td>\n",
       "      <td>0</td>\n",
       "      <td>0</td>\n",
       "      <td>0</td>\n",
       "      <td>0</td>\n",
       "      <td>0</td>\n",
       "    </tr>\n",
       "  </tbody>\n",
       "</table>\n",
       "</div>"
      ],
      "text/plain": [
       "   example_id                                  preceding_comment  \\\n",
       "0      104857  [https://www.youtube.com/watch?v=hRBOnA0ak4w&a...   \n",
       "1      105125             #GOTTA GET THAT 1.48% ON A BOND WHOOOO   \n",
       "2      105684        Having 30k to lose sounds pretty nice to me   \n",
       "3      105904  His tools for inflation are literally rates an...   \n",
       "4        1138                                               Wot?   \n",
       "\n",
       "                              comment_for_evaluation  \\\n",
       "0   GME just watching this all and doing nothing lol   \n",
       "1  Everything is down today, knee jerk reaction t...   \n",
       "2                            No, this is the Warthog   \n",
       "3  The market is not worth what you guys have bee...   \n",
       "4                      Didnt he sell all his shares?   \n",
       "\n",
       "                                   following_comment  toxicity  \\\n",
       "0  [https://www.youtube.com/watch?v=hRBOnA0ak4w&a...         0   \n",
       "1  AMC, I held all this time and I decided to buy...         0   \n",
       "2  a good trump tweet would turn all this carnage...         0   \n",
       "3  Can somebody make clear that it's not us who a...         0   \n",
       "4  This is the way lol holding 100 March 12 / $51...         0   \n",
       "\n",
       "   severe_toxicity  identity_attack  insult  profanity  threat  \n",
       "0                0                0       0          0       0  \n",
       "1                0                0       0          0       0  \n",
       "2                0                0       0          0       0  \n",
       "3                0                0       0          0       0  \n",
       "4                0                0       0          0       0  "
      ]
     },
     "execution_count": 6,
     "metadata": {},
     "output_type": "execute_result"
    }
   ],
   "source": [
    "labelled_data.head(5)"
   ]
  },
  {
   "cell_type": "code",
   "execution_count": 7,
   "metadata": {},
   "outputs": [
    {
     "data": {
      "text/plain": [
       "800"
      ]
     },
     "execution_count": 7,
     "metadata": {},
     "output_type": "execute_result"
    }
   ],
   "source": [
    "labelled_data.count()[0]"
   ]
  },
  {
   "cell_type": "code",
   "execution_count": 8,
   "metadata": {},
   "outputs": [],
   "source": [
    "examples_with_missing_labels = labelled_data[labelled_data.isna().any(axis=1)]['example_id']"
   ]
  },
  {
   "cell_type": "code",
   "execution_count": 9,
   "metadata": {},
   "outputs": [
    {
     "data": {
      "text/html": [
       "<div>\n",
       "<style scoped>\n",
       "    .dataframe tbody tr th:only-of-type {\n",
       "        vertical-align: middle;\n",
       "    }\n",
       "\n",
       "    .dataframe tbody tr th {\n",
       "        vertical-align: top;\n",
       "    }\n",
       "\n",
       "    .dataframe thead th {\n",
       "        text-align: right;\n",
       "    }\n",
       "</style>\n",
       "<table border=\"1\" class=\"dataframe\">\n",
       "  <thead>\n",
       "    <tr style=\"text-align: right;\">\n",
       "      <th></th>\n",
       "      <th>example_id</th>\n",
       "      <th>preceding_comment</th>\n",
       "      <th>comment_for_evaluation</th>\n",
       "      <th>following_comment</th>\n",
       "      <th>toxicity</th>\n",
       "      <th>severe_toxicity</th>\n",
       "      <th>identity_attack</th>\n",
       "      <th>insult</th>\n",
       "      <th>profanity</th>\n",
       "      <th>threat</th>\n",
       "    </tr>\n",
       "  </thead>\n",
       "  <tbody>\n",
       "  </tbody>\n",
       "</table>\n",
       "</div>"
      ],
      "text/plain": [
       "Empty DataFrame\n",
       "Columns: [example_id, preceding_comment, comment_for_evaluation, following_comment, toxicity, severe_toxicity, identity_attack, insult, profanity, threat]\n",
       "Index: []"
      ]
     },
     "execution_count": 9,
     "metadata": {},
     "output_type": "execute_result"
    }
   ],
   "source": [
    "labelled_data[labelled_data.isna().any(axis=1)]"
   ]
  },
  {
   "cell_type": "code",
   "execution_count": 143,
   "metadata": {},
   "outputs": [
    {
     "ename": "SyntaxError",
     "evalue": "cannot assign to literal (<ipython-input-143-9aced54a941d>, line 1)",
     "output_type": "error",
     "traceback": [
      "\u001b[0;36m  File \u001b[0;32m\"<ipython-input-143-9aced54a941d>\"\u001b[0;36m, line \u001b[0;32m1\u001b[0m\n\u001b[0;31m    36221, 267142, 301490 = ac4119\u001b[0m\n\u001b[0m    ^\u001b[0m\n\u001b[0;31mSyntaxError\u001b[0m\u001b[0;31m:\u001b[0m cannot assign to literal\n"
     ]
    }
   ],
   "source": [
    "36221, 267142, 301490 = ac4119\n",
    "yj2369 = 98710\n",
    "gm2858 = 210983"
   ]
  },
  {
   "cell_type": "code",
   "execution_count": 10,
   "metadata": {},
   "outputs": [],
   "source": [
    "labels = ['toxicity', 'severe_toxicity', 'identity_attack', 'insult', 'profanity', 'threat']"
   ]
  },
  {
   "cell_type": "code",
   "execution_count": 11,
   "metadata": {},
   "outputs": [],
   "source": [
    "overall_count = pd.DataFrame([{'data_label': 'overall',\n",
    "               'number_of_examples': labelled_data.count()[0]}])\n",
    "by_label_count = labelled_data.agg({l:sum for l in labels}).reset_index()\n",
    "by_label_count.columns = ['data_label','number_of_examples']\n",
    "\n",
    "tables['label_distribution'] = pd.concat([overall_count,by_label_count ]).reset_index(drop=True)"
   ]
  },
  {
   "cell_type": "code",
   "execution_count": 12,
   "metadata": {},
   "outputs": [
    {
     "data": {
      "text/html": [
       "<div>\n",
       "<style scoped>\n",
       "    .dataframe tbody tr th:only-of-type {\n",
       "        vertical-align: middle;\n",
       "    }\n",
       "\n",
       "    .dataframe tbody tr th {\n",
       "        vertical-align: top;\n",
       "    }\n",
       "\n",
       "    .dataframe thead th {\n",
       "        text-align: right;\n",
       "    }\n",
       "</style>\n",
       "<table border=\"1\" class=\"dataframe\">\n",
       "  <thead>\n",
       "    <tr style=\"text-align: right;\">\n",
       "      <th></th>\n",
       "      <th>data_label</th>\n",
       "      <th>number_of_examples</th>\n",
       "    </tr>\n",
       "  </thead>\n",
       "  <tbody>\n",
       "    <tr>\n",
       "      <th>0</th>\n",
       "      <td>overall</td>\n",
       "      <td>800</td>\n",
       "    </tr>\n",
       "    <tr>\n",
       "      <th>1</th>\n",
       "      <td>toxicity</td>\n",
       "      <td>23</td>\n",
       "    </tr>\n",
       "    <tr>\n",
       "      <th>2</th>\n",
       "      <td>severe_toxicity</td>\n",
       "      <td>3</td>\n",
       "    </tr>\n",
       "    <tr>\n",
       "      <th>3</th>\n",
       "      <td>identity_attack</td>\n",
       "      <td>9</td>\n",
       "    </tr>\n",
       "    <tr>\n",
       "      <th>4</th>\n",
       "      <td>insult</td>\n",
       "      <td>49</td>\n",
       "    </tr>\n",
       "    <tr>\n",
       "      <th>5</th>\n",
       "      <td>profanity</td>\n",
       "      <td>113</td>\n",
       "    </tr>\n",
       "    <tr>\n",
       "      <th>6</th>\n",
       "      <td>threat</td>\n",
       "      <td>0</td>\n",
       "    </tr>\n",
       "  </tbody>\n",
       "</table>\n",
       "</div>"
      ],
      "text/plain": [
       "        data_label  number_of_examples\n",
       "0          overall                 800\n",
       "1         toxicity                  23\n",
       "2  severe_toxicity                   3\n",
       "3  identity_attack                   9\n",
       "4           insult                  49\n",
       "5        profanity                 113\n",
       "6           threat                   0"
      ]
     },
     "execution_count": 12,
     "metadata": {},
     "output_type": "execute_result"
    }
   ],
   "source": [
    "tables['label_distribution'] "
   ]
  },
  {
   "cell_type": "code",
   "execution_count": 15,
   "metadata": {},
   "outputs": [],
   "source": [
    "tables['label_corr'] = labelled_data[labels].corr('pearson')"
   ]
  },
  {
   "cell_type": "code",
   "execution_count": 17,
   "metadata": {},
   "outputs": [
    {
     "data": {
      "text/plain": [
       "<matplotlib.axes._subplots.AxesSubplot at 0x7f8d6938c0d0>"
      ]
     },
     "execution_count": 17,
     "metadata": {},
     "output_type": "execute_result"
    },
    {
     "data": {
      "image/png": "[encoded data removed]",
      "text/plain": [
       "<Figure size 432x288 with 2 Axes>"
      ]
     },
     "metadata": {
      "needs_background": "light"
     },
     "output_type": "display_data"
    }
   ],
   "source": [
    "figures['label_corr'] = sns.heatmap(tables['label_corr'], annot=True)\n",
    "figures['label_corr']"
   ]
  },
  {
   "cell_type": "code",
   "execution_count": 18,
   "metadata": {},
   "outputs": [],
   "source": [
    "interrater_dir = f\"{data_dir}/interrater-reliability\""
   ]
  },
  {
   "cell_type": "code",
   "execution_count": 19,
   "metadata": {},
   "outputs": [],
   "source": [
    "interrater_files = [f for f in os.listdir(interrater_dir) if f.startswith('interrater2') ]"
   ]
  },
  {
   "cell_type": "code",
   "execution_count": 20,
   "metadata": {},
   "outputs": [],
   "source": [
    "interrater_info = {}\n",
    "for file in interrater_files:\n",
    "    file_type, rater_id, date_rated = file.split('.')[0].split('-')\n",
    "    data_path = f'{interrater_dir}/{file}'\n",
    "    interrater_info[rater_id] = {\n",
    "        \"data\": pd.read_csv(data_path),\n",
    "        \"created_date\": date_rated,\n",
    "        \"file_path\": data_path\n",
    "                          }"
   ]
  },
  {
   "cell_type": "code",
   "execution_count": 21,
   "metadata": {},
   "outputs": [],
   "source": [
    "raters = list(interrater_info.keys())\n",
    "random.shuffle(raters)"
   ]
  },
  {
   "cell_type": "code",
   "execution_count": 22,
   "metadata": {},
   "outputs": [],
   "source": [
    "num_raters = len(raters)\n",
    "all_rater_combinations = list(combinations(range(num_raters), 2))"
   ]
  },
  {
   "cell_type": "code",
   "execution_count": 23,
   "metadata": {},
   "outputs": [],
   "source": [
    "interrater_assessments = []\n",
    "labels = ['toxicity', 'severe_toxicity', 'identity_attack', 'insult', 'profanity', 'threat']\n",
    "selected_columns = ['example_index','comment_for_evaluation'] + labels\n",
    "\n",
    "for i, rater_id in enumerate(raters):\n",
    "    individual_ratings = interrater_info[rater_id]['data'][selected_columns]\n",
    "    interrater_assessment = pd.melt(individual_ratings,\n",
    "                                    id_vars=['example_index'], \n",
    "                                    value_vars=labels)\\\n",
    "                              .rename(columns={'value':'label'})\n",
    "    # Using file id instead of rater_id to anonymize results\n",
    "    interrater_assessment[\"file_id\"] = i\n",
    "    interrater_assessments.append(interrater_assessment)"
   ]
  },
  {
   "cell_type": "code",
   "execution_count": 24,
   "metadata": {},
   "outputs": [],
   "source": [
    "interrater_assessments_df = pd.concat(interrater_assessments)\n",
    "interrater_assessments_df = pd.pivot(interrater_assessments_df, \n",
    "                                     index=['variable', 'example_index'], \n",
    "                                     columns='file_id', values='label').fillna(0).reset_index()"
   ]
  },
  {
   "cell_type": "code",
   "execution_count": 25,
   "metadata": {},
   "outputs": [
    {
     "name": "stderr",
     "output_type": "stream",
     "text": [
      "/Users/ameliachu/anaconda3/lib/python3.8/site-packages/scipy/stats/stats.py:4484: SpearmanRConstantInputWarning: An input array is constant; the correlation coefficient is not defined.\n",
      "  warnings.warn(SpearmanRConstantInputWarning())\n"
     ]
    }
   ],
   "source": [
    "spearmanr_reliability = []\n",
    "for rater_x, rater_y in all_rater_combinations:\n",
    "    r_coef, p_value = spearmanr(interrater_assessments_df[rater_x].values, interrater_assessments_df[rater_y].values)\n",
    "    data = {\"rater_pair\": (rater_x, rater_y), \"r_coef\": r_coef, \"p_value\": p_value, \"spearmanr_reliability_type\":\"overall\"}\n",
    "    spearmanr_reliability.append(data)\n",
    "\n",
    "    for variable in interrater_assessments_df['variable'].unique():\n",
    "        rater_x_values = interrater_assessments_df[interrater_assessments_df['variable']==variable][rater_x].values\n",
    "        rater_y_values = interrater_assessments_df[interrater_assessments_df['variable']==variable][rater_y].values\n",
    "        var_r_coef, var_p_value = spearmanr(rater_x_values, rater_y_values)\n",
    "        data = {\"rater_pair\": (rater_x, rater_y), \"r_coef\": var_r_coef, \"p_value\": var_p_value, \n",
    "                \"spearmanr_reliability_type\":f\"by_var_{variable}\"}\n",
    "        spearmanr_reliability.append(data)"
   ]
  },
  {
   "cell_type": "code",
   "execution_count": 26,
   "metadata": {},
   "outputs": [],
   "source": [
    "spearmanr_reliability_df = pd.DataFrame(spearmanr_reliability)[['spearmanr_reliability_type', 'rater_pair', 'r_coef','p_value']].fillna(1)"
   ]
  },
  {
   "cell_type": "code",
   "execution_count": 27,
   "metadata": {},
   "outputs": [
    {
     "data": {
      "text/html": [
       "<div>\n",
       "<style scoped>\n",
       "    .dataframe tbody tr th:only-of-type {\n",
       "        vertical-align: middle;\n",
       "    }\n",
       "\n",
       "    .dataframe tbody tr th {\n",
       "        vertical-align: top;\n",
       "    }\n",
       "\n",
       "    .dataframe thead th {\n",
       "        text-align: right;\n",
       "    }\n",
       "</style>\n",
       "<table border=\"1\" class=\"dataframe\">\n",
       "  <thead>\n",
       "    <tr style=\"text-align: right;\">\n",
       "      <th></th>\n",
       "      <th>spearmanr_reliability_type</th>\n",
       "      <th>r_coef</th>\n",
       "    </tr>\n",
       "  </thead>\n",
       "  <tbody>\n",
       "    <tr>\n",
       "      <th>0</th>\n",
       "      <td>by_var_identity_attack</td>\n",
       "      <td>0.800000</td>\n",
       "    </tr>\n",
       "    <tr>\n",
       "      <th>1</th>\n",
       "      <td>by_var_insult</td>\n",
       "      <td>0.853553</td>\n",
       "    </tr>\n",
       "    <tr>\n",
       "      <th>2</th>\n",
       "      <td>by_var_profanity</td>\n",
       "      <td>0.800000</td>\n",
       "    </tr>\n",
       "    <tr>\n",
       "      <th>3</th>\n",
       "      <td>by_var_severe_toxicity</td>\n",
       "      <td>0.938743</td>\n",
       "    </tr>\n",
       "    <tr>\n",
       "      <th>4</th>\n",
       "      <td>by_var_threat</td>\n",
       "      <td>1.000000</td>\n",
       "    </tr>\n",
       "    <tr>\n",
       "      <th>5</th>\n",
       "      <td>by_var_toxicity</td>\n",
       "      <td>0.500000</td>\n",
       "    </tr>\n",
       "    <tr>\n",
       "      <th>6</th>\n",
       "      <td>overall</td>\n",
       "      <td>0.710046</td>\n",
       "    </tr>\n",
       "  </tbody>\n",
       "</table>\n",
       "</div>"
      ],
      "text/plain": [
       "  spearmanr_reliability_type    r_coef\n",
       "0     by_var_identity_attack  0.800000\n",
       "1              by_var_insult  0.853553\n",
       "2           by_var_profanity  0.800000\n",
       "3     by_var_severe_toxicity  0.938743\n",
       "4              by_var_threat  1.000000\n",
       "5            by_var_toxicity  0.500000\n",
       "6                    overall  0.710046"
      ]
     },
     "execution_count": 27,
     "metadata": {},
     "output_type": "execute_result"
    }
   ],
   "source": [
    "spearmanr_reliability_df.groupby('spearmanr_reliability_type').agg({'r_coef':np.mean}).reset_index()"
   ]
  },
  {
   "cell_type": "code",
   "execution_count": null,
   "metadata": {},
   "outputs": [],
   "source": [
    "Label Type Interrater Reliability (Spearmann)"
   ]
  }
 ],
 "metadata": {
  "kernelspec": {
   "display_name": "Python 3",
   "language": "python",
   "name": "python3"
  },
  "language_info": {
   "codemirror_mode": {
    "name": "ipython",
    "version": 3
   },
   "file_extension": ".py",
   "mimetype": "text/x-python",
   "name": "python",
   "nbconvert_exporter": "python",
   "pygments_lexer": "ipython3",
   "version": "3.8.3"
  }
 },
 "nbformat": 4,
 "nbformat_minor": 4
}
