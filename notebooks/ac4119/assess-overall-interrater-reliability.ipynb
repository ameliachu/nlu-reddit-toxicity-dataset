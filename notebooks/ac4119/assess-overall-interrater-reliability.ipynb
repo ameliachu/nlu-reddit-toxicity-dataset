{
 "cells": [
  {
   "cell_type": "code",
   "execution_count": 29,
   "metadata": {},
   "outputs": [],
   "source": [
    "import os\n",
    "import random\n",
    "from itertools import combinations\n",
    "import numpy as np\n",
    "import pandas as pd\n",
    "from scipy.stats import pearsonr, spearmanr\n",
    "\n",
    "pd.set_option('max_colwidth', None) # Setting to be able to view the entire comment"
   ]
  },
  {
   "cell_type": "code",
   "execution_count": 30,
   "metadata": {},
   "outputs": [],
   "source": [
    "repo_dir = \"/Users/ameliachu/repos/nlu-reddit-toxicity-dataset\"\n",
    "labelled_data_dir = f\"{repo_dir}/data/labelled/\""
   ]
  },
  {
   "cell_type": "code",
   "execution_count": 31,
   "metadata": {},
   "outputs": [],
   "source": [
    "labels = ['toxicity', 'severe_toxicity', 'identity_attack', 'insult', 'profanity', 'threat']\n",
    "selected_columns = ['example_id', 'comment_for_evaluation'] + labels\n",
    "\n",
    "all_labelled_df = []\n",
    "for file_name in os.listdir(labelled_data_dir):\n",
    "    labelled_df = pd.read_csv(f\"{labelled_data_dir}{file_name}\")[selected_columns]\n",
    "    labelled_df['rater_id'] = file_name.split(\"_\")[0]\n",
    "    all_labelled_df.append(labelled_df)"
   ]
  },
  {
   "cell_type": "code",
   "execution_count": 32,
   "metadata": {},
   "outputs": [],
   "source": [
    "labelled_df = pd.concat(all_labelled_df)"
   ]
  },
  {
   "cell_type": "code",
   "execution_count": 33,
   "metadata": {},
   "outputs": [
    {
     "name": "stdout",
     "output_type": "stream",
     "text": [
      "['yp2201', 'gm2858', 'ac4119', 'yj2369']\n",
      "[(0, 1), (0, 2), (0, 3), (1, 2), (1, 3), (2, 3)]\n"
     ]
    }
   ],
   "source": [
    "n_raters_lookup = labelled_df.groupby(\"example_id\").rater_id.nunique().reset_index()\n",
    "\n",
    "rater_ids = list(labelled_df.rater_id.unique())\n",
    "num_raters = len(rater_ids)\n",
    "random.shuffle(rater_ids)\n",
    "\n",
    "all_rater_combinations = list(combinations(range(num_raters), 2))\n",
    "print(rater_ids)\n",
    "print(all_rater_combinations)"
   ]
  },
  {
   "cell_type": "code",
   "execution_count": 34,
   "metadata": {},
   "outputs": [],
   "source": [
    "labelled_df['rater_id'] = labelled_df['rater_id'].apply(lambda x: rater_ids.index(x))"
   ]
  },
  {
   "cell_type": "code",
   "execution_count": 35,
   "metadata": {},
   "outputs": [],
   "source": [
    "example_ids_for_interrater = n_raters_lookup[n_raters_lookup['rater_id'] == 2]['example_id'].values"
   ]
  },
  {
   "cell_type": "code",
   "execution_count": 36,
   "metadata": {},
   "outputs": [],
   "source": [
    "labelled_df_1 = labelled_df[labelled_df['example_id'].isin(example_ids_for_interrater)]"
   ]
  },
  {
   "cell_type": "code",
   "execution_count": 37,
   "metadata": {},
   "outputs": [
    {
     "data": {
      "text/html": [
       "<div>\n",
       "<style scoped>\n",
       "    .dataframe tbody tr th:only-of-type {\n",
       "        vertical-align: middle;\n",
       "    }\n",
       "\n",
       "    .dataframe tbody tr th {\n",
       "        vertical-align: top;\n",
       "    }\n",
       "\n",
       "    .dataframe thead th {\n",
       "        text-align: right;\n",
       "    }\n",
       "</style>\n",
       "<table border=\"1\" class=\"dataframe\">\n",
       "  <thead>\n",
       "    <tr style=\"text-align: right;\">\n",
       "      <th></th>\n",
       "      <th>example_id</th>\n",
       "      <th>comment_for_evaluation</th>\n",
       "      <th>toxicity</th>\n",
       "      <th>severe_toxicity</th>\n",
       "      <th>identity_attack</th>\n",
       "      <th>insult</th>\n",
       "      <th>profanity</th>\n",
       "      <th>threat</th>\n",
       "      <th>rater_id</th>\n",
       "    </tr>\n",
       "  </thead>\n",
       "  <tbody>\n",
       "    <tr>\n",
       "      <th>126</th>\n",
       "      <td>587369</td>\n",
       "      <td>$BABA vs 🌈🐻  8-0</td>\n",
       "      <td>1.0</td>\n",
       "      <td>0.0</td>\n",
       "      <td>1.0</td>\n",
       "      <td>1.0</td>\n",
       "      <td>0.0</td>\n",
       "      <td>0.0</td>\n",
       "      <td>1</td>\n",
       "    </tr>\n",
       "    <tr>\n",
       "      <th>219</th>\n",
       "      <td>587369</td>\n",
       "      <td>$BABA vs 🌈🐻  8-0</td>\n",
       "      <td>0.0</td>\n",
       "      <td>0.0</td>\n",
       "      <td>0.0</td>\n",
       "      <td>0.0</td>\n",
       "      <td>0.0</td>\n",
       "      <td>0.0</td>\n",
       "      <td>3</td>\n",
       "    </tr>\n",
       "  </tbody>\n",
       "</table>\n",
       "</div>"
      ],
      "text/plain": [
       "     example_id comment_for_evaluation  toxicity  severe_toxicity  \\\n",
       "126      587369       $BABA vs 🌈🐻  8-0       1.0              0.0   \n",
       "219      587369       $BABA vs 🌈🐻  8-0       0.0              0.0   \n",
       "\n",
       "     identity_attack  insult  profanity  threat  rater_id  \n",
       "126              1.0     1.0        0.0     0.0         1  \n",
       "219              0.0     0.0        0.0     0.0         3  "
      ]
     },
     "execution_count": 37,
     "metadata": {},
     "output_type": "execute_result"
    }
   ],
   "source": [
    "labelled_df_1[labelled_df_1['example_id']==587369].sort_values(by='example_id')"
   ]
  },
  {
   "cell_type": "code",
   "execution_count": 46,
   "metadata": {},
   "outputs": [],
   "source": [
    "interrater_assessments_df = pd.melt(labelled_df_1,\n",
    "                                    id_vars=['example_id','rater_id'], \n",
    "                                    value_vars=labels)\\\n",
    "                              .rename(columns={'value':'label'})"
   ]
  },
  {
   "cell_type": "code",
   "execution_count": 47,
   "metadata": {},
   "outputs": [],
   "source": [
    "interrater_assessments_df = pd.pivot(interrater_assessments_df , \n",
    "                                     index=['variable', 'example_id'], \n",
    "                                     columns='rater_id', values='label').reset_index()"
   ]
  },
  {
   "cell_type": "code",
   "execution_count": 51,
   "metadata": {},
   "outputs": [
    {
     "data": {
      "text/plain": [
       "array(['identity_attack', 'insult', 'profanity', 'severe_toxicity',\n",
       "       'threat', 'toxicity'], dtype=object)"
      ]
     },
     "execution_count": 51,
     "metadata": {},
     "output_type": "execute_result"
    }
   ],
   "source": [
    "interrater_assessments_df['variable'].unique()"
   ]
  },
  {
   "cell_type": "code",
   "execution_count": null,
   "metadata": {},
   "outputs": [],
   "source": [
    "spearmanr_reliability = []"
   ]
  },
  {
   "cell_type": "code",
   "execution_count": 58,
   "metadata": {},
   "outputs": [
    {
     "name": "stdout",
     "output_type": "stream",
     "text": [
      "identity_attack\n",
      "insult\n",
      "profanity\n",
      "severe_toxicity\n",
      "threat\n",
      "toxicity\n",
      "identity_attack\n",
      "insult\n",
      "profanity\n",
      "severe_toxicity\n",
      "threat\n",
      "toxicity\n",
      "identity_attack\n",
      "insult\n",
      "profanity\n",
      "severe_toxicity\n",
      "threat\n",
      "toxicity\n",
      "identity_attack\n",
      "insult\n",
      "profanity\n",
      "severe_toxicity\n",
      "threat\n",
      "toxicity\n",
      "identity_attack\n",
      "insult\n",
      "profanity\n",
      "severe_toxicity\n",
      "threat\n",
      "toxicity\n",
      "identity_attack\n",
      "insult\n",
      "profanity\n",
      "severe_toxicity\n",
      "threat\n",
      "toxicity\n"
     ]
    },
    {
     "name": "stderr",
     "output_type": "stream",
     "text": [
      "/Users/ameliachu/anaconda3/lib/python3.8/site-packages/scipy/stats/stats.py:4484: SpearmanRConstantInputWarning: An input array is constant; the correlation coefficient is not defined.\n",
      "  warnings.warn(SpearmanRConstantInputWarning())\n"
     ]
    }
   ],
   "source": [
    "for rater_x, rater_y in all_rater_combinations:\n",
    "    paired_assessment = interrater_assessments_df[(~interrater_assessments_df[rater_y].isnull()) & (~interrater_assessments_df[rater_x].isnull())]\n",
    "    r_coef, p_value = spearmanr( paired_assessment[rater_x].values, paired_assessment[rater_y].values)\n",
    "    data = {\"rater_pair\": (rater_x, rater_y), \"r_coef\": r_coef, \"p_value\": p_value, \"spearmanr_reliability_type\":\"overall\"}\n",
    "    spearmanr_reliability.append(data)\n",
    "\n",
    "    for variable in interrater_assessments_df['variable'].unique():\n",
    "        print(variable)\n",
    "        rater_x_values = paired_assessment[paired_assessment['variable']==variable][rater_x].values\n",
    "        rater_y_values = paired_assessment[paired_assessment['variable']==variable][rater_y].values\n",
    "        var_r_coef, var_p_value = spearmanr(rater_x_values, rater_y_values)\n",
    "        data = {\"rater_pair\": (rater_x, rater_y), \"r_coef\": var_r_coef, \"p_value\": var_p_value, \n",
    "                \"spearmanr_reliability_type\":f\"by_var_{variable}\"}\n",
    "        spearmanr_reliability.append(data)"
   ]
  },
  {
   "cell_type": "code",
   "execution_count": 62,
   "metadata": {},
   "outputs": [],
   "source": [
    "spearmanr_reliability_df = pd.DataFrame(spearmanr_reliability)[['spearmanr_reliability_type', 'rater_pair', 'r_coef','p_value']]"
   ]
  },
  {
   "cell_type": "code",
   "execution_count": 69,
   "metadata": {},
   "outputs": [
    {
     "data": {
      "text/html": [
       "<div>\n",
       "<style scoped>\n",
       "    .dataframe tbody tr th:only-of-type {\n",
       "        vertical-align: middle;\n",
       "    }\n",
       "\n",
       "    .dataframe tbody tr th {\n",
       "        vertical-align: top;\n",
       "    }\n",
       "\n",
       "    .dataframe thead th {\n",
       "        text-align: right;\n",
       "    }\n",
       "</style>\n",
       "<table border=\"1\" class=\"dataframe\">\n",
       "  <thead>\n",
       "    <tr style=\"text-align: right;\">\n",
       "      <th></th>\n",
       "      <th>spearmanr_reliability_type</th>\n",
       "      <th>r_coef</th>\n",
       "    </tr>\n",
       "  </thead>\n",
       "  <tbody>\n",
       "    <tr>\n",
       "      <th>0</th>\n",
       "      <td>by_var_identity_attack</td>\n",
       "      <td>0.812644</td>\n",
       "    </tr>\n",
       "    <tr>\n",
       "      <th>1</th>\n",
       "      <td>by_var_insult</td>\n",
       "      <td>0.795526</td>\n",
       "    </tr>\n",
       "    <tr>\n",
       "      <th>2</th>\n",
       "      <td>by_var_profanity</td>\n",
       "      <td>0.923831</td>\n",
       "    </tr>\n",
       "    <tr>\n",
       "      <th>3</th>\n",
       "      <td>by_var_severe_toxicity</td>\n",
       "      <td>0.780221</td>\n",
       "    </tr>\n",
       "    <tr>\n",
       "      <th>4</th>\n",
       "      <td>by_var_threat</td>\n",
       "      <td>1.000000</td>\n",
       "    </tr>\n",
       "    <tr>\n",
       "      <th>5</th>\n",
       "      <td>by_var_toxicity</td>\n",
       "      <td>0.781593</td>\n",
       "    </tr>\n",
       "    <tr>\n",
       "      <th>6</th>\n",
       "      <td>overall</td>\n",
       "      <td>0.881912</td>\n",
       "    </tr>\n",
       "  </tbody>\n",
       "</table>\n",
       "</div>"
      ],
      "text/plain": [
       "  spearmanr_reliability_type    r_coef\n",
       "0     by_var_identity_attack  0.812644\n",
       "1              by_var_insult  0.795526\n",
       "2           by_var_profanity  0.923831\n",
       "3     by_var_severe_toxicity  0.780221\n",
       "4              by_var_threat  1.000000\n",
       "5            by_var_toxicity  0.781593\n",
       "6                    overall  0.881912"
      ]
     },
     "execution_count": 69,
     "metadata": {},
     "output_type": "execute_result"
    }
   ],
   "source": [
    "interrater_summary = spearmanr_reliability_df.groupby('spearmanr_reliability_type').agg({'r_coef':np.mean}).reset_index()\n",
    "interrater_summary"
   ]
  },
  {
   "cell_type": "code",
   "execution_count": 70,
   "metadata": {},
   "outputs": [],
   "source": [
    "interrater_summary.columns = [\"Attribute\", \"Reliability (Spearman R)\"]"
   ]
  },
  {
   "cell_type": "code",
   "execution_count": 74,
   "metadata": {},
   "outputs": [
    {
     "data": {
      "text/plain": [
       "['by_var_identity_attack',\n",
       " 'by_var_insult',\n",
       " 'by_var_profanity',\n",
       " 'by_var_severe_toxicity',\n",
       " 'by_var_threat',\n",
       " 'by_var_toxicity',\n",
       " 'overall']"
      ]
     },
     "execution_count": 74,
     "metadata": {},
     "output_type": "execute_result"
    }
   ],
   "source": [
    "list(interrater_summary[\"Attribute\"].values)"
   ]
  },
  {
   "cell_type": "code",
   "execution_count": 76,
   "metadata": {},
   "outputs": [],
   "source": [
    "var_dict = {\n",
    "    'by_var_identity_attack': 'Identity Attack',\n",
    "    'by_var_insult': 'Insult',\n",
    "    'by_var_profanity': 'Profanity',\n",
    "    'by_var_severe_toxicity': 'Severe Toxicity',\n",
    "    'by_var_threat': 'Threat',\n",
    "    'by_var_toxicity': 'Toxicity',\n",
    "    'overall': 'Overall'}"
   ]
  },
  {
   "cell_type": "code",
   "execution_count": 78,
   "metadata": {},
   "outputs": [],
   "source": [
    "interrater_summary[\"Attribute\"] = interrater_summary[\"Attribute\"].apply(lambda x: var_dict[x])"
   ]
  },
  {
   "cell_type": "code",
   "execution_count": 82,
   "metadata": {},
   "outputs": [],
   "source": [
    "interrater_summary.to_csv(f'{repo_dir}/reporting/assets/interrater-summary.csv', index=False)"
   ]
  },
  {
   "cell_type": "code",
   "execution_count": 81,
   "metadata": {},
   "outputs": [
    {
     "data": {
      "text/html": [
       "<div>\n",
       "<style scoped>\n",
       "    .dataframe tbody tr th:only-of-type {\n",
       "        vertical-align: middle;\n",
       "    }\n",
       "\n",
       "    .dataframe tbody tr th {\n",
       "        vertical-align: top;\n",
       "    }\n",
       "\n",
       "    .dataframe thead th {\n",
       "        text-align: right;\n",
       "    }\n",
       "</style>\n",
       "<table border=\"1\" class=\"dataframe\">\n",
       "  <thead>\n",
       "    <tr style=\"text-align: right;\">\n",
       "      <th></th>\n",
       "      <th>Attribute</th>\n",
       "      <th>Reliability (Spearman R)</th>\n",
       "    </tr>\n",
       "  </thead>\n",
       "  <tbody>\n",
       "    <tr>\n",
       "      <th>0</th>\n",
       "      <td>Identity Attack</td>\n",
       "      <td>0.812644</td>\n",
       "    </tr>\n",
       "    <tr>\n",
       "      <th>1</th>\n",
       "      <td>Insult</td>\n",
       "      <td>0.795526</td>\n",
       "    </tr>\n",
       "    <tr>\n",
       "      <th>2</th>\n",
       "      <td>Profanity</td>\n",
       "      <td>0.923831</td>\n",
       "    </tr>\n",
       "    <tr>\n",
       "      <th>3</th>\n",
       "      <td>Severe Toxicity</td>\n",
       "      <td>0.780221</td>\n",
       "    </tr>\n",
       "    <tr>\n",
       "      <th>4</th>\n",
       "      <td>Threat</td>\n",
       "      <td>1.000000</td>\n",
       "    </tr>\n",
       "    <tr>\n",
       "      <th>5</th>\n",
       "      <td>Toxicity</td>\n",
       "      <td>0.781593</td>\n",
       "    </tr>\n",
       "    <tr>\n",
       "      <th>6</th>\n",
       "      <td>Overall</td>\n",
       "      <td>0.881912</td>\n",
       "    </tr>\n",
       "  </tbody>\n",
       "</table>\n",
       "</div>"
      ],
      "text/plain": [
       "         Attribute  Reliability (Spearman R)\n",
       "0  Identity Attack                  0.812644\n",
       "1           Insult                  0.795526\n",
       "2        Profanity                  0.923831\n",
       "3  Severe Toxicity                  0.780221\n",
       "4           Threat                  1.000000\n",
       "5         Toxicity                  0.781593\n",
       "6          Overall                  0.881912"
      ]
     },
     "execution_count": 81,
     "metadata": {},
     "output_type": "execute_result"
    }
   ],
   "source": [
    "interrater_summary"
   ]
  },
  {
   "cell_type": "code",
   "execution_count": null,
   "metadata": {},
   "outputs": [],
   "source": []
  }
 ],
 "metadata": {
  "kernelspec": {
   "display_name": "Python 3",
   "language": "python",
   "name": "python3"
  },
  "language_info": {
   "codemirror_mode": {
    "name": "ipython",
    "version": 3
   },
   "file_extension": ".py",
   "mimetype": "text/x-python",
   "name": "python",
   "nbconvert_exporter": "python",
   "pygments_lexer": "ipython3",
   "version": "3.8.3"
  }
 },
 "nbformat": 4,
 "nbformat_minor": 4
}
