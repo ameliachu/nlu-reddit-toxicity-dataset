{
 "cells": [
  {
   "cell_type": "markdown",
   "id": "db55de26",
   "metadata": {},
   "source": []
  },
  {
   "cell_type": "code",
   "execution_count": 2,
   "id": "68b3a097",
   "metadata": {},
   "outputs": [],
   "source": [
    "# Make sure you've installed openai. If not, uncomment below line and install openai.\n",
    "# pip install openai"
   ]
  },
  {
   "cell_type": "code",
   "execution_count": 3,
   "id": "f70edc96",
   "metadata": {
    "scrolled": true
   },
   "outputs": [
    {
     "name": "stdout",
     "output_type": "stream",
     "text": [
      "shape of dataset: (800, 17)\n"
     ]
    },
    {
     "data": {
      "text/html": [
       "<div>\n",
       "<style scoped>\n",
       "    .dataframe tbody tr th:only-of-type {\n",
       "        vertical-align: middle;\n",
       "    }\n",
       "\n",
       "    .dataframe tbody tr th {\n",
       "        vertical-align: top;\n",
       "    }\n",
       "\n",
       "    .dataframe thead th {\n",
       "        text-align: right;\n",
       "    }\n",
       "</style>\n",
       "<table border=\"1\" class=\"dataframe\">\n",
       "  <thead>\n",
       "    <tr style=\"text-align: right;\">\n",
       "      <th></th>\n",
       "      <th>Unnamed: 0</th>\n",
       "      <th>example_id</th>\n",
       "      <th>preceding_comment</th>\n",
       "      <th>comment_for_evaluation</th>\n",
       "      <th>following_comment</th>\n",
       "      <th>toxicity</th>\n",
       "      <th>severe_toxicity</th>\n",
       "      <th>identity_attack</th>\n",
       "      <th>insult</th>\n",
       "      <th>profanity</th>\n",
       "      <th>threat</th>\n",
       "      <th>gpt3_toxic</th>\n",
       "      <th>gpt3_sev_toxic</th>\n",
       "      <th>gpt3_identity</th>\n",
       "      <th>gpt3_insult</th>\n",
       "      <th>gpt3_profanity</th>\n",
       "      <th>gpt3_threat</th>\n",
       "    </tr>\n",
       "  </thead>\n",
       "  <tbody>\n",
       "    <tr>\n",
       "      <th>0</th>\n",
       "      <td>0</td>\n",
       "      <td>104857</td>\n",
       "      <td>[https://www.youtube.com/watch?v=hRBOnA0ak4w&amp;a...</td>\n",
       "      <td>GME just watching this all and doing nothing lol</td>\n",
       "      <td>[https://www.youtube.com/watch?v=hRBOnA0ak4w&amp;a...</td>\n",
       "      <td>0</td>\n",
       "      <td>0</td>\n",
       "      <td>0</td>\n",
       "      <td>0</td>\n",
       "      <td>0</td>\n",
       "      <td>0</td>\n",
       "      <td>0</td>\n",
       "      <td>0</td>\n",
       "      <td>0</td>\n",
       "      <td>0</td>\n",
       "      <td>0</td>\n",
       "      <td>0</td>\n",
       "    </tr>\n",
       "    <tr>\n",
       "      <th>1</th>\n",
       "      <td>1</td>\n",
       "      <td>105125</td>\n",
       "      <td>#GOTTA GET THAT 1.48% ON A BOND WHOOOO</td>\n",
       "      <td>Everything is down today, knee jerk reaction t...</td>\n",
       "      <td>AMC, I held all this time and I decided to buy...</td>\n",
       "      <td>0</td>\n",
       "      <td>0</td>\n",
       "      <td>0</td>\n",
       "      <td>0</td>\n",
       "      <td>0</td>\n",
       "      <td>0</td>\n",
       "      <td>0</td>\n",
       "      <td>0</td>\n",
       "      <td>0</td>\n",
       "      <td>0</td>\n",
       "      <td>1</td>\n",
       "      <td>0</td>\n",
       "    </tr>\n",
       "    <tr>\n",
       "      <th>2</th>\n",
       "      <td>2</td>\n",
       "      <td>105684</td>\n",
       "      <td>Having 30k to lose sounds pretty nice to me</td>\n",
       "      <td>No, this is the Warthog</td>\n",
       "      <td>a good trump tweet would turn all this carnage...</td>\n",
       "      <td>0</td>\n",
       "      <td>0</td>\n",
       "      <td>0</td>\n",
       "      <td>0</td>\n",
       "      <td>0</td>\n",
       "      <td>0</td>\n",
       "      <td>0</td>\n",
       "      <td>0</td>\n",
       "      <td>0</td>\n",
       "      <td>0</td>\n",
       "      <td>0</td>\n",
       "      <td>0</td>\n",
       "    </tr>\n",
       "    <tr>\n",
       "      <th>3</th>\n",
       "      <td>3</td>\n",
       "      <td>105904</td>\n",
       "      <td>His tools for inflation are literally rates an...</td>\n",
       "      <td>The market is not worth what you guys have bee...</td>\n",
       "      <td>Can somebody make clear that it's not us who a...</td>\n",
       "      <td>0</td>\n",
       "      <td>0</td>\n",
       "      <td>0</td>\n",
       "      <td>0</td>\n",
       "      <td>0</td>\n",
       "      <td>0</td>\n",
       "      <td>0</td>\n",
       "      <td>0</td>\n",
       "      <td>0</td>\n",
       "      <td>0</td>\n",
       "      <td>0</td>\n",
       "      <td>0</td>\n",
       "    </tr>\n",
       "    <tr>\n",
       "      <th>4</th>\n",
       "      <td>4</td>\n",
       "      <td>1138</td>\n",
       "      <td>Wot?</td>\n",
       "      <td>Didnt he sell all his shares?</td>\n",
       "      <td>This is the way lol holding 100 March 12 / $51...</td>\n",
       "      <td>0</td>\n",
       "      <td>0</td>\n",
       "      <td>0</td>\n",
       "      <td>0</td>\n",
       "      <td>0</td>\n",
       "      <td>0</td>\n",
       "      <td>0</td>\n",
       "      <td>0</td>\n",
       "      <td>0</td>\n",
       "      <td>0</td>\n",
       "      <td>0</td>\n",
       "      <td>0</td>\n",
       "    </tr>\n",
       "  </tbody>\n",
       "</table>\n",
       "</div>"
      ],
      "text/plain": [
       "   Unnamed: 0  example_id                                  preceding_comment  \\\n",
       "0           0      104857  [https://www.youtube.com/watch?v=hRBOnA0ak4w&a...   \n",
       "1           1      105125             #GOTTA GET THAT 1.48% ON A BOND WHOOOO   \n",
       "2           2      105684        Having 30k to lose sounds pretty nice to me   \n",
       "3           3      105904  His tools for inflation are literally rates an...   \n",
       "4           4        1138                                               Wot?   \n",
       "\n",
       "                              comment_for_evaluation  \\\n",
       "0   GME just watching this all and doing nothing lol   \n",
       "1  Everything is down today, knee jerk reaction t...   \n",
       "2                            No, this is the Warthog   \n",
       "3  The market is not worth what you guys have bee...   \n",
       "4                      Didnt he sell all his shares?   \n",
       "\n",
       "                                   following_comment  toxicity  \\\n",
       "0  [https://www.youtube.com/watch?v=hRBOnA0ak4w&a...         0   \n",
       "1  AMC, I held all this time and I decided to buy...         0   \n",
       "2  a good trump tweet would turn all this carnage...         0   \n",
       "3  Can somebody make clear that it's not us who a...         0   \n",
       "4  This is the way lol holding 100 March 12 / $51...         0   \n",
       "\n",
       "   severe_toxicity  identity_attack  insult  profanity  threat  gpt3_toxic  \\\n",
       "0                0                0       0          0       0           0   \n",
       "1                0                0       0          0       0           0   \n",
       "2                0                0       0          0       0           0   \n",
       "3                0                0       0          0       0           0   \n",
       "4                0                0       0          0       0           0   \n",
       "\n",
       "   gpt3_sev_toxic  gpt3_identity  gpt3_insult  gpt3_profanity  gpt3_threat  \n",
       "0               0              0            0               0            0  \n",
       "1               0              0            0               1            0  \n",
       "2               0              0            0               0            0  \n",
       "3               0              0            0               0            0  \n",
       "4               0              0            0               0            0  "
      ]
     },
     "execution_count": 3,
     "metadata": {},
     "output_type": "execute_result"
    }
   ],
   "source": [
    "# loading dataset\n",
    "import numpy as np\n",
    "import pandas as pd\n",
    "\n",
    "# should change file directory to given csv file's path\n",
    "data = pd.read_csv('result_0418.csv')\n",
    "print('shape of dataset:', data.shape)\n",
    "data.head()"
   ]
  },
  {
   "cell_type": "code",
   "execution_count": 4,
   "id": "b3cf4db9",
   "metadata": {},
   "outputs": [],
   "source": [
    "data = data[:40]"
   ]
  },
  {
   "cell_type": "markdown",
   "id": "a7e8aa10",
   "metadata": {},
   "source": [
    "## Evaluation of the model"
   ]
  },
  {
   "cell_type": "code",
   "execution_count": 5,
   "id": "96b5d460",
   "metadata": {},
   "outputs": [],
   "source": [
    "def f1_precision_recall(y_true, y_pred): \n",
    "    \n",
    "    # recall that f1 score = 2 * (precision * recall) / (precision + recall)\n",
    "    # precision = tp / (tp + fp)\n",
    "    # recall = tp / (tp + fn)\n",
    "    tp, tn, fp, fn = 0, 0, 0, 0\n",
    "    precision, recall = 0, 0\n",
    "    \n",
    "    for i in range(len(y_true)):\n",
    "        if y_true[i] == 1 and y_pred[i] == 1: tp += 1\n",
    "        elif y_true[i] == 0 and y_pred[i] == 0: tn += 1\n",
    "        elif y_true[i] == 0 and y_pred[i] == 1: fp += 1\n",
    "        elif y_true[i] == 1 and y_pred[i] == 0: fn += 1            \n",
    "\n",
    "    precision = tp / (tp + fp)\n",
    "    recall = tp / (tp + fn)\n",
    "\n",
    "    f1 = 2 * (precision * recall) / (precision + recall)\n",
    "    \n",
    "    return f1, precision, recall"
   ]
  },
  {
   "cell_type": "code",
   "execution_count": 3,
   "id": "91b74b47",
   "metadata": {},
   "outputs": [],
   "source": [
    "# will get f1, precision, recall, respectively\n",
    "toxic_f1, toxic_precision, toxic_recall = f1_precision_recall(data['toxicity'], data['gpt3_toxic'])\n",
    "sev_f1, sev_precision, sev_recall = f1_precision_recall(data['severe_toxicity'], data['gpt3_sev_toxic'])\n",
    "idn_f1, idn_precision, idn_recall = f1_precision_recall(data['identity_attack'], data['gpt3_identity'])\n",
    "insult_f1, insult_precision, insult_recall = f1_precision_recall(data['insult'], data['gpt3_insult'])\n",
    "prof_f1, prof_precision, prof_recall = f1_precision_recall(data['profanity'], data['gpt3_profanity'])\n",
    "# threat_f1, threat_precision, threat_recall = f1_precision_recall(data['threat'], data['gpt3_threat'])"
   ]
  },
  {
   "cell_type": "code",
   "execution_count": 8,
   "id": "9f07cfe3",
   "metadata": {},
   "outputs": [
    {
     "name": "stdout",
     "output_type": "stream",
     "text": [
      "toxicity) f1: 0.160, precision: 1.000, recall: 0.087\n",
      "severe_toxicity) f1: 0.333, precision: 0.333, recall: 0.333\n",
      "identity_attack) f1: 0.200, precision: 1.000, recall: 0.111\n",
      "insult) f1: 0.440, precision: 0.327, recall: 0.673\n",
      "profanity) f1: 0.585, precision: 0.441, recall: 0.867\n"
     ]
    }
   ],
   "source": [
    "# Note: we can't calculate threat as threat_recall = 0/0. threat_precision = 0/8 = 0.0 (0 792 8 0)\n",
    "\n",
    "print('toxicity) f1: {:.3f}, precision: {:.3f}, recall: {:.3f}'.format(toxic_f1, toxic_precision, toxic_recall))\n",
    "print('severe_toxicity) f1: {:.3f}, precision: {:.3f}, recall: {:.3f}'.format(sev_f1, sev_precision, sev_recall))\n",
    "print('identity_attack) f1: {:.3f}, precision: {:.3f}, recall: {:.3f}'.format(idn_f1, idn_precision, idn_recall))\n",
    "print('insult) f1: {:.3f}, precision: {:.3f}, recall: {:.3f}'.format(insult_f1, insult_precision, insult_recall))\n",
    "print('profanity) f1: {:.3f}, precision: {:.3f}, recall: {:.3f}'.format(prof_f1, prof_precision, prof_recall))\n",
    "# print('threat) f1:{:.2f}, precision:{:.2f}, recall:{:.2f}'.format(threat_f1, threat_precision, threat_recall))"
   ]
  },
  {
   "cell_type": "code",
   "execution_count": 9,
   "id": "c3e00a44",
   "metadata": {
    "scrolled": true
   },
   "outputs": [],
   "source": [
    "# calcuating total(but can also average the results as rows for each results are even)\n",
    "y_true_total = pd.concat([data['toxicity'], data['severe_toxicity'], data['identity_attack'], data['insult'], \\\n",
    "                          data['profanity'], data['threat']], axis=0)\n",
    "\n",
    "y_pred_total = pd.concat([data['gpt3_toxic'], data['gpt3_sev_toxic'], data['gpt3_identity'], data['gpt3_insult'], \\\n",
    "                          data['gpt3_profanity'], data['gpt3_threat']], axis=0)"
   ]
  },
  {
   "cell_type": "code",
   "execution_count": 10,
   "id": "90bbf9de",
   "metadata": {},
   "outputs": [
    {
     "name": "stdout",
     "output_type": "stream",
     "text": [
      "total) f1: 0.506, precision: 0.401, recall: 0.685\n"
     ]
    }
   ],
   "source": [
    "total_f1, total_precision, total_recall = f1_precision_recall(list(y_true_total), list(y_pred_total))\n",
    "print('total) f1: {:.3f}, precision: {:.3f}, recall: {:.3f}'.format(total_f1, total_precision, total_recall))"
   ]
  },
  {
   "cell_type": "code",
   "execution_count": null,
   "id": "43e1037e",
   "metadata": {},
   "outputs": [],
   "source": []
  }
 ],
 "metadata": {
  "kernelspec": {
   "display_name": "Python 3",
   "language": "python",
   "name": "python3"
  },
  "language_info": {
   "codemirror_mode": {
    "name": "ipython",
    "version": 3
   },
   "file_extension": ".py",
   "mimetype": "text/x-python",
   "name": "python",
   "nbconvert_exporter": "python",
   "pygments_lexer": "ipython3",
   "version": "3.8.8"
  }
 },
 "nbformat": 4,
 "nbformat_minor": 5
}
