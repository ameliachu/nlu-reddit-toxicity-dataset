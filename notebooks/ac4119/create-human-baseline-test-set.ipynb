{
 "cells": [
  {
   "cell_type": "code",
   "execution_count": 50,
   "metadata": {},
   "outputs": [],
   "source": [
    "import os\n",
    "import datetime as dt\n",
    "import pandas as pd"
   ]
  },
  {
   "cell_type": "code",
   "execution_count": 51,
   "metadata": {},
   "outputs": [],
   "source": [
    "date = '2022-05-02'\n",
    "repo_dir = \"/Users/ameliachu/repos/nlu-reddit-toxicity-dataset\"\n",
    "master_data_location  = f\"{repo_dir}/data/labelled_master_data_{date}.csv\"\n",
    "\n",
    "labels = ['severe_toxicity', 'toxicity', 'identity_attack', 'insult', 'profanity', 'threat']"
   ]
  },
  {
   "cell_type": "code",
   "execution_count": 52,
   "metadata": {},
   "outputs": [],
   "source": [
    "labelled_data = pd.read_csv(master_data_location )"
   ]
  },
  {
   "cell_type": "code",
   "execution_count": 53,
   "metadata": {},
   "outputs": [],
   "source": [
    "labelled_data['has_toxicity'] = labelled_data[labels].sum(axis=1)"
   ]
  },
  {
   "cell_type": "code",
   "execution_count": 54,
   "metadata": {},
   "outputs": [
    {
     "data": {
      "text/plain": [
       "412"
      ]
     },
     "execution_count": 54,
     "metadata": {},
     "output_type": "execute_result"
    }
   ],
   "source": [
    "len(labelled_data[labelled_data['has_toxicity'] > 0])"
   ]
  },
  {
   "cell_type": "code",
   "execution_count": 55,
   "metadata": {},
   "outputs": [
    {
     "name": "stdout",
     "output_type": "stream",
     "text": [
      "severe_toxicity: 15\n",
      "toxicity: 94\n",
      "identity_attack: 44\n",
      "insult: 130\n",
      "profanity: 345\n",
      "threat: 2\n"
     ]
    }
   ],
   "source": [
    "for label in labels:\n",
    "    n = len(labelled_data[labelled_data[label] > 0])\n",
    "    print(f\"{label}: {n:,}\")"
   ]
  },
  {
   "cell_type": "code",
   "execution_count": 56,
   "metadata": {},
   "outputs": [],
   "source": [
    "selected_examples = list(labelled_data[labelled_data['toxicity'] == 1]['example_id'].sample(15).values)"
   ]
  },
  {
   "cell_type": "code",
   "execution_count": 57,
   "metadata": {},
   "outputs": [
    {
     "data": {
      "text/html": [
       "<div>\n",
       "<style scoped>\n",
       "    .dataframe tbody tr th:only-of-type {\n",
       "        vertical-align: middle;\n",
       "    }\n",
       "\n",
       "    .dataframe tbody tr th {\n",
       "        vertical-align: top;\n",
       "    }\n",
       "\n",
       "    .dataframe thead th {\n",
       "        text-align: right;\n",
       "    }\n",
       "</style>\n",
       "<table border=\"1\" class=\"dataframe\">\n",
       "  <thead>\n",
       "    <tr style=\"text-align: right;\">\n",
       "      <th></th>\n",
       "      <th>example_id</th>\n",
       "      <th>preceding_comment</th>\n",
       "      <th>comment_for_evaluation</th>\n",
       "      <th>following_comment</th>\n",
       "      <th>toxicity</th>\n",
       "      <th>severe_toxicity</th>\n",
       "      <th>identity_attack</th>\n",
       "      <th>insult</th>\n",
       "      <th>profanity</th>\n",
       "      <th>threat</th>\n",
       "      <th>has_toxicity</th>\n",
       "    </tr>\n",
       "  </thead>\n",
       "  <tbody>\n",
       "    <tr>\n",
       "      <th>0</th>\n",
       "      <td>102693</td>\n",
       "      <td>It’s not ready yet</td>\n",
       "      <td>Margin? I hardly knew her</td>\n",
       "      <td>Fucking JPow, you were supposed to help the bu...</td>\n",
       "      <td>0.0</td>\n",
       "      <td>0.0</td>\n",
       "      <td>0.0</td>\n",
       "      <td>0.0</td>\n",
       "      <td>0.0</td>\n",
       "      <td>0.0</td>\n",
       "      <td>0.0</td>\n",
       "    </tr>\n",
       "    <tr>\n",
       "      <th>1</th>\n",
       "      <td>115299</td>\n",
       "      <td>did wsb pump something today? looking for a pu...</td>\n",
       "      <td>SL GG get in now</td>\n",
       "      <td>What abt all the March ones I have, can they b...</td>\n",
       "      <td>0.0</td>\n",
       "      <td>0.0</td>\n",
       "      <td>0.0</td>\n",
       "      <td>0.0</td>\n",
       "      <td>0.0</td>\n",
       "      <td>0.0</td>\n",
       "      <td>0.0</td>\n",
       "    </tr>\n",
       "    <tr>\n",
       "      <th>2</th>\n",
       "      <td>120753</td>\n",
       "      <td>We're confiscating this thread\\n\\nOfficial GME...</td>\n",
       "      <td>DO NOT put respek on that man's name by callin...</td>\n",
       "      <td>?</td>\n",
       "      <td>0.0</td>\n",
       "      <td>0.0</td>\n",
       "      <td>0.0</td>\n",
       "      <td>0.0</td>\n",
       "      <td>0.0</td>\n",
       "      <td>0.0</td>\n",
       "      <td>0.0</td>\n",
       "    </tr>\n",
       "    <tr>\n",
       "      <th>3</th>\n",
       "      <td>128106</td>\n",
       "      <td>Have been hoping for 2 green days in a row for...</td>\n",
       "      <td>T'is but a scratch - Elon</td>\n",
       "      <td>BNGO</td>\n",
       "      <td>0.0</td>\n",
       "      <td>0.0</td>\n",
       "      <td>0.0</td>\n",
       "      <td>0.0</td>\n",
       "      <td>0.0</td>\n",
       "      <td>0.0</td>\n",
       "      <td>0.0</td>\n",
       "    </tr>\n",
       "    <tr>\n",
       "      <th>4</th>\n",
       "      <td>133758</td>\n",
       "      <td>AAPL is the most confusing part of my portfoli...</td>\n",
       "      <td>Those were the best. \\nCan we blast Boomer kin...</td>\n",
       "      <td>BB hitting $10 again this week.</td>\n",
       "      <td>0.0</td>\n",
       "      <td>0.0</td>\n",
       "      <td>0.0</td>\n",
       "      <td>0.0</td>\n",
       "      <td>0.0</td>\n",
       "      <td>1.0</td>\n",
       "      <td>1.0</td>\n",
       "    </tr>\n",
       "    <tr>\n",
       "      <th>...</th>\n",
       "      <td>...</td>\n",
       "      <td>...</td>\n",
       "      <td>...</td>\n",
       "      <td>...</td>\n",
       "      <td>...</td>\n",
       "      <td>...</td>\n",
       "      <td>...</td>\n",
       "      <td>...</td>\n",
       "      <td>...</td>\n",
       "      <td>...</td>\n",
       "      <td>...</td>\n",
       "    </tr>\n",
       "    <tr>\n",
       "      <th>2015</th>\n",
       "      <td>80084</td>\n",
       "      <td>Is tMr a green day? Surely?</td>\n",
       "      <td>Cup and handle chart forming on SKT. This is d...</td>\n",
       "      <td>Fuck this I’m getting my pitchfork and gonna g...</td>\n",
       "      <td>0.0</td>\n",
       "      <td>0.0</td>\n",
       "      <td>0.0</td>\n",
       "      <td>0.0</td>\n",
       "      <td>0.0</td>\n",
       "      <td>0.0</td>\n",
       "      <td>0.0</td>\n",
       "    </tr>\n",
       "    <tr>\n",
       "      <th>2016</th>\n",
       "      <td>85744</td>\n",
       "      <td>that would need a big catalyst</td>\n",
       "      <td>Don’t know what you’re the proud new owner of ...</td>\n",
       "      <td>37%</td>\n",
       "      <td>0.0</td>\n",
       "      <td>0.0</td>\n",
       "      <td>0.0</td>\n",
       "      <td>0.0</td>\n",
       "      <td>0.0</td>\n",
       "      <td>0.0</td>\n",
       "      <td>0.0</td>\n",
       "    </tr>\n",
       "    <tr>\n",
       "      <th>2017</th>\n",
       "      <td>90036</td>\n",
       "      <td>Heard JPOW is going to announce new printers t...</td>\n",
       "      <td>I'm a gay bear 🐻</td>\n",
       "      <td>They’re manipulating SKT now, limiting trading...</td>\n",
       "      <td>0.0</td>\n",
       "      <td>0.0</td>\n",
       "      <td>1.0</td>\n",
       "      <td>0.0</td>\n",
       "      <td>0.0</td>\n",
       "      <td>0.0</td>\n",
       "      <td>1.0</td>\n",
       "    </tr>\n",
       "    <tr>\n",
       "      <th>2018</th>\n",
       "      <td>93060</td>\n",
       "      <td>holy shit it burns</td>\n",
       "      <td>Boomer money is the problem here. \\n\\nTheres n...</td>\n",
       "      <td>Biden’s pathetic job numbers are coming out to...</td>\n",
       "      <td>0.0</td>\n",
       "      <td>0.0</td>\n",
       "      <td>1.0</td>\n",
       "      <td>0.0</td>\n",
       "      <td>0.0</td>\n",
       "      <td>0.0</td>\n",
       "      <td>1.0</td>\n",
       "    </tr>\n",
       "    <tr>\n",
       "      <th>2019</th>\n",
       "      <td>96887</td>\n",
       "      <td>Think you lose more money on -80% calls than t...</td>\n",
       "      <td>USO BP SU and MRO treating me very nicely</td>\n",
       "      <td>It seems like any little catalyst is going to ...</td>\n",
       "      <td>0.0</td>\n",
       "      <td>0.0</td>\n",
       "      <td>0.0</td>\n",
       "      <td>0.0</td>\n",
       "      <td>0.0</td>\n",
       "      <td>0.0</td>\n",
       "      <td>0.0</td>\n",
       "    </tr>\n",
       "  </tbody>\n",
       "</table>\n",
       "<p>1998 rows × 11 columns</p>\n",
       "</div>"
      ],
      "text/plain": [
       "      example_id                                  preceding_comment  \\\n",
       "0         102693                                 It’s not ready yet   \n",
       "1         115299  did wsb pump something today? looking for a pu...   \n",
       "2         120753  We're confiscating this thread\\n\\nOfficial GME...   \n",
       "3         128106  Have been hoping for 2 green days in a row for...   \n",
       "4         133758  AAPL is the most confusing part of my portfoli...   \n",
       "...          ...                                                ...   \n",
       "2015       80084                        Is tMr a green day? Surely?   \n",
       "2016       85744                     that would need a big catalyst   \n",
       "2017       90036  Heard JPOW is going to announce new printers t...   \n",
       "2018       93060                                 holy shit it burns   \n",
       "2019       96887  Think you lose more money on -80% calls than t...   \n",
       "\n",
       "                                 comment_for_evaluation  \\\n",
       "0                             Margin? I hardly knew her   \n",
       "1                                      SL GG get in now   \n",
       "2     DO NOT put respek on that man's name by callin...   \n",
       "3                             T'is but a scratch - Elon   \n",
       "4     Those were the best. \\nCan we blast Boomer kin...   \n",
       "...                                                 ...   \n",
       "2015  Cup and handle chart forming on SKT. This is d...   \n",
       "2016  Don’t know what you’re the proud new owner of ...   \n",
       "2017                                   I'm a gay bear 🐻   \n",
       "2018  Boomer money is the problem here. \\n\\nTheres n...   \n",
       "2019          USO BP SU and MRO treating me very nicely   \n",
       "\n",
       "                                      following_comment  toxicity  \\\n",
       "0     Fucking JPow, you were supposed to help the bu...       0.0   \n",
       "1     What abt all the March ones I have, can they b...       0.0   \n",
       "2                                                     ?       0.0   \n",
       "3                                                  BNGO       0.0   \n",
       "4                       BB hitting $10 again this week.       0.0   \n",
       "...                                                 ...       ...   \n",
       "2015  Fuck this I’m getting my pitchfork and gonna g...       0.0   \n",
       "2016                                                37%       0.0   \n",
       "2017  They’re manipulating SKT now, limiting trading...       0.0   \n",
       "2018  Biden’s pathetic job numbers are coming out to...       0.0   \n",
       "2019  It seems like any little catalyst is going to ...       0.0   \n",
       "\n",
       "      severe_toxicity  identity_attack  insult  profanity  threat  \\\n",
       "0                 0.0              0.0     0.0        0.0     0.0   \n",
       "1                 0.0              0.0     0.0        0.0     0.0   \n",
       "2                 0.0              0.0     0.0        0.0     0.0   \n",
       "3                 0.0              0.0     0.0        0.0     0.0   \n",
       "4                 0.0              0.0     0.0        0.0     1.0   \n",
       "...               ...              ...     ...        ...     ...   \n",
       "2015              0.0              0.0     0.0        0.0     0.0   \n",
       "2016              0.0              0.0     0.0        0.0     0.0   \n",
       "2017              0.0              1.0     0.0        0.0     0.0   \n",
       "2018              0.0              1.0     0.0        0.0     0.0   \n",
       "2019              0.0              0.0     0.0        0.0     0.0   \n",
       "\n",
       "      has_toxicity  \n",
       "0              0.0  \n",
       "1              0.0  \n",
       "2              0.0  \n",
       "3              0.0  \n",
       "4              1.0  \n",
       "...            ...  \n",
       "2015           0.0  \n",
       "2016           0.0  \n",
       "2017           1.0  \n",
       "2018           1.0  \n",
       "2019           0.0  \n",
       "\n",
       "[1998 rows x 11 columns]"
      ]
     },
     "execution_count": 57,
     "metadata": {},
     "output_type": "execute_result"
    }
   ],
   "source": [
    "labelled_data[~labelled_data['example_id'].isin(selected_examples)]"
   ]
  },
  {
   "cell_type": "code",
   "execution_count": 58,
   "metadata": {},
   "outputs": [],
   "source": [
    "selected_examples = []\n",
    "for label in labels[:-1]:\n",
    "    examples = list(labelled_data[labelled_data[label] == 1]['example_id'].sample(15).values)\n",
    "    selected_examples+=examples \n",
    "    labelled_data = labelled_data[~labelled_data['example_id'].isin(selected_examples)]"
   ]
  },
  {
   "cell_type": "code",
   "execution_count": 59,
   "metadata": {},
   "outputs": [
    {
     "data": {
      "text/plain": [
       "75"
      ]
     },
     "execution_count": 59,
     "metadata": {},
     "output_type": "execute_result"
    }
   ],
   "source": [
    "len(selected_examples)"
   ]
  },
  {
   "cell_type": "code",
   "execution_count": 60,
   "metadata": {},
   "outputs": [],
   "source": [
    "examples = list(labelled_data[labelled_data['threat'] == 1]['example_id'].values)\n",
    "selected_examples+=examples "
   ]
  },
  {
   "cell_type": "code",
   "execution_count": 62,
   "metadata": {},
   "outputs": [],
   "source": [
    "n_negative_examples = 100 - len(selected_examples)\n",
    "negative_examples = list(labelled_data[labelled_data['has_toxicity'] == 0]['example_id'].sample(n_negative_examples).values)"
   ]
  },
  {
   "cell_type": "code",
   "execution_count": 66,
   "metadata": {},
   "outputs": [],
   "source": [
    "selected_examples+= negative_examples "
   ]
  },
  {
   "cell_type": "code",
   "execution_count": 68,
   "metadata": {},
   "outputs": [
    {
     "data": {
      "text/plain": [
       "100"
      ]
     },
     "execution_count": 68,
     "metadata": {},
     "output_type": "execute_result"
    }
   ],
   "source": [
    "len(set(selected_examples))"
   ]
  },
  {
   "cell_type": "code",
   "execution_count": 70,
   "metadata": {},
   "outputs": [],
   "source": [
    "labelled_data = pd.read_csv(master_data_location)\n",
    "human_baseline_test_set = labelled_data[labelled_data['example_id'].isin(selected_examples)][['example_id', 'preceding_comment', 'comment_for_evaluation',\n",
    "       'following_comment']].drop_duplicates().sample(frac=1)\n",
    "\n",
    "labels = [ 'toxicity', 'severe_toxicity', 'identity_attack', 'insult', 'profanity', 'threat']\n",
    "for label in labels:\n",
    "    human_baseline_test_set[label] = \"\""
   ]
  },
  {
   "cell_type": "code",
   "execution_count": 73,
   "metadata": {},
   "outputs": [],
   "source": [
    "human_baseline_test_set.sample(frac=1).to_csv(f\"{repo_dir}/data/human_baseline_test_set.csv\",index=False)"
   ]
  },
  {
   "cell_type": "code",
   "execution_count": null,
   "metadata": {},
   "outputs": [],
   "source": []
  }
 ],
 "metadata": {
  "kernelspec": {
   "display_name": "Python 3",
   "language": "python",
   "name": "python3"
  },
  "language_info": {
   "codemirror_mode": {
    "name": "ipython",
    "version": 3
   },
   "file_extension": ".py",
   "mimetype": "text/x-python",
   "name": "python",
   "nbconvert_exporter": "python",
   "pygments_lexer": "ipython3",
   "version": "3.8.3"
  }
 },
 "nbformat": 4,
 "nbformat_minor": 4
}
