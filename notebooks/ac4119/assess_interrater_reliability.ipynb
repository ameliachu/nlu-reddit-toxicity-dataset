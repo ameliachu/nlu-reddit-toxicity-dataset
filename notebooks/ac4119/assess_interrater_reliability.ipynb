{
 "cells": [
  {
   "cell_type": "code",
   "execution_count": 143,
   "metadata": {},
   "outputs": [],
   "source": [
    "import os\n",
    "import random\n",
    "from itertools import combinations\n",
    "import numpy as np\n",
    "import pandas as pd\n",
    "from scipy.stats import pearsonr, spearmanr"
   ]
  },
  {
   "cell_type": "code",
   "execution_count": 88,
   "metadata": {},
   "outputs": [],
   "source": [
    "# Replace this location with where the repo is.\n",
    "repository_location = \"/Users/ameliachu/repos/nlu-reddit-toxicity-dataset\""
   ]
  },
  {
   "cell_type": "code",
   "execution_count": 89,
   "metadata": {},
   "outputs": [],
   "source": [
    "interrater_data_folder = f\"{repository_location}/data/interrater-reliability\""
   ]
  },
  {
   "cell_type": "code",
   "execution_count": 151,
   "metadata": {},
   "outputs": [
    {
     "data": {
      "text/plain": [
       "['interrater-ac4119-20220406.csv', 'place-your-interrater-file-here.txt']"
      ]
     },
     "execution_count": 151,
     "metadata": {},
     "output_type": "execute_result"
    }
   ],
   "source": [
    "os.listdir(interrater_data_folder)"
   ]
  },
  {
   "cell_type": "code",
   "execution_count": 92,
   "metadata": {},
   "outputs": [],
   "source": [
    "# file_criteria = '.csv'\n",
    "interrater_files = [f for f in os.listdir(interrater_data_folder) if f.endswith('.csv') ]"
   ]
  },
  {
   "cell_type": "code",
   "execution_count": 93,
   "metadata": {},
   "outputs": [],
   "source": [
    "interrater_info = {}\n",
    "for file in interrater_files:\n",
    "    file_type, rater_id, date_rated = file.split('.')[0].split('-')\n",
    "    data_path = f'{interrater_data_folder}/{file}'\n",
    "    interrater_info[rater_id] = {\n",
    "        \"data\": pd.read_csv(data_path),\n",
    "        \"created_date\": date_rated,\n",
    "        \"file_path\": data_path\n",
    "                          }"
   ]
  },
  {
   "cell_type": "markdown",
   "metadata": {},
   "source": [
    "Shuffling the Rater file order to preserve anonymity"
   ]
  },
  {
   "cell_type": "code",
   "execution_count": 94,
   "metadata": {},
   "outputs": [],
   "source": [
    "raters = list(interrater_info.keys())\n",
    "random.shuffle(raters)"
   ]
  },
  {
   "cell_type": "code",
   "execution_count": 95,
   "metadata": {},
   "outputs": [],
   "source": [
    "interrater_assessments = []\n",
    "labels = ['toxicity', 'severe_toxicity', 'identity_attack', 'insult', 'profanity', 'threat']\n",
    "selected_columns = ['example_index','comment_for_evaluation'] + labels\n",
    "\n",
    "for i, rater_id in enumerate(raters):\n",
    "    individual_ratings = interrater_info[rater_id]['data'][selected_columns]\n",
    "    interrater_assessment = pd.melt(individual_ratings,\n",
    "                                    id_vars=['example_index'], \n",
    "                                    value_vars=labels)\\\n",
    "                              .rename(columns={'value':'label'})\n",
    "    # Using file id instead of rater_id to anonymize results\n",
    "    interrater_assessment[\"file_id\"] = i\n",
    "    interrater_assessments.append(interrater_assessment)"
   ]
  },
  {
   "cell_type": "code",
   "execution_count": 96,
   "metadata": {},
   "outputs": [],
   "source": [
    "interrater_assessments_df = pd.concat(interrater_assessments)"
   ]
  },
  {
   "cell_type": "code",
   "execution_count": 105,
   "metadata": {},
   "outputs": [],
   "source": [
    "interrater_assessments_df = pd.pivot(interrater_assessments_df, index=['variable', 'example_index'], columns='file_id', values='label').fillna(0).reset_index()"
   ]
  },
  {
   "cell_type": "markdown",
   "metadata": {},
   "source": [
    "### Calculating Pearson's R for Reliability\n",
    "https://en.wikipedia.org/wiki/Inter-rater_reliability#Correlation_coefficients"
   ]
  },
  {
   "cell_type": "code",
   "execution_count": 119,
   "metadata": {},
   "outputs": [],
   "source": [
    "all_rater_combinations = list(combinations(range(num_raters), 2))"
   ]
  },
  {
   "cell_type": "code",
   "execution_count": 132,
   "metadata": {},
   "outputs": [
    {
     "name": "stdout",
     "output_type": "stream",
     "text": [
      "identity_attack\n",
      "insult\n",
      "profanity\n",
      "severe_toxicity\n",
      "threat\n",
      "toxicity\n"
     ]
    },
    {
     "name": "stderr",
     "output_type": "stream",
     "text": [
      "/Users/ameliachu/anaconda3/lib/python3.8/site-packages/scipy/stats/stats.py:4023: PearsonRConstantInputWarning: An input array is constant; the correlation coefficient is not defined.\n",
      "  warnings.warn(PearsonRConstantInputWarning())\n"
     ]
    }
   ],
   "source": [
    "reliability = []\n",
    "for rater_x, rater_y in all_rater_combinations:\n",
    "    r_coef, p_value = pearsonr(interrater_assessments_df[rater_x].values, interrater_assessments_df[rater_y].values)\n",
    "    data = {\"rater_pair\": (rater_x, rater_y), \"r_coef\": r_coef, \"p_value\": p_value, \"reliability_type\":\"overall\"}\n",
    "    reliability.append(data)\n",
    "\n",
    "    for variable in interrater_assessments_df['variable'].unique():\n",
    "        print(variable)\n",
    "        rater_x_values = interrater_assessments_df[interrater_assessments_df['variable']==variable][rater_x].values\n",
    "        rater_y_values = interrater_assessments_df[interrater_assessments_df['variable']==variable][rater_y].values\n",
    "        var_r_coef, var_p_value = pearsonr(rater_x_values, rater_y_values)\n",
    "        data = {\"rater_pair\": (rater_x, rater_y), \"r_coef\": var_r_coef, \"p_value\": var_p_value, \n",
    "                \"reliability_type\":f\"by_var_{variable}\"}\n",
    "        reliability.append(data)\n",
    "    \n",
    "    for example in interrater_assessments_df['example_index'].unique():\n",
    "        rater_x_values = interrater_assessments_df[interrater_assessments_df['example_index']==example][rater_x].values\n",
    "        rater_y_values = interrater_assessments_df[interrater_assessments_df['example_index']==example][rater_y].values\n",
    "        ex_r_coef, ex_p_value = pearsonr(rater_x_values, rater_y_values)\n",
    "        data = {\"rater_pair\": (rater_x, rater_y), \"r_coef\": ex_r_coef, \"p_value\": ex_p_value, \n",
    "                \"reliability_type\":f\"by_example_{example}\"}\n",
    "        reliability.append(data)"
   ]
  },
  {
   "cell_type": "code",
   "execution_count": 138,
   "metadata": {},
   "outputs": [],
   "source": [
    "reliability_df = pd.DataFrame(reliability)[['reliability_type', 'rater_pair', 'r_coef','p_value']]"
   ]
  },
  {
   "cell_type": "code",
   "execution_count": 139,
   "metadata": {},
   "outputs": [
    {
     "data": {
      "text/html": [
       "<div>\n",
       "<style scoped>\n",
       "    .dataframe tbody tr th:only-of-type {\n",
       "        vertical-align: middle;\n",
       "    }\n",
       "\n",
       "    .dataframe tbody tr th {\n",
       "        vertical-align: top;\n",
       "    }\n",
       "\n",
       "    .dataframe thead th {\n",
       "        text-align: right;\n",
       "    }\n",
       "</style>\n",
       "<table border=\"1\" class=\"dataframe\">\n",
       "  <thead>\n",
       "    <tr style=\"text-align: right;\">\n",
       "      <th></th>\n",
       "      <th>reliability_type</th>\n",
       "      <th>rater_pair</th>\n",
       "      <th>r_coef</th>\n",
       "      <th>p_value</th>\n",
       "    </tr>\n",
       "  </thead>\n",
       "  <tbody>\n",
       "    <tr>\n",
       "      <th>0</th>\n",
       "      <td>overall</td>\n",
       "      <td>(0, 1)</td>\n",
       "      <td>0.493624</td>\n",
       "      <td>1.052852e-05</td>\n",
       "    </tr>\n",
       "    <tr>\n",
       "      <th>1</th>\n",
       "      <td>by_var_identity_attack</td>\n",
       "      <td>(0, 1)</td>\n",
       "      <td>1.000000</td>\n",
       "      <td>1.328317e-79</td>\n",
       "    </tr>\n",
       "    <tr>\n",
       "      <th>2</th>\n",
       "      <td>by_var_insult</td>\n",
       "      <td>(0, 1)</td>\n",
       "      <td>0.292770</td>\n",
       "      <td>3.557557e-01</td>\n",
       "    </tr>\n",
       "    <tr>\n",
       "      <th>3</th>\n",
       "      <td>by_var_profanity</td>\n",
       "      <td>(0, 1)</td>\n",
       "      <td>-0.239046</td>\n",
       "      <td>4.543014e-01</td>\n",
       "    </tr>\n",
       "    <tr>\n",
       "      <th>4</th>\n",
       "      <td>by_var_severe_toxicity</td>\n",
       "      <td>(0, 1)</td>\n",
       "      <td>1.000000</td>\n",
       "      <td>1.328317e-79</td>\n",
       "    </tr>\n",
       "    <tr>\n",
       "      <th>5</th>\n",
       "      <td>by_var_threat</td>\n",
       "      <td>(0, 1)</td>\n",
       "      <td>NaN</td>\n",
       "      <td>NaN</td>\n",
       "    </tr>\n",
       "    <tr>\n",
       "      <th>6</th>\n",
       "      <td>by_var_toxicity</td>\n",
       "      <td>(0, 1)</td>\n",
       "      <td>0.555556</td>\n",
       "      <td>6.074657e-02</td>\n",
       "    </tr>\n",
       "    <tr>\n",
       "      <th>7</th>\n",
       "      <td>by_example_3</td>\n",
       "      <td>(0, 1)</td>\n",
       "      <td>1.000000</td>\n",
       "      <td>0.000000e+00</td>\n",
       "    </tr>\n",
       "    <tr>\n",
       "      <th>8</th>\n",
       "      <td>by_example_5499</td>\n",
       "      <td>(0, 1)</td>\n",
       "      <td>NaN</td>\n",
       "      <td>NaN</td>\n",
       "    </tr>\n",
       "    <tr>\n",
       "      <th>9</th>\n",
       "      <td>by_example_6509</td>\n",
       "      <td>(0, 1)</td>\n",
       "      <td>0.632456</td>\n",
       "      <td>1.778078e-01</td>\n",
       "    </tr>\n",
       "    <tr>\n",
       "      <th>10</th>\n",
       "      <td>by_example_23120</td>\n",
       "      <td>(0, 1)</td>\n",
       "      <td>NaN</td>\n",
       "      <td>NaN</td>\n",
       "    </tr>\n",
       "    <tr>\n",
       "      <th>11</th>\n",
       "      <td>by_example_49308</td>\n",
       "      <td>(0, 1)</td>\n",
       "      <td>1.000000</td>\n",
       "      <td>0.000000e+00</td>\n",
       "    </tr>\n",
       "    <tr>\n",
       "      <th>12</th>\n",
       "      <td>by_example_62874</td>\n",
       "      <td>(0, 1)</td>\n",
       "      <td>1.000000</td>\n",
       "      <td>0.000000e+00</td>\n",
       "    </tr>\n",
       "    <tr>\n",
       "      <th>13</th>\n",
       "      <td>by_example_71214</td>\n",
       "      <td>(0, 1)</td>\n",
       "      <td>NaN</td>\n",
       "      <td>NaN</td>\n",
       "    </tr>\n",
       "    <tr>\n",
       "      <th>14</th>\n",
       "      <td>by_example_115811</td>\n",
       "      <td>(0, 1)</td>\n",
       "      <td>NaN</td>\n",
       "      <td>NaN</td>\n",
       "    </tr>\n",
       "    <tr>\n",
       "      <th>15</th>\n",
       "      <td>by_example_136623</td>\n",
       "      <td>(0, 1)</td>\n",
       "      <td>NaN</td>\n",
       "      <td>NaN</td>\n",
       "    </tr>\n",
       "    <tr>\n",
       "      <th>16</th>\n",
       "      <td>by_example_157648</td>\n",
       "      <td>(0, 1)</td>\n",
       "      <td>NaN</td>\n",
       "      <td>NaN</td>\n",
       "    </tr>\n",
       "    <tr>\n",
       "      <th>17</th>\n",
       "      <td>by_example_201032</td>\n",
       "      <td>(0, 1)</td>\n",
       "      <td>NaN</td>\n",
       "      <td>NaN</td>\n",
       "    </tr>\n",
       "    <tr>\n",
       "      <th>18</th>\n",
       "      <td>by_example_288908</td>\n",
       "      <td>(0, 1)</td>\n",
       "      <td>NaN</td>\n",
       "      <td>NaN</td>\n",
       "    </tr>\n",
       "  </tbody>\n",
       "</table>\n",
       "</div>"
      ],
      "text/plain": [
       "          reliability_type rater_pair    r_coef       p_value\n",
       "0                  overall     (0, 1)  0.493624  1.052852e-05\n",
       "1   by_var_identity_attack     (0, 1)  1.000000  1.328317e-79\n",
       "2            by_var_insult     (0, 1)  0.292770  3.557557e-01\n",
       "3         by_var_profanity     (0, 1) -0.239046  4.543014e-01\n",
       "4   by_var_severe_toxicity     (0, 1)  1.000000  1.328317e-79\n",
       "5            by_var_threat     (0, 1)       NaN           NaN\n",
       "6          by_var_toxicity     (0, 1)  0.555556  6.074657e-02\n",
       "7             by_example_3     (0, 1)  1.000000  0.000000e+00\n",
       "8          by_example_5499     (0, 1)       NaN           NaN\n",
       "9          by_example_6509     (0, 1)  0.632456  1.778078e-01\n",
       "10        by_example_23120     (0, 1)       NaN           NaN\n",
       "11        by_example_49308     (0, 1)  1.000000  0.000000e+00\n",
       "12        by_example_62874     (0, 1)  1.000000  0.000000e+00\n",
       "13        by_example_71214     (0, 1)       NaN           NaN\n",
       "14       by_example_115811     (0, 1)       NaN           NaN\n",
       "15       by_example_136623     (0, 1)       NaN           NaN\n",
       "16       by_example_157648     (0, 1)       NaN           NaN\n",
       "17       by_example_201032     (0, 1)       NaN           NaN\n",
       "18       by_example_288908     (0, 1)       NaN           NaN"
      ]
     },
     "execution_count": 139,
     "metadata": {},
     "output_type": "execute_result"
    }
   ],
   "source": [
    "reliability_df.groupby('reliability_type').agg({'r_coef':np.avg})"
   ]
  },
  {
   "cell_type": "code",
   "execution_count": 147,
   "metadata": {},
   "outputs": [],
   "source": [
    "### Calculating Spearman's R for Reliability"
   ]
  },
  {
   "cell_type": "code",
   "execution_count": 148,
   "metadata": {},
   "outputs": [
    {
     "name": "stdout",
     "output_type": "stream",
     "text": [
      "identity_attack\n",
      "insult\n",
      "profanity\n",
      "severe_toxicity\n",
      "threat\n",
      "toxicity\n"
     ]
    },
    {
     "name": "stderr",
     "output_type": "stream",
     "text": [
      "/Users/ameliachu/anaconda3/lib/python3.8/site-packages/scipy/stats/stats.py:4484: SpearmanRConstantInputWarning: An input array is constant; the correlation coefficient is not defined.\n",
      "  warnings.warn(SpearmanRConstantInputWarning())\n"
     ]
    }
   ],
   "source": [
    "spearmanr_reliability = []\n",
    "for rater_x, rater_y in all_rater_combinations:\n",
    "    r_coef, p_value = spearmanr(interrater_assessments_df[rater_x].values, interrater_assessments_df[rater_y].values)\n",
    "    data = {\"rater_pair\": (rater_x, rater_y), \"r_coef\": r_coef, \"p_value\": p_value, \"spearmanr_reliability_type\":\"overall\"}\n",
    "    spearmanr_reliability.append(data)\n",
    "\n",
    "    for variable in interrater_assessments_df['variable'].unique():\n",
    "        print(variable)\n",
    "        rater_x_values = interrater_assessments_df[interrater_assessments_df['variable']==variable][rater_x].values\n",
    "        rater_y_values = interrater_assessments_df[interrater_assessments_df['variable']==variable][rater_y].values\n",
    "        var_r_coef, var_p_value = spearmanr(rater_x_values, rater_y_values)\n",
    "        data = {\"rater_pair\": (rater_x, rater_y), \"r_coef\": var_r_coef, \"p_value\": var_p_value, \n",
    "                \"spearmanr_reliability_type\":f\"by_var_{variable}\"}\n",
    "        spearmanr_reliability.append(data)\n",
    "    \n",
    "    for example in interrater_assessments_df['example_index'].unique():\n",
    "        rater_x_values = interrater_assessments_df[interrater_assessments_df['example_index']==example][rater_x].values\n",
    "        rater_y_values = interrater_assessments_df[interrater_assessments_df['example_index']==example][rater_y].values\n",
    "        ex_r_coef, ex_p_value = spearmanr(rater_x_values, rater_y_values)\n",
    "        data = {\"rater_pair\": (rater_x, rater_y), \"r_coef\": ex_r_coef, \"p_value\": ex_p_value, \n",
    "                \"spearmanr_reliability_type\":f\"by_example_{example}\"}\n",
    "        spearmanr_reliability.append(data)"
   ]
  },
  {
   "cell_type": "code",
   "execution_count": 149,
   "metadata": {},
   "outputs": [],
   "source": [
    "spearmanr_reliability_df = pd.DataFrame(spearmanr_reliability)[['spearmanr_reliability_type', 'rater_pair', 'r_coef','p_value']]"
   ]
  },
  {
   "cell_type": "code",
   "execution_count": 150,
   "metadata": {},
   "outputs": [
    {
     "data": {
      "text/html": [
       "<div>\n",
       "<style scoped>\n",
       "    .dataframe tbody tr th:only-of-type {\n",
       "        vertical-align: middle;\n",
       "    }\n",
       "\n",
       "    .dataframe tbody tr th {\n",
       "        vertical-align: top;\n",
       "    }\n",
       "\n",
       "    .dataframe thead th {\n",
       "        text-align: right;\n",
       "    }\n",
       "</style>\n",
       "<table border=\"1\" class=\"dataframe\">\n",
       "  <thead>\n",
       "    <tr style=\"text-align: right;\">\n",
       "      <th></th>\n",
       "      <th>spearmanr_reliability_type</th>\n",
       "      <th>rater_pair</th>\n",
       "      <th>r_coef</th>\n",
       "      <th>p_value</th>\n",
       "    </tr>\n",
       "  </thead>\n",
       "  <tbody>\n",
       "    <tr>\n",
       "      <th>0</th>\n",
       "      <td>overall</td>\n",
       "      <td>(0, 1)</td>\n",
       "      <td>0.493624</td>\n",
       "      <td>0.000011</td>\n",
       "    </tr>\n",
       "    <tr>\n",
       "      <th>1</th>\n",
       "      <td>by_var_identity_attack</td>\n",
       "      <td>(0, 1)</td>\n",
       "      <td>1.000000</td>\n",
       "      <td>0.000000</td>\n",
       "    </tr>\n",
       "    <tr>\n",
       "      <th>2</th>\n",
       "      <td>by_var_insult</td>\n",
       "      <td>(0, 1)</td>\n",
       "      <td>0.292770</td>\n",
       "      <td>0.355756</td>\n",
       "    </tr>\n",
       "    <tr>\n",
       "      <th>3</th>\n",
       "      <td>by_var_profanity</td>\n",
       "      <td>(0, 1)</td>\n",
       "      <td>-0.239046</td>\n",
       "      <td>0.454301</td>\n",
       "    </tr>\n",
       "    <tr>\n",
       "      <th>4</th>\n",
       "      <td>by_var_severe_toxicity</td>\n",
       "      <td>(0, 1)</td>\n",
       "      <td>1.000000</td>\n",
       "      <td>0.000000</td>\n",
       "    </tr>\n",
       "    <tr>\n",
       "      <th>5</th>\n",
       "      <td>by_var_threat</td>\n",
       "      <td>(0, 1)</td>\n",
       "      <td>NaN</td>\n",
       "      <td>NaN</td>\n",
       "    </tr>\n",
       "    <tr>\n",
       "      <th>6</th>\n",
       "      <td>by_var_toxicity</td>\n",
       "      <td>(0, 1)</td>\n",
       "      <td>0.555556</td>\n",
       "      <td>0.060747</td>\n",
       "    </tr>\n",
       "    <tr>\n",
       "      <th>7</th>\n",
       "      <td>by_example_3</td>\n",
       "      <td>(0, 1)</td>\n",
       "      <td>1.000000</td>\n",
       "      <td>0.000000</td>\n",
       "    </tr>\n",
       "    <tr>\n",
       "      <th>8</th>\n",
       "      <td>by_example_5499</td>\n",
       "      <td>(0, 1)</td>\n",
       "      <td>NaN</td>\n",
       "      <td>NaN</td>\n",
       "    </tr>\n",
       "    <tr>\n",
       "      <th>9</th>\n",
       "      <td>by_example_6509</td>\n",
       "      <td>(0, 1)</td>\n",
       "      <td>0.632456</td>\n",
       "      <td>0.177808</td>\n",
       "    </tr>\n",
       "    <tr>\n",
       "      <th>10</th>\n",
       "      <td>by_example_23120</td>\n",
       "      <td>(0, 1)</td>\n",
       "      <td>NaN</td>\n",
       "      <td>NaN</td>\n",
       "    </tr>\n",
       "    <tr>\n",
       "      <th>11</th>\n",
       "      <td>by_example_49308</td>\n",
       "      <td>(0, 1)</td>\n",
       "      <td>1.000000</td>\n",
       "      <td>0.000000</td>\n",
       "    </tr>\n",
       "    <tr>\n",
       "      <th>12</th>\n",
       "      <td>by_example_62874</td>\n",
       "      <td>(0, 1)</td>\n",
       "      <td>1.000000</td>\n",
       "      <td>0.000000</td>\n",
       "    </tr>\n",
       "    <tr>\n",
       "      <th>13</th>\n",
       "      <td>by_example_71214</td>\n",
       "      <td>(0, 1)</td>\n",
       "      <td>NaN</td>\n",
       "      <td>NaN</td>\n",
       "    </tr>\n",
       "    <tr>\n",
       "      <th>14</th>\n",
       "      <td>by_example_115811</td>\n",
       "      <td>(0, 1)</td>\n",
       "      <td>NaN</td>\n",
       "      <td>NaN</td>\n",
       "    </tr>\n",
       "    <tr>\n",
       "      <th>15</th>\n",
       "      <td>by_example_136623</td>\n",
       "      <td>(0, 1)</td>\n",
       "      <td>NaN</td>\n",
       "      <td>NaN</td>\n",
       "    </tr>\n",
       "    <tr>\n",
       "      <th>16</th>\n",
       "      <td>by_example_157648</td>\n",
       "      <td>(0, 1)</td>\n",
       "      <td>NaN</td>\n",
       "      <td>NaN</td>\n",
       "    </tr>\n",
       "    <tr>\n",
       "      <th>17</th>\n",
       "      <td>by_example_201032</td>\n",
       "      <td>(0, 1)</td>\n",
       "      <td>NaN</td>\n",
       "      <td>NaN</td>\n",
       "    </tr>\n",
       "    <tr>\n",
       "      <th>18</th>\n",
       "      <td>by_example_288908</td>\n",
       "      <td>(0, 1)</td>\n",
       "      <td>NaN</td>\n",
       "      <td>NaN</td>\n",
       "    </tr>\n",
       "  </tbody>\n",
       "</table>\n",
       "</div>"
      ],
      "text/plain": [
       "   spearmanr_reliability_type rater_pair    r_coef   p_value\n",
       "0                     overall     (0, 1)  0.493624  0.000011\n",
       "1      by_var_identity_attack     (0, 1)  1.000000  0.000000\n",
       "2               by_var_insult     (0, 1)  0.292770  0.355756\n",
       "3            by_var_profanity     (0, 1) -0.239046  0.454301\n",
       "4      by_var_severe_toxicity     (0, 1)  1.000000  0.000000\n",
       "5               by_var_threat     (0, 1)       NaN       NaN\n",
       "6             by_var_toxicity     (0, 1)  0.555556  0.060747\n",
       "7                by_example_3     (0, 1)  1.000000  0.000000\n",
       "8             by_example_5499     (0, 1)       NaN       NaN\n",
       "9             by_example_6509     (0, 1)  0.632456  0.177808\n",
       "10           by_example_23120     (0, 1)       NaN       NaN\n",
       "11           by_example_49308     (0, 1)  1.000000  0.000000\n",
       "12           by_example_62874     (0, 1)  1.000000  0.000000\n",
       "13           by_example_71214     (0, 1)       NaN       NaN\n",
       "14          by_example_115811     (0, 1)       NaN       NaN\n",
       "15          by_example_136623     (0, 1)       NaN       NaN\n",
       "16          by_example_157648     (0, 1)       NaN       NaN\n",
       "17          by_example_201032     (0, 1)       NaN       NaN\n",
       "18          by_example_288908     (0, 1)       NaN       NaN"
      ]
     },
     "execution_count": 150,
     "metadata": {},
     "output_type": "execute_result"
    }
   ],
   "source": [
    "spearmanr_reliability_df "
   ]
  },
  {
   "cell_type": "code",
   "execution_count": null,
   "metadata": {},
   "outputs": [],
   "source": []
  }
 ],
 "metadata": {
  "kernelspec": {
   "display_name": "Python 3",
   "language": "python",
   "name": "python3"
  },
  "language_info": {
   "codemirror_mode": {
    "name": "ipython",
    "version": 3
   },
   "file_extension": ".py",
   "mimetype": "text/x-python",
   "name": "python",
   "nbconvert_exporter": "python",
   "pygments_lexer": "ipython3",
   "version": "3.8.3"
  }
 },
 "nbformat": 4,
 "nbformat_minor": 4
}
