{
 "cells": [
  {
   "cell_type": "code",
   "execution_count": 9,
   "metadata": {},
   "outputs": [],
   "source": [
    "import os\n",
    "import datetime as dt\n",
    "import pandas as pd"
   ]
  },
  {
   "cell_type": "code",
   "execution_count": 10,
   "metadata": {},
   "outputs": [
    {
     "name": "stdout",
     "output_type": "stream",
     "text": [
      "['yj2369_labelling_assignment_2022-04-13.csv', 'gm2858_labelling_assignment_2022-04-21.csv', 'gm2858_labelling_assignment_2022-04-09.csv', 'yp2201_labelling_assignment_2022-04-09.csv', 'yp2201_labelling_assignment_2022-04-21.csv', 'ac4119_labelling_assignment_2022-04-09.csv', 'ac4119_labelling_assignment_2022-04-21.csv', 'ac4119_labelling_assignment_2022-04-13.csv', 'yp2201_labelling_assignment_2022-04-13.csv', 'gm2858_labelling_assignment_2022-04-13.csv', 'yj2369_labelling_assignment_2022-04-09.csv', 'yj2369_labelling_assignment_2022-04-21.csv']\n",
      "/Users/ameliachu/repos/nlu-reddit-toxicity-dataset/data/labelled_master_data_2022-04-28.csv\n"
     ]
    }
   ],
   "source": [
    "repo_dir = \"/Users/ameliachu/repos/nlu-reddit-toxicity-dataset\"\n",
    "labelled_data_dir = f\"{repo_dir}/data/labelled/\"\n",
    "labelled_data_fnames = [f for f in os.listdir(labelled_data_dir)]\n",
    "master_data_location  = f\"{repo_dir}/data/labelled_master_data_{dt.date.today()}.csv\"\n",
    "print(labelled_data_fnames)\n",
    "print(master_data_location)"
   ]
  },
  {
   "cell_type": "code",
   "execution_count": 11,
   "metadata": {},
   "outputs": [],
   "source": [
    "selected_columns = ['example_id', 'preceding_comment', 'comment_for_evaluation',\n",
    "       'following_comment', 'toxicity', 'severe_toxicity', 'identity_attack',\n",
    "       'insult', 'profanity', 'threat']\n",
    "\n",
    "list_of_labelled_data = [pd.read_csv(f\"{labelled_data_dir}{fname}\")[selected_columns] for fname in labelled_data_fnames]"
   ]
  },
  {
   "cell_type": "code",
   "execution_count": 12,
   "metadata": {},
   "outputs": [],
   "source": [
    "selected_columns = ['example_id', 'preceding_comment', 'comment_for_evaluation',\n",
    "       'following_comment', 'toxicity', 'severe_toxicity', 'identity_attack',\n",
    "       'insult', 'profanity', 'threat']\n",
    "\n",
    "list_of_labelled_data = [pd.read_csv(f\"{labelled_data_dir}{fname}\")[selected_columns] for fname in labelled_data_fnames]"
   ]
  },
  {
   "cell_type": "code",
   "execution_count": 13,
   "metadata": {},
   "outputs": [],
   "source": [
    "labelled_master_data = pd.concat(list_of_labelled_data ).drop_duplicates()"
   ]
  },
  {
   "cell_type": "code",
   "execution_count": 14,
   "metadata": {},
   "outputs": [],
   "source": [
    "labelled_master_data.to_csv(master_data_location,index=False)"
   ]
  },
  {
   "cell_type": "code",
   "execution_count": 15,
   "metadata": {},
   "outputs": [
    {
     "data": {
      "text/html": [
       "<div>\n",
       "<style scoped>\n",
       "    .dataframe tbody tr th:only-of-type {\n",
       "        vertical-align: middle;\n",
       "    }\n",
       "\n",
       "    .dataframe tbody tr th {\n",
       "        vertical-align: top;\n",
       "    }\n",
       "\n",
       "    .dataframe thead th {\n",
       "        text-align: right;\n",
       "    }\n",
       "</style>\n",
       "<table border=\"1\" class=\"dataframe\">\n",
       "  <thead>\n",
       "    <tr style=\"text-align: right;\">\n",
       "      <th></th>\n",
       "      <th>example_id</th>\n",
       "      <th>preceding_comment</th>\n",
       "      <th>comment_for_evaluation</th>\n",
       "      <th>following_comment</th>\n",
       "      <th>toxicity</th>\n",
       "      <th>severe_toxicity</th>\n",
       "      <th>identity_attack</th>\n",
       "      <th>insult</th>\n",
       "      <th>profanity</th>\n",
       "      <th>threat</th>\n",
       "    </tr>\n",
       "  </thead>\n",
       "  <tbody>\n",
       "    <tr>\n",
       "      <th>0</th>\n",
       "      <td>102693</td>\n",
       "      <td>It’s not ready yet</td>\n",
       "      <td>Margin? I hardly knew her</td>\n",
       "      <td>Fucking JPow, you were supposed to help the bu...</td>\n",
       "      <td>0.0</td>\n",
       "      <td>0.0</td>\n",
       "      <td>0.0</td>\n",
       "      <td>0.0</td>\n",
       "      <td>0.0</td>\n",
       "      <td>0.0</td>\n",
       "    </tr>\n",
       "    <tr>\n",
       "      <th>1</th>\n",
       "      <td>115299</td>\n",
       "      <td>did wsb pump something today? looking for a pu...</td>\n",
       "      <td>SL GG get in now</td>\n",
       "      <td>What abt all the March ones I have, can they b...</td>\n",
       "      <td>0.0</td>\n",
       "      <td>0.0</td>\n",
       "      <td>0.0</td>\n",
       "      <td>0.0</td>\n",
       "      <td>0.0</td>\n",
       "      <td>0.0</td>\n",
       "    </tr>\n",
       "    <tr>\n",
       "      <th>2</th>\n",
       "      <td>120753</td>\n",
       "      <td>We're confiscating this thread\\n\\nOfficial GME...</td>\n",
       "      <td>DO NOT put respek on that man's name by callin...</td>\n",
       "      <td>?</td>\n",
       "      <td>0.0</td>\n",
       "      <td>0.0</td>\n",
       "      <td>0.0</td>\n",
       "      <td>0.0</td>\n",
       "      <td>0.0</td>\n",
       "      <td>0.0</td>\n",
       "    </tr>\n",
       "    <tr>\n",
       "      <th>3</th>\n",
       "      <td>128106</td>\n",
       "      <td>Have been hoping for 2 green days in a row for...</td>\n",
       "      <td>T'is but a scratch - Elon</td>\n",
       "      <td>BNGO</td>\n",
       "      <td>0.0</td>\n",
       "      <td>0.0</td>\n",
       "      <td>0.0</td>\n",
       "      <td>0.0</td>\n",
       "      <td>0.0</td>\n",
       "      <td>0.0</td>\n",
       "    </tr>\n",
       "    <tr>\n",
       "      <th>4</th>\n",
       "      <td>133758</td>\n",
       "      <td>AAPL is the most confusing part of my portfoli...</td>\n",
       "      <td>Those were the best. \\nCan we blast Boomer kin...</td>\n",
       "      <td>BB hitting $10 again this week.</td>\n",
       "      <td>0.0</td>\n",
       "      <td>0.0</td>\n",
       "      <td>0.0</td>\n",
       "      <td>0.0</td>\n",
       "      <td>0.0</td>\n",
       "      <td>1.0</td>\n",
       "    </tr>\n",
       "  </tbody>\n",
       "</table>\n",
       "</div>"
      ],
      "text/plain": [
       "   example_id                                  preceding_comment  \\\n",
       "0      102693                                 It’s not ready yet   \n",
       "1      115299  did wsb pump something today? looking for a pu...   \n",
       "2      120753  We're confiscating this thread\\n\\nOfficial GME...   \n",
       "3      128106  Have been hoping for 2 green days in a row for...   \n",
       "4      133758  AAPL is the most confusing part of my portfoli...   \n",
       "\n",
       "                              comment_for_evaluation  \\\n",
       "0                          Margin? I hardly knew her   \n",
       "1                                   SL GG get in now   \n",
       "2  DO NOT put respek on that man's name by callin...   \n",
       "3                          T'is but a scratch - Elon   \n",
       "4  Those were the best. \\nCan we blast Boomer kin...   \n",
       "\n",
       "                                   following_comment  toxicity  \\\n",
       "0  Fucking JPow, you were supposed to help the bu...       0.0   \n",
       "1  What abt all the March ones I have, can they b...       0.0   \n",
       "2                                                  ?       0.0   \n",
       "3                                               BNGO       0.0   \n",
       "4                    BB hitting $10 again this week.       0.0   \n",
       "\n",
       "   severe_toxicity  identity_attack  insult  profanity  threat  \n",
       "0              0.0              0.0     0.0        0.0     0.0  \n",
       "1              0.0              0.0     0.0        0.0     0.0  \n",
       "2              0.0              0.0     0.0        0.0     0.0  \n",
       "3              0.0              0.0     0.0        0.0     0.0  \n",
       "4              0.0              0.0     0.0        0.0     1.0  "
      ]
     },
     "execution_count": 15,
     "metadata": {},
     "output_type": "execute_result"
    }
   ],
   "source": [
    "labelled_master_data.head(5)"
   ]
  },
  {
   "cell_type": "code",
   "execution_count": 16,
   "metadata": {},
   "outputs": [
    {
     "data": {
      "text/plain": [
       "2017"
      ]
     },
     "execution_count": 16,
     "metadata": {},
     "output_type": "execute_result"
    }
   ],
   "source": [
    "len(labelled_master_data)"
   ]
  },
  {
   "cell_type": "code",
   "execution_count": null,
   "metadata": {},
   "outputs": [],
   "source": []
  }
 ],
 "metadata": {
  "kernelspec": {
   "display_name": "Python 3",
   "language": "python",
   "name": "python3"
  },
  "language_info": {
   "codemirror_mode": {
    "name": "ipython",
    "version": 3
   },
   "file_extension": ".py",
   "mimetype": "text/x-python",
   "name": "python",
   "nbconvert_exporter": "python",
   "pygments_lexer": "ipython3",
   "version": "3.8.3"
  }
 },
 "nbformat": 4,
 "nbformat_minor": 4
}
